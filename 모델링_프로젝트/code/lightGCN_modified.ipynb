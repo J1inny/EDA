{
  "nbformat": 4,
  "nbformat_minor": 0,
  "metadata": {
    "colab": {
      "provenance": [],
      "gpuType": "T4"
    },
    "kernelspec": {
      "name": "python3",
      "display_name": "Python 3"
    },
    "language_info": {
      "name": "python"
    },
    "accelerator": "GPU"
  },
  "cells": [
    {
      "cell_type": "code",
      "execution_count": 1,
      "metadata": {
        "id": "YM5jI1X35Lf0"
      },
      "outputs": [],
      "source": [
        "import os\n",
        "import time\n",
        "import numpy as np\n",
        "import pandas as pd\n",
        "import pickle\n",
        "from tqdm import tqdm\n",
        "from scipy import sparse as ssp\n",
        "\n",
        "import torch\n",
        "import torch.nn as nn\n",
        "import torch.optim as optim\n",
        "from torch.utils.data import Dataset\n",
        "from torch.utils.data import DataLoader\n",
        "import torch.backends.cudnn as cudnn\n",
        "\n",
        "from tqdm import tqdm\n",
        "import pandas as pd\n",
        "import numpy as np\n",
        "from sklearn.model_selection import train_test_split"
      ]
    },
    {
      "cell_type": "code",
      "source": [
        "from google.colab import drive\n",
        "drive.mount('/content/drive')"
      ],
      "metadata": {
        "colab": {
          "base_uri": "https://localhost:8080/"
        },
        "id": "1prNpHFUvaqI",
        "outputId": "b8b35ac4-7349-44df-fee0-118386b09b5a"
      },
      "execution_count": 2,
      "outputs": [
        {
          "output_type": "stream",
          "name": "stdout",
          "text": [
            "Mounted at /content/drive\n"
          ]
        }
      ]
    },
    {
      "cell_type": "code",
      "source": [
        "df = pd.read_csv('/content/drive/MyDrive/추천시스템/df_15.csv')\n",
        "df.head()\n",
        "\n",
        "ratings = df[['author_id','product_name','rating_user', 'skin_type', 'secondary_category']]\n",
        "\n",
        "\n",
        "ratings"
      ],
      "metadata": {
        "id": "B3ovoFx95jHx",
        "colab": {
          "base_uri": "https://localhost:8080/",
          "height": 423
        },
        "outputId": "0ff56a8f-d769-4239-db86-ecb3317997e5"
      },
      "execution_count": 4,
      "outputs": [
        {
          "output_type": "execute_result",
          "data": {
            "text/plain": [
              "         author_id                                       product_name  \\\n",
              "0      35439265952                 Soy Hydrating Gentle Face Cleanser   \n",
              "1      23201047799                 Soy Hydrating Gentle Face Cleanser   \n",
              "2       6559471539                 Soy Hydrating Gentle Face Cleanser   \n",
              "3      23048849960                 Soy Hydrating Gentle Face Cleanser   \n",
              "4       1405351453                 Soy Hydrating Gentle Face Cleanser   \n",
              "...            ...                                                ...   \n",
              "61694  33409016682  Multi Action Clear Acne Clearing Treatment Lot...   \n",
              "61695   2555611347  Multi Action Clear Acne Clearing Treatment Lot...   \n",
              "61696   6747641337  Multi Action Clear Acne Clearing Treatment Lot...   \n",
              "61697  12175422344  Multi Action Clear Acne Clearing Treatment Lot...   \n",
              "61698   1539813076  Multi Action Clear Acne Clearing Treatment Lot...   \n",
              "\n",
              "       rating_user    skin_type secondary_category  \n",
              "0                4  combination          Cleansers  \n",
              "1                1  combination          Cleansers  \n",
              "2                5  combination          Cleansers  \n",
              "3                3          dry          Cleansers  \n",
              "4                1       normal          Cleansers  \n",
              "...            ...          ...                ...  \n",
              "61694            5       normal         Treatments  \n",
              "61695            5          dry         Treatments  \n",
              "61696            5       normal         Treatments  \n",
              "61697            5       normal         Treatments  \n",
              "61698            5  combination         Treatments  \n",
              "\n",
              "[61699 rows x 5 columns]"
            ],
            "text/html": [
              "\n",
              "  <div id=\"df-6267f647-69ce-4799-82fc-a6053479d1b4\" class=\"colab-df-container\">\n",
              "    <div>\n",
              "<style scoped>\n",
              "    .dataframe tbody tr th:only-of-type {\n",
              "        vertical-align: middle;\n",
              "    }\n",
              "\n",
              "    .dataframe tbody tr th {\n",
              "        vertical-align: top;\n",
              "    }\n",
              "\n",
              "    .dataframe thead th {\n",
              "        text-align: right;\n",
              "    }\n",
              "</style>\n",
              "<table border=\"1\" class=\"dataframe\">\n",
              "  <thead>\n",
              "    <tr style=\"text-align: right;\">\n",
              "      <th></th>\n",
              "      <th>author_id</th>\n",
              "      <th>product_name</th>\n",
              "      <th>rating_user</th>\n",
              "      <th>skin_type</th>\n",
              "      <th>secondary_category</th>\n",
              "    </tr>\n",
              "  </thead>\n",
              "  <tbody>\n",
              "    <tr>\n",
              "      <th>0</th>\n",
              "      <td>35439265952</td>\n",
              "      <td>Soy Hydrating Gentle Face Cleanser</td>\n",
              "      <td>4</td>\n",
              "      <td>combination</td>\n",
              "      <td>Cleansers</td>\n",
              "    </tr>\n",
              "    <tr>\n",
              "      <th>1</th>\n",
              "      <td>23201047799</td>\n",
              "      <td>Soy Hydrating Gentle Face Cleanser</td>\n",
              "      <td>1</td>\n",
              "      <td>combination</td>\n",
              "      <td>Cleansers</td>\n",
              "    </tr>\n",
              "    <tr>\n",
              "      <th>2</th>\n",
              "      <td>6559471539</td>\n",
              "      <td>Soy Hydrating Gentle Face Cleanser</td>\n",
              "      <td>5</td>\n",
              "      <td>combination</td>\n",
              "      <td>Cleansers</td>\n",
              "    </tr>\n",
              "    <tr>\n",
              "      <th>3</th>\n",
              "      <td>23048849960</td>\n",
              "      <td>Soy Hydrating Gentle Face Cleanser</td>\n",
              "      <td>3</td>\n",
              "      <td>dry</td>\n",
              "      <td>Cleansers</td>\n",
              "    </tr>\n",
              "    <tr>\n",
              "      <th>4</th>\n",
              "      <td>1405351453</td>\n",
              "      <td>Soy Hydrating Gentle Face Cleanser</td>\n",
              "      <td>1</td>\n",
              "      <td>normal</td>\n",
              "      <td>Cleansers</td>\n",
              "    </tr>\n",
              "    <tr>\n",
              "      <th>...</th>\n",
              "      <td>...</td>\n",
              "      <td>...</td>\n",
              "      <td>...</td>\n",
              "      <td>...</td>\n",
              "      <td>...</td>\n",
              "    </tr>\n",
              "    <tr>\n",
              "      <th>61694</th>\n",
              "      <td>33409016682</td>\n",
              "      <td>Multi Action Clear Acne Clearing Treatment Lot...</td>\n",
              "      <td>5</td>\n",
              "      <td>normal</td>\n",
              "      <td>Treatments</td>\n",
              "    </tr>\n",
              "    <tr>\n",
              "      <th>61695</th>\n",
              "      <td>2555611347</td>\n",
              "      <td>Multi Action Clear Acne Clearing Treatment Lot...</td>\n",
              "      <td>5</td>\n",
              "      <td>dry</td>\n",
              "      <td>Treatments</td>\n",
              "    </tr>\n",
              "    <tr>\n",
              "      <th>61696</th>\n",
              "      <td>6747641337</td>\n",
              "      <td>Multi Action Clear Acne Clearing Treatment Lot...</td>\n",
              "      <td>5</td>\n",
              "      <td>normal</td>\n",
              "      <td>Treatments</td>\n",
              "    </tr>\n",
              "    <tr>\n",
              "      <th>61697</th>\n",
              "      <td>12175422344</td>\n",
              "      <td>Multi Action Clear Acne Clearing Treatment Lot...</td>\n",
              "      <td>5</td>\n",
              "      <td>normal</td>\n",
              "      <td>Treatments</td>\n",
              "    </tr>\n",
              "    <tr>\n",
              "      <th>61698</th>\n",
              "      <td>1539813076</td>\n",
              "      <td>Multi Action Clear Acne Clearing Treatment Lot...</td>\n",
              "      <td>5</td>\n",
              "      <td>combination</td>\n",
              "      <td>Treatments</td>\n",
              "    </tr>\n",
              "  </tbody>\n",
              "</table>\n",
              "<p>61699 rows × 5 columns</p>\n",
              "</div>\n",
              "    <div class=\"colab-df-buttons\">\n",
              "\n",
              "  <div class=\"colab-df-container\">\n",
              "    <button class=\"colab-df-convert\" onclick=\"convertToInteractive('df-6267f647-69ce-4799-82fc-a6053479d1b4')\"\n",
              "            title=\"Convert this dataframe to an interactive table.\"\n",
              "            style=\"display:none;\">\n",
              "\n",
              "  <svg xmlns=\"http://www.w3.org/2000/svg\" height=\"24px\" viewBox=\"0 -960 960 960\">\n",
              "    <path d=\"M120-120v-720h720v720H120Zm60-500h600v-160H180v160Zm220 220h160v-160H400v160Zm0 220h160v-160H400v160ZM180-400h160v-160H180v160Zm440 0h160v-160H620v160ZM180-180h160v-160H180v160Zm440 0h160v-160H620v160Z\"/>\n",
              "  </svg>\n",
              "    </button>\n",
              "\n",
              "  <style>\n",
              "    .colab-df-container {\n",
              "      display:flex;\n",
              "      gap: 12px;\n",
              "    }\n",
              "\n",
              "    .colab-df-convert {\n",
              "      background-color: #E8F0FE;\n",
              "      border: none;\n",
              "      border-radius: 50%;\n",
              "      cursor: pointer;\n",
              "      display: none;\n",
              "      fill: #1967D2;\n",
              "      height: 32px;\n",
              "      padding: 0 0 0 0;\n",
              "      width: 32px;\n",
              "    }\n",
              "\n",
              "    .colab-df-convert:hover {\n",
              "      background-color: #E2EBFA;\n",
              "      box-shadow: 0px 1px 2px rgba(60, 64, 67, 0.3), 0px 1px 3px 1px rgba(60, 64, 67, 0.15);\n",
              "      fill: #174EA6;\n",
              "    }\n",
              "\n",
              "    .colab-df-buttons div {\n",
              "      margin-bottom: 4px;\n",
              "    }\n",
              "\n",
              "    [theme=dark] .colab-df-convert {\n",
              "      background-color: #3B4455;\n",
              "      fill: #D2E3FC;\n",
              "    }\n",
              "\n",
              "    [theme=dark] .colab-df-convert:hover {\n",
              "      background-color: #434B5C;\n",
              "      box-shadow: 0px 1px 3px 1px rgba(0, 0, 0, 0.15);\n",
              "      filter: drop-shadow(0px 1px 2px rgba(0, 0, 0, 0.3));\n",
              "      fill: #FFFFFF;\n",
              "    }\n",
              "  </style>\n",
              "\n",
              "    <script>\n",
              "      const buttonEl =\n",
              "        document.querySelector('#df-6267f647-69ce-4799-82fc-a6053479d1b4 button.colab-df-convert');\n",
              "      buttonEl.style.display =\n",
              "        google.colab.kernel.accessAllowed ? 'block' : 'none';\n",
              "\n",
              "      async function convertToInteractive(key) {\n",
              "        const element = document.querySelector('#df-6267f647-69ce-4799-82fc-a6053479d1b4');\n",
              "        const dataTable =\n",
              "          await google.colab.kernel.invokeFunction('convertToInteractive',\n",
              "                                                    [key], {});\n",
              "        if (!dataTable) return;\n",
              "\n",
              "        const docLinkHtml = 'Like what you see? Visit the ' +\n",
              "          '<a target=\"_blank\" href=https://colab.research.google.com/notebooks/data_table.ipynb>data table notebook</a>'\n",
              "          + ' to learn more about interactive tables.';\n",
              "        element.innerHTML = '';\n",
              "        dataTable['output_type'] = 'display_data';\n",
              "        await google.colab.output.renderOutput(dataTable, element);\n",
              "        const docLink = document.createElement('div');\n",
              "        docLink.innerHTML = docLinkHtml;\n",
              "        element.appendChild(docLink);\n",
              "      }\n",
              "    </script>\n",
              "  </div>\n",
              "\n",
              "\n",
              "<div id=\"df-902f69cc-20bd-47a7-a856-0bfdfef5bc1d\">\n",
              "  <button class=\"colab-df-quickchart\" onclick=\"quickchart('df-902f69cc-20bd-47a7-a856-0bfdfef5bc1d')\"\n",
              "            title=\"Suggest charts\"\n",
              "            style=\"display:none;\">\n",
              "\n",
              "<svg xmlns=\"http://www.w3.org/2000/svg\" height=\"24px\"viewBox=\"0 0 24 24\"\n",
              "     width=\"24px\">\n",
              "    <g>\n",
              "        <path d=\"M19 3H5c-1.1 0-2 .9-2 2v14c0 1.1.9 2 2 2h14c1.1 0 2-.9 2-2V5c0-1.1-.9-2-2-2zM9 17H7v-7h2v7zm4 0h-2V7h2v10zm4 0h-2v-4h2v4z\"/>\n",
              "    </g>\n",
              "</svg>\n",
              "  </button>\n",
              "\n",
              "<style>\n",
              "  .colab-df-quickchart {\n",
              "      --bg-color: #E8F0FE;\n",
              "      --fill-color: #1967D2;\n",
              "      --hover-bg-color: #E2EBFA;\n",
              "      --hover-fill-color: #174EA6;\n",
              "      --disabled-fill-color: #AAA;\n",
              "      --disabled-bg-color: #DDD;\n",
              "  }\n",
              "\n",
              "  [theme=dark] .colab-df-quickchart {\n",
              "      --bg-color: #3B4455;\n",
              "      --fill-color: #D2E3FC;\n",
              "      --hover-bg-color: #434B5C;\n",
              "      --hover-fill-color: #FFFFFF;\n",
              "      --disabled-bg-color: #3B4455;\n",
              "      --disabled-fill-color: #666;\n",
              "  }\n",
              "\n",
              "  .colab-df-quickchart {\n",
              "    background-color: var(--bg-color);\n",
              "    border: none;\n",
              "    border-radius: 50%;\n",
              "    cursor: pointer;\n",
              "    display: none;\n",
              "    fill: var(--fill-color);\n",
              "    height: 32px;\n",
              "    padding: 0;\n",
              "    width: 32px;\n",
              "  }\n",
              "\n",
              "  .colab-df-quickchart:hover {\n",
              "    background-color: var(--hover-bg-color);\n",
              "    box-shadow: 0 1px 2px rgba(60, 64, 67, 0.3), 0 1px 3px 1px rgba(60, 64, 67, 0.15);\n",
              "    fill: var(--button-hover-fill-color);\n",
              "  }\n",
              "\n",
              "  .colab-df-quickchart-complete:disabled,\n",
              "  .colab-df-quickchart-complete:disabled:hover {\n",
              "    background-color: var(--disabled-bg-color);\n",
              "    fill: var(--disabled-fill-color);\n",
              "    box-shadow: none;\n",
              "  }\n",
              "\n",
              "  .colab-df-spinner {\n",
              "    border: 2px solid var(--fill-color);\n",
              "    border-color: transparent;\n",
              "    border-bottom-color: var(--fill-color);\n",
              "    animation:\n",
              "      spin 1s steps(1) infinite;\n",
              "  }\n",
              "\n",
              "  @keyframes spin {\n",
              "    0% {\n",
              "      border-color: transparent;\n",
              "      border-bottom-color: var(--fill-color);\n",
              "      border-left-color: var(--fill-color);\n",
              "    }\n",
              "    20% {\n",
              "      border-color: transparent;\n",
              "      border-left-color: var(--fill-color);\n",
              "      border-top-color: var(--fill-color);\n",
              "    }\n",
              "    30% {\n",
              "      border-color: transparent;\n",
              "      border-left-color: var(--fill-color);\n",
              "      border-top-color: var(--fill-color);\n",
              "      border-right-color: var(--fill-color);\n",
              "    }\n",
              "    40% {\n",
              "      border-color: transparent;\n",
              "      border-right-color: var(--fill-color);\n",
              "      border-top-color: var(--fill-color);\n",
              "    }\n",
              "    60% {\n",
              "      border-color: transparent;\n",
              "      border-right-color: var(--fill-color);\n",
              "    }\n",
              "    80% {\n",
              "      border-color: transparent;\n",
              "      border-right-color: var(--fill-color);\n",
              "      border-bottom-color: var(--fill-color);\n",
              "    }\n",
              "    90% {\n",
              "      border-color: transparent;\n",
              "      border-bottom-color: var(--fill-color);\n",
              "    }\n",
              "  }\n",
              "</style>\n",
              "\n",
              "  <script>\n",
              "    async function quickchart(key) {\n",
              "      const quickchartButtonEl =\n",
              "        document.querySelector('#' + key + ' button');\n",
              "      quickchartButtonEl.disabled = true;  // To prevent multiple clicks.\n",
              "      quickchartButtonEl.classList.add('colab-df-spinner');\n",
              "      try {\n",
              "        const charts = await google.colab.kernel.invokeFunction(\n",
              "            'suggestCharts', [key], {});\n",
              "      } catch (error) {\n",
              "        console.error('Error during call to suggestCharts:', error);\n",
              "      }\n",
              "      quickchartButtonEl.classList.remove('colab-df-spinner');\n",
              "      quickchartButtonEl.classList.add('colab-df-quickchart-complete');\n",
              "    }\n",
              "    (() => {\n",
              "      let quickchartButtonEl =\n",
              "        document.querySelector('#df-902f69cc-20bd-47a7-a856-0bfdfef5bc1d button');\n",
              "      quickchartButtonEl.style.display =\n",
              "        google.colab.kernel.accessAllowed ? 'block' : 'none';\n",
              "    })();\n",
              "  </script>\n",
              "</div>\n",
              "\n",
              "  <div id=\"id_ee64f5ba-35b9-44e0-b49f-eccc77d232f4\">\n",
              "    <style>\n",
              "      .colab-df-generate {\n",
              "        background-color: #E8F0FE;\n",
              "        border: none;\n",
              "        border-radius: 50%;\n",
              "        cursor: pointer;\n",
              "        display: none;\n",
              "        fill: #1967D2;\n",
              "        height: 32px;\n",
              "        padding: 0 0 0 0;\n",
              "        width: 32px;\n",
              "      }\n",
              "\n",
              "      .colab-df-generate:hover {\n",
              "        background-color: #E2EBFA;\n",
              "        box-shadow: 0px 1px 2px rgba(60, 64, 67, 0.3), 0px 1px 3px 1px rgba(60, 64, 67, 0.15);\n",
              "        fill: #174EA6;\n",
              "      }\n",
              "\n",
              "      [theme=dark] .colab-df-generate {\n",
              "        background-color: #3B4455;\n",
              "        fill: #D2E3FC;\n",
              "      }\n",
              "\n",
              "      [theme=dark] .colab-df-generate:hover {\n",
              "        background-color: #434B5C;\n",
              "        box-shadow: 0px 1px 3px 1px rgba(0, 0, 0, 0.15);\n",
              "        filter: drop-shadow(0px 1px 2px rgba(0, 0, 0, 0.3));\n",
              "        fill: #FFFFFF;\n",
              "      }\n",
              "    </style>\n",
              "    <button class=\"colab-df-generate\" onclick=\"generateWithVariable('ratings')\"\n",
              "            title=\"Generate code using this dataframe.\"\n",
              "            style=\"display:none;\">\n",
              "\n",
              "  <svg xmlns=\"http://www.w3.org/2000/svg\" height=\"24px\"viewBox=\"0 0 24 24\"\n",
              "       width=\"24px\">\n",
              "    <path d=\"M7,19H8.4L18.45,9,17,7.55,7,17.6ZM5,21V16.75L18.45,3.32a2,2,0,0,1,2.83,0l1.4,1.43a1.91,1.91,0,0,1,.58,1.4,1.91,1.91,0,0,1-.58,1.4L9.25,21ZM18.45,9,17,7.55Zm-12,3A5.31,5.31,0,0,0,4.9,8.1,5.31,5.31,0,0,0,1,6.5,5.31,5.31,0,0,0,4.9,4.9,5.31,5.31,0,0,0,6.5,1,5.31,5.31,0,0,0,8.1,4.9,5.31,5.31,0,0,0,12,6.5,5.46,5.46,0,0,0,6.5,12Z\"/>\n",
              "  </svg>\n",
              "    </button>\n",
              "    <script>\n",
              "      (() => {\n",
              "      const buttonEl =\n",
              "        document.querySelector('#id_ee64f5ba-35b9-44e0-b49f-eccc77d232f4 button.colab-df-generate');\n",
              "      buttonEl.style.display =\n",
              "        google.colab.kernel.accessAllowed ? 'block' : 'none';\n",
              "\n",
              "      buttonEl.onclick = () => {\n",
              "        google.colab.notebook.generateWithVariable('ratings');\n",
              "      }\n",
              "      })();\n",
              "    </script>\n",
              "  </div>\n",
              "\n",
              "    </div>\n",
              "  </div>\n"
            ],
            "application/vnd.google.colaboratory.intrinsic+json": {
              "type": "dataframe",
              "variable_name": "ratings",
              "summary": "{\n  \"name\": \"ratings\",\n  \"rows\": 61699,\n  \"fields\": [\n    {\n      \"column\": \"author_id\",\n      \"properties\": {\n        \"dtype\": \"category\",\n        \"num_unique_values\": 2264,\n        \"samples\": [\n          \"1653496031\",\n          \"29935812335\",\n          \"8687485776\"\n        ],\n        \"semantic_type\": \"\",\n        \"description\": \"\"\n      }\n    },\n    {\n      \"column\": \"product_name\",\n      \"properties\": {\n        \"dtype\": \"category\",\n        \"num_unique_values\": 1364,\n        \"samples\": [\n          \"SHIKULIME Gel-to-Oil Cleanser\",\n          \"Restorative Niacinamide Night Cream\",\n          \"Daily Blemish Repairing Moisturizer\"\n        ],\n        \"semantic_type\": \"\",\n        \"description\": \"\"\n      }\n    },\n    {\n      \"column\": \"rating_user\",\n      \"properties\": {\n        \"dtype\": \"number\",\n        \"std\": 0,\n        \"min\": 1,\n        \"max\": 5,\n        \"num_unique_values\": 5,\n        \"samples\": [\n          1,\n          2,\n          5\n        ],\n        \"semantic_type\": \"\",\n        \"description\": \"\"\n      }\n    },\n    {\n      \"column\": \"skin_type\",\n      \"properties\": {\n        \"dtype\": \"category\",\n        \"num_unique_values\": 4,\n        \"samples\": [\n          \"dry\",\n          \"oily\",\n          \"combination\"\n        ],\n        \"semantic_type\": \"\",\n        \"description\": \"\"\n      }\n    },\n    {\n      \"column\": \"secondary_category\",\n      \"properties\": {\n        \"dtype\": \"category\",\n        \"num_unique_values\": 9,\n        \"samples\": [\n          \"Wellness\",\n          \"Moisturizers\",\n          \"Self Tanners\"\n        ],\n        \"semantic_type\": \"\",\n        \"description\": \"\"\n      }\n    }\n  ]\n}"
            }
          },
          "metadata": {},
          "execution_count": 4
        }
      ]
    },
    {
      "cell_type": "code",
      "source": [
        "ratings = ratings.rename(columns= {'author_id' : 'user', 'product_name' : 'item', 'secondary_category' : 'category', 'rating_user': 'rating'})\n",
        "unique_users = ratings['user'].unique()\n",
        "unique_items = ratings['item'].unique()\n",
        "\n",
        "\n",
        "# 고유한 사용자, 피부 타입, 아이템, 카테고리\n",
        "unique_users = ratings['user'].unique()\n",
        "unique_items = ratings['item'].unique()\n",
        "unique_skin_types = ratings['skin_type'].unique()\n",
        "unique_categories = ratings['category'].unique()\n",
        "\n",
        "# 고유한 사용자, 피부 타입, 아이템, 카테고리 수 계싼\n",
        "n_users = ratings['user'].nunique()\n",
        "n_skin_types = ratings['skin_type'].nunique()\n",
        "n_items = ratings['item'].nunique()\n",
        "n_categories = ratings['category'].nunique()\n",
        "\n",
        "\n",
        "user2id = {user: idx for idx, user in enumerate(unique_users)} #유저 아이디를 인덱스 번호로 매핑\n",
        "id2user = {idx: user for idx, user in enumerate(unique_users)} #인덱스 번호를 유저 아이디로 매핑\n",
        "\n",
        "item2id = {item: idx for idx, item in enumerate(unique_items)} #아이템 아이디를 인덱스 번호로 매핑\n",
        "id2item = {idx: item for idx, item in enumerate(unique_items)} #인덱스 번호를 아이템 아이디로 매핑\n",
        "\n",
        "skin_type2id = {skin: idx for idx, skin in enumerate(unique_skin_types)}\n",
        "id2skin_type = {idx: skin for idx, skin in enumerate(unique_skin_types)}\n",
        "\n",
        "category2id = {cat: idx for idx, cat in enumerate(unique_categories)}\n",
        "id2category = {idx: cat for idx, cat in enumerate(unique_categories)}\n",
        "\n",
        "ratings['user'] = ratings['user'].map(user2id) #ratings dataframe에서, 유저를 인덱스 번호로 바꾸기\n",
        "ratings['item'] = ratings['item'].map(item2id) #ratings dataframe에서, 아이템을 인덱스 번호로 바꾸기\n",
        "ratings['skin_type'] = ratings['skin_type'].map(skin_type2id)\n",
        "ratings['category'] = ratings['category'].map(category2id)\n",
        "\n",
        "ratings_sorted = ratings.sort_values(by=['user'])\n",
        "ratings_sorted"
      ],
      "metadata": {
        "id": "LfIeN_5mWNqD",
        "colab": {
          "base_uri": "https://localhost:8080/",
          "height": 423
        },
        "outputId": "3db6616a-fc3e-4dff-ae2c-5bbcb8573773"
      },
      "execution_count": 5,
      "outputs": [
        {
          "output_type": "execute_result",
          "data": {
            "text/plain": [
              "       user  item  rating  skin_type  category\n",
              "0         0     0       4          0         0\n",
              "35934     0   467       4          0         3\n",
              "59993     0  1113       3          0         1\n",
              "60040     0  1115       5          0         3\n",
              "35689     0   462       3          0         1\n",
              "...     ...   ...     ...        ...       ...\n",
              "61633  2263  1332       5          1         2\n",
              "24861  2263   270       5          1         2\n",
              "26157  2263   286       5          1         2\n",
              "60048  2263  1118       5          1         0\n",
              "60679  2263  1174       5          1         3\n",
              "\n",
              "[61699 rows x 5 columns]"
            ],
            "text/html": [
              "\n",
              "  <div id=\"df-7c224cdc-7382-4c95-a2d6-26249d1b2945\" class=\"colab-df-container\">\n",
              "    <div>\n",
              "<style scoped>\n",
              "    .dataframe tbody tr th:only-of-type {\n",
              "        vertical-align: middle;\n",
              "    }\n",
              "\n",
              "    .dataframe tbody tr th {\n",
              "        vertical-align: top;\n",
              "    }\n",
              "\n",
              "    .dataframe thead th {\n",
              "        text-align: right;\n",
              "    }\n",
              "</style>\n",
              "<table border=\"1\" class=\"dataframe\">\n",
              "  <thead>\n",
              "    <tr style=\"text-align: right;\">\n",
              "      <th></th>\n",
              "      <th>user</th>\n",
              "      <th>item</th>\n",
              "      <th>rating</th>\n",
              "      <th>skin_type</th>\n",
              "      <th>category</th>\n",
              "    </tr>\n",
              "  </thead>\n",
              "  <tbody>\n",
              "    <tr>\n",
              "      <th>0</th>\n",
              "      <td>0</td>\n",
              "      <td>0</td>\n",
              "      <td>4</td>\n",
              "      <td>0</td>\n",
              "      <td>0</td>\n",
              "    </tr>\n",
              "    <tr>\n",
              "      <th>35934</th>\n",
              "      <td>0</td>\n",
              "      <td>467</td>\n",
              "      <td>4</td>\n",
              "      <td>0</td>\n",
              "      <td>3</td>\n",
              "    </tr>\n",
              "    <tr>\n",
              "      <th>59993</th>\n",
              "      <td>0</td>\n",
              "      <td>1113</td>\n",
              "      <td>3</td>\n",
              "      <td>0</td>\n",
              "      <td>1</td>\n",
              "    </tr>\n",
              "    <tr>\n",
              "      <th>60040</th>\n",
              "      <td>0</td>\n",
              "      <td>1115</td>\n",
              "      <td>5</td>\n",
              "      <td>0</td>\n",
              "      <td>3</td>\n",
              "    </tr>\n",
              "    <tr>\n",
              "      <th>35689</th>\n",
              "      <td>0</td>\n",
              "      <td>462</td>\n",
              "      <td>3</td>\n",
              "      <td>0</td>\n",
              "      <td>1</td>\n",
              "    </tr>\n",
              "    <tr>\n",
              "      <th>...</th>\n",
              "      <td>...</td>\n",
              "      <td>...</td>\n",
              "      <td>...</td>\n",
              "      <td>...</td>\n",
              "      <td>...</td>\n",
              "    </tr>\n",
              "    <tr>\n",
              "      <th>61633</th>\n",
              "      <td>2263</td>\n",
              "      <td>1332</td>\n",
              "      <td>5</td>\n",
              "      <td>1</td>\n",
              "      <td>2</td>\n",
              "    </tr>\n",
              "    <tr>\n",
              "      <th>24861</th>\n",
              "      <td>2263</td>\n",
              "      <td>270</td>\n",
              "      <td>5</td>\n",
              "      <td>1</td>\n",
              "      <td>2</td>\n",
              "    </tr>\n",
              "    <tr>\n",
              "      <th>26157</th>\n",
              "      <td>2263</td>\n",
              "      <td>286</td>\n",
              "      <td>5</td>\n",
              "      <td>1</td>\n",
              "      <td>2</td>\n",
              "    </tr>\n",
              "    <tr>\n",
              "      <th>60048</th>\n",
              "      <td>2263</td>\n",
              "      <td>1118</td>\n",
              "      <td>5</td>\n",
              "      <td>1</td>\n",
              "      <td>0</td>\n",
              "    </tr>\n",
              "    <tr>\n",
              "      <th>60679</th>\n",
              "      <td>2263</td>\n",
              "      <td>1174</td>\n",
              "      <td>5</td>\n",
              "      <td>1</td>\n",
              "      <td>3</td>\n",
              "    </tr>\n",
              "  </tbody>\n",
              "</table>\n",
              "<p>61699 rows × 5 columns</p>\n",
              "</div>\n",
              "    <div class=\"colab-df-buttons\">\n",
              "\n",
              "  <div class=\"colab-df-container\">\n",
              "    <button class=\"colab-df-convert\" onclick=\"convertToInteractive('df-7c224cdc-7382-4c95-a2d6-26249d1b2945')\"\n",
              "            title=\"Convert this dataframe to an interactive table.\"\n",
              "            style=\"display:none;\">\n",
              "\n",
              "  <svg xmlns=\"http://www.w3.org/2000/svg\" height=\"24px\" viewBox=\"0 -960 960 960\">\n",
              "    <path d=\"M120-120v-720h720v720H120Zm60-500h600v-160H180v160Zm220 220h160v-160H400v160Zm0 220h160v-160H400v160ZM180-400h160v-160H180v160Zm440 0h160v-160H620v160ZM180-180h160v-160H180v160Zm440 0h160v-160H620v160Z\"/>\n",
              "  </svg>\n",
              "    </button>\n",
              "\n",
              "  <style>\n",
              "    .colab-df-container {\n",
              "      display:flex;\n",
              "      gap: 12px;\n",
              "    }\n",
              "\n",
              "    .colab-df-convert {\n",
              "      background-color: #E8F0FE;\n",
              "      border: none;\n",
              "      border-radius: 50%;\n",
              "      cursor: pointer;\n",
              "      display: none;\n",
              "      fill: #1967D2;\n",
              "      height: 32px;\n",
              "      padding: 0 0 0 0;\n",
              "      width: 32px;\n",
              "    }\n",
              "\n",
              "    .colab-df-convert:hover {\n",
              "      background-color: #E2EBFA;\n",
              "      box-shadow: 0px 1px 2px rgba(60, 64, 67, 0.3), 0px 1px 3px 1px rgba(60, 64, 67, 0.15);\n",
              "      fill: #174EA6;\n",
              "    }\n",
              "\n",
              "    .colab-df-buttons div {\n",
              "      margin-bottom: 4px;\n",
              "    }\n",
              "\n",
              "    [theme=dark] .colab-df-convert {\n",
              "      background-color: #3B4455;\n",
              "      fill: #D2E3FC;\n",
              "    }\n",
              "\n",
              "    [theme=dark] .colab-df-convert:hover {\n",
              "      background-color: #434B5C;\n",
              "      box-shadow: 0px 1px 3px 1px rgba(0, 0, 0, 0.15);\n",
              "      filter: drop-shadow(0px 1px 2px rgba(0, 0, 0, 0.3));\n",
              "      fill: #FFFFFF;\n",
              "    }\n",
              "  </style>\n",
              "\n",
              "    <script>\n",
              "      const buttonEl =\n",
              "        document.querySelector('#df-7c224cdc-7382-4c95-a2d6-26249d1b2945 button.colab-df-convert');\n",
              "      buttonEl.style.display =\n",
              "        google.colab.kernel.accessAllowed ? 'block' : 'none';\n",
              "\n",
              "      async function convertToInteractive(key) {\n",
              "        const element = document.querySelector('#df-7c224cdc-7382-4c95-a2d6-26249d1b2945');\n",
              "        const dataTable =\n",
              "          await google.colab.kernel.invokeFunction('convertToInteractive',\n",
              "                                                    [key], {});\n",
              "        if (!dataTable) return;\n",
              "\n",
              "        const docLinkHtml = 'Like what you see? Visit the ' +\n",
              "          '<a target=\"_blank\" href=https://colab.research.google.com/notebooks/data_table.ipynb>data table notebook</a>'\n",
              "          + ' to learn more about interactive tables.';\n",
              "        element.innerHTML = '';\n",
              "        dataTable['output_type'] = 'display_data';\n",
              "        await google.colab.output.renderOutput(dataTable, element);\n",
              "        const docLink = document.createElement('div');\n",
              "        docLink.innerHTML = docLinkHtml;\n",
              "        element.appendChild(docLink);\n",
              "      }\n",
              "    </script>\n",
              "  </div>\n",
              "\n",
              "\n",
              "<div id=\"df-1b304e3c-b696-4308-ae5c-23bb23628f27\">\n",
              "  <button class=\"colab-df-quickchart\" onclick=\"quickchart('df-1b304e3c-b696-4308-ae5c-23bb23628f27')\"\n",
              "            title=\"Suggest charts\"\n",
              "            style=\"display:none;\">\n",
              "\n",
              "<svg xmlns=\"http://www.w3.org/2000/svg\" height=\"24px\"viewBox=\"0 0 24 24\"\n",
              "     width=\"24px\">\n",
              "    <g>\n",
              "        <path d=\"M19 3H5c-1.1 0-2 .9-2 2v14c0 1.1.9 2 2 2h14c1.1 0 2-.9 2-2V5c0-1.1-.9-2-2-2zM9 17H7v-7h2v7zm4 0h-2V7h2v10zm4 0h-2v-4h2v4z\"/>\n",
              "    </g>\n",
              "</svg>\n",
              "  </button>\n",
              "\n",
              "<style>\n",
              "  .colab-df-quickchart {\n",
              "      --bg-color: #E8F0FE;\n",
              "      --fill-color: #1967D2;\n",
              "      --hover-bg-color: #E2EBFA;\n",
              "      --hover-fill-color: #174EA6;\n",
              "      --disabled-fill-color: #AAA;\n",
              "      --disabled-bg-color: #DDD;\n",
              "  }\n",
              "\n",
              "  [theme=dark] .colab-df-quickchart {\n",
              "      --bg-color: #3B4455;\n",
              "      --fill-color: #D2E3FC;\n",
              "      --hover-bg-color: #434B5C;\n",
              "      --hover-fill-color: #FFFFFF;\n",
              "      --disabled-bg-color: #3B4455;\n",
              "      --disabled-fill-color: #666;\n",
              "  }\n",
              "\n",
              "  .colab-df-quickchart {\n",
              "    background-color: var(--bg-color);\n",
              "    border: none;\n",
              "    border-radius: 50%;\n",
              "    cursor: pointer;\n",
              "    display: none;\n",
              "    fill: var(--fill-color);\n",
              "    height: 32px;\n",
              "    padding: 0;\n",
              "    width: 32px;\n",
              "  }\n",
              "\n",
              "  .colab-df-quickchart:hover {\n",
              "    background-color: var(--hover-bg-color);\n",
              "    box-shadow: 0 1px 2px rgba(60, 64, 67, 0.3), 0 1px 3px 1px rgba(60, 64, 67, 0.15);\n",
              "    fill: var(--button-hover-fill-color);\n",
              "  }\n",
              "\n",
              "  .colab-df-quickchart-complete:disabled,\n",
              "  .colab-df-quickchart-complete:disabled:hover {\n",
              "    background-color: var(--disabled-bg-color);\n",
              "    fill: var(--disabled-fill-color);\n",
              "    box-shadow: none;\n",
              "  }\n",
              "\n",
              "  .colab-df-spinner {\n",
              "    border: 2px solid var(--fill-color);\n",
              "    border-color: transparent;\n",
              "    border-bottom-color: var(--fill-color);\n",
              "    animation:\n",
              "      spin 1s steps(1) infinite;\n",
              "  }\n",
              "\n",
              "  @keyframes spin {\n",
              "    0% {\n",
              "      border-color: transparent;\n",
              "      border-bottom-color: var(--fill-color);\n",
              "      border-left-color: var(--fill-color);\n",
              "    }\n",
              "    20% {\n",
              "      border-color: transparent;\n",
              "      border-left-color: var(--fill-color);\n",
              "      border-top-color: var(--fill-color);\n",
              "    }\n",
              "    30% {\n",
              "      border-color: transparent;\n",
              "      border-left-color: var(--fill-color);\n",
              "      border-top-color: var(--fill-color);\n",
              "      border-right-color: var(--fill-color);\n",
              "    }\n",
              "    40% {\n",
              "      border-color: transparent;\n",
              "      border-right-color: var(--fill-color);\n",
              "      border-top-color: var(--fill-color);\n",
              "    }\n",
              "    60% {\n",
              "      border-color: transparent;\n",
              "      border-right-color: var(--fill-color);\n",
              "    }\n",
              "    80% {\n",
              "      border-color: transparent;\n",
              "      border-right-color: var(--fill-color);\n",
              "      border-bottom-color: var(--fill-color);\n",
              "    }\n",
              "    90% {\n",
              "      border-color: transparent;\n",
              "      border-bottom-color: var(--fill-color);\n",
              "    }\n",
              "  }\n",
              "</style>\n",
              "\n",
              "  <script>\n",
              "    async function quickchart(key) {\n",
              "      const quickchartButtonEl =\n",
              "        document.querySelector('#' + key + ' button');\n",
              "      quickchartButtonEl.disabled = true;  // To prevent multiple clicks.\n",
              "      quickchartButtonEl.classList.add('colab-df-spinner');\n",
              "      try {\n",
              "        const charts = await google.colab.kernel.invokeFunction(\n",
              "            'suggestCharts', [key], {});\n",
              "      } catch (error) {\n",
              "        console.error('Error during call to suggestCharts:', error);\n",
              "      }\n",
              "      quickchartButtonEl.classList.remove('colab-df-spinner');\n",
              "      quickchartButtonEl.classList.add('colab-df-quickchart-complete');\n",
              "    }\n",
              "    (() => {\n",
              "      let quickchartButtonEl =\n",
              "        document.querySelector('#df-1b304e3c-b696-4308-ae5c-23bb23628f27 button');\n",
              "      quickchartButtonEl.style.display =\n",
              "        google.colab.kernel.accessAllowed ? 'block' : 'none';\n",
              "    })();\n",
              "  </script>\n",
              "</div>\n",
              "\n",
              "  <div id=\"id_086ba9b6-65d9-4ae8-9ed8-34ba2b6eef26\">\n",
              "    <style>\n",
              "      .colab-df-generate {\n",
              "        background-color: #E8F0FE;\n",
              "        border: none;\n",
              "        border-radius: 50%;\n",
              "        cursor: pointer;\n",
              "        display: none;\n",
              "        fill: #1967D2;\n",
              "        height: 32px;\n",
              "        padding: 0 0 0 0;\n",
              "        width: 32px;\n",
              "      }\n",
              "\n",
              "      .colab-df-generate:hover {\n",
              "        background-color: #E2EBFA;\n",
              "        box-shadow: 0px 1px 2px rgba(60, 64, 67, 0.3), 0px 1px 3px 1px rgba(60, 64, 67, 0.15);\n",
              "        fill: #174EA6;\n",
              "      }\n",
              "\n",
              "      [theme=dark] .colab-df-generate {\n",
              "        background-color: #3B4455;\n",
              "        fill: #D2E3FC;\n",
              "      }\n",
              "\n",
              "      [theme=dark] .colab-df-generate:hover {\n",
              "        background-color: #434B5C;\n",
              "        box-shadow: 0px 1px 3px 1px rgba(0, 0, 0, 0.15);\n",
              "        filter: drop-shadow(0px 1px 2px rgba(0, 0, 0, 0.3));\n",
              "        fill: #FFFFFF;\n",
              "      }\n",
              "    </style>\n",
              "    <button class=\"colab-df-generate\" onclick=\"generateWithVariable('ratings_sorted')\"\n",
              "            title=\"Generate code using this dataframe.\"\n",
              "            style=\"display:none;\">\n",
              "\n",
              "  <svg xmlns=\"http://www.w3.org/2000/svg\" height=\"24px\"viewBox=\"0 0 24 24\"\n",
              "       width=\"24px\">\n",
              "    <path d=\"M7,19H8.4L18.45,9,17,7.55,7,17.6ZM5,21V16.75L18.45,3.32a2,2,0,0,1,2.83,0l1.4,1.43a1.91,1.91,0,0,1,.58,1.4,1.91,1.91,0,0,1-.58,1.4L9.25,21ZM18.45,9,17,7.55Zm-12,3A5.31,5.31,0,0,0,4.9,8.1,5.31,5.31,0,0,0,1,6.5,5.31,5.31,0,0,0,4.9,4.9,5.31,5.31,0,0,0,6.5,1,5.31,5.31,0,0,0,8.1,4.9,5.31,5.31,0,0,0,12,6.5,5.46,5.46,0,0,0,6.5,12Z\"/>\n",
              "  </svg>\n",
              "    </button>\n",
              "    <script>\n",
              "      (() => {\n",
              "      const buttonEl =\n",
              "        document.querySelector('#id_086ba9b6-65d9-4ae8-9ed8-34ba2b6eef26 button.colab-df-generate');\n",
              "      buttonEl.style.display =\n",
              "        google.colab.kernel.accessAllowed ? 'block' : 'none';\n",
              "\n",
              "      buttonEl.onclick = () => {\n",
              "        google.colab.notebook.generateWithVariable('ratings_sorted');\n",
              "      }\n",
              "      })();\n",
              "    </script>\n",
              "  </div>\n",
              "\n",
              "    </div>\n",
              "  </div>\n"
            ],
            "application/vnd.google.colaboratory.intrinsic+json": {
              "type": "dataframe",
              "variable_name": "ratings_sorted",
              "summary": "{\n  \"name\": \"ratings_sorted\",\n  \"rows\": 61699,\n  \"fields\": [\n    {\n      \"column\": \"user\",\n      \"properties\": {\n        \"dtype\": \"number\",\n        \"std\": 633,\n        \"min\": 0,\n        \"max\": 2263,\n        \"num_unique_values\": 2264,\n        \"samples\": [\n          1755,\n          1281,\n          350\n        ],\n        \"semantic_type\": \"\",\n        \"description\": \"\"\n      }\n    },\n    {\n      \"column\": \"item\",\n      \"properties\": {\n        \"dtype\": \"number\",\n        \"std\": 326,\n        \"min\": 0,\n        \"max\": 1363,\n        \"num_unique_values\": 1364,\n        \"samples\": [\n          233,\n          1294,\n          984\n        ],\n        \"semantic_type\": \"\",\n        \"description\": \"\"\n      }\n    },\n    {\n      \"column\": \"rating\",\n      \"properties\": {\n        \"dtype\": \"number\",\n        \"std\": 0,\n        \"min\": 1,\n        \"max\": 5,\n        \"num_unique_values\": 5,\n        \"samples\": [\n          3,\n          1,\n          5\n        ],\n        \"semantic_type\": \"\",\n        \"description\": \"\"\n      }\n    },\n    {\n      \"column\": \"skin_type\",\n      \"properties\": {\n        \"dtype\": \"number\",\n        \"std\": 1,\n        \"min\": 0,\n        \"max\": 3,\n        \"num_unique_values\": 4,\n        \"samples\": [\n          1,\n          3,\n          0\n        ],\n        \"semantic_type\": \"\",\n        \"description\": \"\"\n      }\n    },\n    {\n      \"column\": \"category\",\n      \"properties\": {\n        \"dtype\": \"number\",\n        \"std\": 1,\n        \"min\": 0,\n        \"max\": 8,\n        \"num_unique_values\": 9,\n        \"samples\": [\n          7,\n          3,\n          5\n        ],\n        \"semantic_type\": \"\",\n        \"description\": \"\"\n      }\n    }\n  ]\n}"
            }
          },
          "metadata": {},
          "execution_count": 5
        }
      ]
    },
    {
      "cell_type": "code",
      "source": [
        "# 각 유저별로 train, validation, test 데이터로 분할 (8:1:1 비율)\n",
        "train, temp = train_test_split(ratings_sorted, test_size=0.2, stratify=ratings_sorted['user'], random_state=42)\n",
        "val, test = train_test_split(temp, test_size=0.5, stratify=temp['user'], random_state=42)"
      ],
      "metadata": {
        "id": "gNk7nf127Ngq"
      },
      "execution_count": 6,
      "outputs": []
    },
    {
      "cell_type": "code",
      "source": [
        "train"
      ],
      "metadata": {
        "colab": {
          "base_uri": "https://localhost:8080/",
          "height": 423
        },
        "id": "HC-H-LDg98tT",
        "outputId": "e8a986be-0493-4634-a2d5-8e0f4c2720c3"
      },
      "execution_count": 7,
      "outputs": [
        {
          "output_type": "execute_result",
          "data": {
            "text/plain": [
              "       user  item  rating  skin_type  category\n",
              "25728  1117   282       4          3         2\n",
              "4206   1387    24       5          0         1\n",
              "2181   1389    12       5          0         0\n",
              "31355   875   385       5          1         6\n",
              "41810  1746   586       5          0         2\n",
              "...     ...   ...     ...        ...       ...\n",
              "36825  1918   483       5          0         0\n",
              "28110   581   317       5          0         1\n",
              "2608    718    15       5          1         3\n",
              "33486   860   412       4          1         1\n",
              "20014  2054   213       5          2         2\n",
              "\n",
              "[49359 rows x 5 columns]"
            ],
            "text/html": [
              "\n",
              "  <div id=\"df-2303ebde-178b-4220-88a3-387bbf711bdb\" class=\"colab-df-container\">\n",
              "    <div>\n",
              "<style scoped>\n",
              "    .dataframe tbody tr th:only-of-type {\n",
              "        vertical-align: middle;\n",
              "    }\n",
              "\n",
              "    .dataframe tbody tr th {\n",
              "        vertical-align: top;\n",
              "    }\n",
              "\n",
              "    .dataframe thead th {\n",
              "        text-align: right;\n",
              "    }\n",
              "</style>\n",
              "<table border=\"1\" class=\"dataframe\">\n",
              "  <thead>\n",
              "    <tr style=\"text-align: right;\">\n",
              "      <th></th>\n",
              "      <th>user</th>\n",
              "      <th>item</th>\n",
              "      <th>rating</th>\n",
              "      <th>skin_type</th>\n",
              "      <th>category</th>\n",
              "    </tr>\n",
              "  </thead>\n",
              "  <tbody>\n",
              "    <tr>\n",
              "      <th>25728</th>\n",
              "      <td>1117</td>\n",
              "      <td>282</td>\n",
              "      <td>4</td>\n",
              "      <td>3</td>\n",
              "      <td>2</td>\n",
              "    </tr>\n",
              "    <tr>\n",
              "      <th>4206</th>\n",
              "      <td>1387</td>\n",
              "      <td>24</td>\n",
              "      <td>5</td>\n",
              "      <td>0</td>\n",
              "      <td>1</td>\n",
              "    </tr>\n",
              "    <tr>\n",
              "      <th>2181</th>\n",
              "      <td>1389</td>\n",
              "      <td>12</td>\n",
              "      <td>5</td>\n",
              "      <td>0</td>\n",
              "      <td>0</td>\n",
              "    </tr>\n",
              "    <tr>\n",
              "      <th>31355</th>\n",
              "      <td>875</td>\n",
              "      <td>385</td>\n",
              "      <td>5</td>\n",
              "      <td>1</td>\n",
              "      <td>6</td>\n",
              "    </tr>\n",
              "    <tr>\n",
              "      <th>41810</th>\n",
              "      <td>1746</td>\n",
              "      <td>586</td>\n",
              "      <td>5</td>\n",
              "      <td>0</td>\n",
              "      <td>2</td>\n",
              "    </tr>\n",
              "    <tr>\n",
              "      <th>...</th>\n",
              "      <td>...</td>\n",
              "      <td>...</td>\n",
              "      <td>...</td>\n",
              "      <td>...</td>\n",
              "      <td>...</td>\n",
              "    </tr>\n",
              "    <tr>\n",
              "      <th>36825</th>\n",
              "      <td>1918</td>\n",
              "      <td>483</td>\n",
              "      <td>5</td>\n",
              "      <td>0</td>\n",
              "      <td>0</td>\n",
              "    </tr>\n",
              "    <tr>\n",
              "      <th>28110</th>\n",
              "      <td>581</td>\n",
              "      <td>317</td>\n",
              "      <td>5</td>\n",
              "      <td>0</td>\n",
              "      <td>1</td>\n",
              "    </tr>\n",
              "    <tr>\n",
              "      <th>2608</th>\n",
              "      <td>718</td>\n",
              "      <td>15</td>\n",
              "      <td>5</td>\n",
              "      <td>1</td>\n",
              "      <td>3</td>\n",
              "    </tr>\n",
              "    <tr>\n",
              "      <th>33486</th>\n",
              "      <td>860</td>\n",
              "      <td>412</td>\n",
              "      <td>4</td>\n",
              "      <td>1</td>\n",
              "      <td>1</td>\n",
              "    </tr>\n",
              "    <tr>\n",
              "      <th>20014</th>\n",
              "      <td>2054</td>\n",
              "      <td>213</td>\n",
              "      <td>5</td>\n",
              "      <td>2</td>\n",
              "      <td>2</td>\n",
              "    </tr>\n",
              "  </tbody>\n",
              "</table>\n",
              "<p>49359 rows × 5 columns</p>\n",
              "</div>\n",
              "    <div class=\"colab-df-buttons\">\n",
              "\n",
              "  <div class=\"colab-df-container\">\n",
              "    <button class=\"colab-df-convert\" onclick=\"convertToInteractive('df-2303ebde-178b-4220-88a3-387bbf711bdb')\"\n",
              "            title=\"Convert this dataframe to an interactive table.\"\n",
              "            style=\"display:none;\">\n",
              "\n",
              "  <svg xmlns=\"http://www.w3.org/2000/svg\" height=\"24px\" viewBox=\"0 -960 960 960\">\n",
              "    <path d=\"M120-120v-720h720v720H120Zm60-500h600v-160H180v160Zm220 220h160v-160H400v160Zm0 220h160v-160H400v160ZM180-400h160v-160H180v160Zm440 0h160v-160H620v160ZM180-180h160v-160H180v160Zm440 0h160v-160H620v160Z\"/>\n",
              "  </svg>\n",
              "    </button>\n",
              "\n",
              "  <style>\n",
              "    .colab-df-container {\n",
              "      display:flex;\n",
              "      gap: 12px;\n",
              "    }\n",
              "\n",
              "    .colab-df-convert {\n",
              "      background-color: #E8F0FE;\n",
              "      border: none;\n",
              "      border-radius: 50%;\n",
              "      cursor: pointer;\n",
              "      display: none;\n",
              "      fill: #1967D2;\n",
              "      height: 32px;\n",
              "      padding: 0 0 0 0;\n",
              "      width: 32px;\n",
              "    }\n",
              "\n",
              "    .colab-df-convert:hover {\n",
              "      background-color: #E2EBFA;\n",
              "      box-shadow: 0px 1px 2px rgba(60, 64, 67, 0.3), 0px 1px 3px 1px rgba(60, 64, 67, 0.15);\n",
              "      fill: #174EA6;\n",
              "    }\n",
              "\n",
              "    .colab-df-buttons div {\n",
              "      margin-bottom: 4px;\n",
              "    }\n",
              "\n",
              "    [theme=dark] .colab-df-convert {\n",
              "      background-color: #3B4455;\n",
              "      fill: #D2E3FC;\n",
              "    }\n",
              "\n",
              "    [theme=dark] .colab-df-convert:hover {\n",
              "      background-color: #434B5C;\n",
              "      box-shadow: 0px 1px 3px 1px rgba(0, 0, 0, 0.15);\n",
              "      filter: drop-shadow(0px 1px 2px rgba(0, 0, 0, 0.3));\n",
              "      fill: #FFFFFF;\n",
              "    }\n",
              "  </style>\n",
              "\n",
              "    <script>\n",
              "      const buttonEl =\n",
              "        document.querySelector('#df-2303ebde-178b-4220-88a3-387bbf711bdb button.colab-df-convert');\n",
              "      buttonEl.style.display =\n",
              "        google.colab.kernel.accessAllowed ? 'block' : 'none';\n",
              "\n",
              "      async function convertToInteractive(key) {\n",
              "        const element = document.querySelector('#df-2303ebde-178b-4220-88a3-387bbf711bdb');\n",
              "        const dataTable =\n",
              "          await google.colab.kernel.invokeFunction('convertToInteractive',\n",
              "                                                    [key], {});\n",
              "        if (!dataTable) return;\n",
              "\n",
              "        const docLinkHtml = 'Like what you see? Visit the ' +\n",
              "          '<a target=\"_blank\" href=https://colab.research.google.com/notebooks/data_table.ipynb>data table notebook</a>'\n",
              "          + ' to learn more about interactive tables.';\n",
              "        element.innerHTML = '';\n",
              "        dataTable['output_type'] = 'display_data';\n",
              "        await google.colab.output.renderOutput(dataTable, element);\n",
              "        const docLink = document.createElement('div');\n",
              "        docLink.innerHTML = docLinkHtml;\n",
              "        element.appendChild(docLink);\n",
              "      }\n",
              "    </script>\n",
              "  </div>\n",
              "\n",
              "\n",
              "<div id=\"df-a9411842-49b0-4a6e-8339-a5ddab9ac027\">\n",
              "  <button class=\"colab-df-quickchart\" onclick=\"quickchart('df-a9411842-49b0-4a6e-8339-a5ddab9ac027')\"\n",
              "            title=\"Suggest charts\"\n",
              "            style=\"display:none;\">\n",
              "\n",
              "<svg xmlns=\"http://www.w3.org/2000/svg\" height=\"24px\"viewBox=\"0 0 24 24\"\n",
              "     width=\"24px\">\n",
              "    <g>\n",
              "        <path d=\"M19 3H5c-1.1 0-2 .9-2 2v14c0 1.1.9 2 2 2h14c1.1 0 2-.9 2-2V5c0-1.1-.9-2-2-2zM9 17H7v-7h2v7zm4 0h-2V7h2v10zm4 0h-2v-4h2v4z\"/>\n",
              "    </g>\n",
              "</svg>\n",
              "  </button>\n",
              "\n",
              "<style>\n",
              "  .colab-df-quickchart {\n",
              "      --bg-color: #E8F0FE;\n",
              "      --fill-color: #1967D2;\n",
              "      --hover-bg-color: #E2EBFA;\n",
              "      --hover-fill-color: #174EA6;\n",
              "      --disabled-fill-color: #AAA;\n",
              "      --disabled-bg-color: #DDD;\n",
              "  }\n",
              "\n",
              "  [theme=dark] .colab-df-quickchart {\n",
              "      --bg-color: #3B4455;\n",
              "      --fill-color: #D2E3FC;\n",
              "      --hover-bg-color: #434B5C;\n",
              "      --hover-fill-color: #FFFFFF;\n",
              "      --disabled-bg-color: #3B4455;\n",
              "      --disabled-fill-color: #666;\n",
              "  }\n",
              "\n",
              "  .colab-df-quickchart {\n",
              "    background-color: var(--bg-color);\n",
              "    border: none;\n",
              "    border-radius: 50%;\n",
              "    cursor: pointer;\n",
              "    display: none;\n",
              "    fill: var(--fill-color);\n",
              "    height: 32px;\n",
              "    padding: 0;\n",
              "    width: 32px;\n",
              "  }\n",
              "\n",
              "  .colab-df-quickchart:hover {\n",
              "    background-color: var(--hover-bg-color);\n",
              "    box-shadow: 0 1px 2px rgba(60, 64, 67, 0.3), 0 1px 3px 1px rgba(60, 64, 67, 0.15);\n",
              "    fill: var(--button-hover-fill-color);\n",
              "  }\n",
              "\n",
              "  .colab-df-quickchart-complete:disabled,\n",
              "  .colab-df-quickchart-complete:disabled:hover {\n",
              "    background-color: var(--disabled-bg-color);\n",
              "    fill: var(--disabled-fill-color);\n",
              "    box-shadow: none;\n",
              "  }\n",
              "\n",
              "  .colab-df-spinner {\n",
              "    border: 2px solid var(--fill-color);\n",
              "    border-color: transparent;\n",
              "    border-bottom-color: var(--fill-color);\n",
              "    animation:\n",
              "      spin 1s steps(1) infinite;\n",
              "  }\n",
              "\n",
              "  @keyframes spin {\n",
              "    0% {\n",
              "      border-color: transparent;\n",
              "      border-bottom-color: var(--fill-color);\n",
              "      border-left-color: var(--fill-color);\n",
              "    }\n",
              "    20% {\n",
              "      border-color: transparent;\n",
              "      border-left-color: var(--fill-color);\n",
              "      border-top-color: var(--fill-color);\n",
              "    }\n",
              "    30% {\n",
              "      border-color: transparent;\n",
              "      border-left-color: var(--fill-color);\n",
              "      border-top-color: var(--fill-color);\n",
              "      border-right-color: var(--fill-color);\n",
              "    }\n",
              "    40% {\n",
              "      border-color: transparent;\n",
              "      border-right-color: var(--fill-color);\n",
              "      border-top-color: var(--fill-color);\n",
              "    }\n",
              "    60% {\n",
              "      border-color: transparent;\n",
              "      border-right-color: var(--fill-color);\n",
              "    }\n",
              "    80% {\n",
              "      border-color: transparent;\n",
              "      border-right-color: var(--fill-color);\n",
              "      border-bottom-color: var(--fill-color);\n",
              "    }\n",
              "    90% {\n",
              "      border-color: transparent;\n",
              "      border-bottom-color: var(--fill-color);\n",
              "    }\n",
              "  }\n",
              "</style>\n",
              "\n",
              "  <script>\n",
              "    async function quickchart(key) {\n",
              "      const quickchartButtonEl =\n",
              "        document.querySelector('#' + key + ' button');\n",
              "      quickchartButtonEl.disabled = true;  // To prevent multiple clicks.\n",
              "      quickchartButtonEl.classList.add('colab-df-spinner');\n",
              "      try {\n",
              "        const charts = await google.colab.kernel.invokeFunction(\n",
              "            'suggestCharts', [key], {});\n",
              "      } catch (error) {\n",
              "        console.error('Error during call to suggestCharts:', error);\n",
              "      }\n",
              "      quickchartButtonEl.classList.remove('colab-df-spinner');\n",
              "      quickchartButtonEl.classList.add('colab-df-quickchart-complete');\n",
              "    }\n",
              "    (() => {\n",
              "      let quickchartButtonEl =\n",
              "        document.querySelector('#df-a9411842-49b0-4a6e-8339-a5ddab9ac027 button');\n",
              "      quickchartButtonEl.style.display =\n",
              "        google.colab.kernel.accessAllowed ? 'block' : 'none';\n",
              "    })();\n",
              "  </script>\n",
              "</div>\n",
              "\n",
              "  <div id=\"id_0d67745c-c9fd-4a34-abdb-b8b20f02a022\">\n",
              "    <style>\n",
              "      .colab-df-generate {\n",
              "        background-color: #E8F0FE;\n",
              "        border: none;\n",
              "        border-radius: 50%;\n",
              "        cursor: pointer;\n",
              "        display: none;\n",
              "        fill: #1967D2;\n",
              "        height: 32px;\n",
              "        padding: 0 0 0 0;\n",
              "        width: 32px;\n",
              "      }\n",
              "\n",
              "      .colab-df-generate:hover {\n",
              "        background-color: #E2EBFA;\n",
              "        box-shadow: 0px 1px 2px rgba(60, 64, 67, 0.3), 0px 1px 3px 1px rgba(60, 64, 67, 0.15);\n",
              "        fill: #174EA6;\n",
              "      }\n",
              "\n",
              "      [theme=dark] .colab-df-generate {\n",
              "        background-color: #3B4455;\n",
              "        fill: #D2E3FC;\n",
              "      }\n",
              "\n",
              "      [theme=dark] .colab-df-generate:hover {\n",
              "        background-color: #434B5C;\n",
              "        box-shadow: 0px 1px 3px 1px rgba(0, 0, 0, 0.15);\n",
              "        filter: drop-shadow(0px 1px 2px rgba(0, 0, 0, 0.3));\n",
              "        fill: #FFFFFF;\n",
              "      }\n",
              "    </style>\n",
              "    <button class=\"colab-df-generate\" onclick=\"generateWithVariable('train')\"\n",
              "            title=\"Generate code using this dataframe.\"\n",
              "            style=\"display:none;\">\n",
              "\n",
              "  <svg xmlns=\"http://www.w3.org/2000/svg\" height=\"24px\"viewBox=\"0 0 24 24\"\n",
              "       width=\"24px\">\n",
              "    <path d=\"M7,19H8.4L18.45,9,17,7.55,7,17.6ZM5,21V16.75L18.45,3.32a2,2,0,0,1,2.83,0l1.4,1.43a1.91,1.91,0,0,1,.58,1.4,1.91,1.91,0,0,1-.58,1.4L9.25,21ZM18.45,9,17,7.55Zm-12,3A5.31,5.31,0,0,0,4.9,8.1,5.31,5.31,0,0,0,1,6.5,5.31,5.31,0,0,0,4.9,4.9,5.31,5.31,0,0,0,6.5,1,5.31,5.31,0,0,0,8.1,4.9,5.31,5.31,0,0,0,12,6.5,5.46,5.46,0,0,0,6.5,12Z\"/>\n",
              "  </svg>\n",
              "    </button>\n",
              "    <script>\n",
              "      (() => {\n",
              "      const buttonEl =\n",
              "        document.querySelector('#id_0d67745c-c9fd-4a34-abdb-b8b20f02a022 button.colab-df-generate');\n",
              "      buttonEl.style.display =\n",
              "        google.colab.kernel.accessAllowed ? 'block' : 'none';\n",
              "\n",
              "      buttonEl.onclick = () => {\n",
              "        google.colab.notebook.generateWithVariable('train');\n",
              "      }\n",
              "      })();\n",
              "    </script>\n",
              "  </div>\n",
              "\n",
              "    </div>\n",
              "  </div>\n"
            ],
            "application/vnd.google.colaboratory.intrinsic+json": {
              "type": "dataframe",
              "variable_name": "train",
              "summary": "{\n  \"name\": \"train\",\n  \"rows\": 49359,\n  \"fields\": [\n    {\n      \"column\": \"user\",\n      \"properties\": {\n        \"dtype\": \"number\",\n        \"std\": 633,\n        \"min\": 0,\n        \"max\": 2263,\n        \"num_unique_values\": 2264,\n        \"samples\": [\n          555,\n          106,\n          274\n        ],\n        \"semantic_type\": \"\",\n        \"description\": \"\"\n      }\n    },\n    {\n      \"column\": \"item\",\n      \"properties\": {\n        \"dtype\": \"number\",\n        \"std\": 326,\n        \"min\": 0,\n        \"max\": 1363,\n        \"num_unique_values\": 1340,\n        \"samples\": [\n          465,\n          1002,\n          580\n        ],\n        \"semantic_type\": \"\",\n        \"description\": \"\"\n      }\n    },\n    {\n      \"column\": \"rating\",\n      \"properties\": {\n        \"dtype\": \"number\",\n        \"std\": 0,\n        \"min\": 1,\n        \"max\": 5,\n        \"num_unique_values\": 5,\n        \"samples\": [\n          5,\n          1,\n          3\n        ],\n        \"semantic_type\": \"\",\n        \"description\": \"\"\n      }\n    },\n    {\n      \"column\": \"skin_type\",\n      \"properties\": {\n        \"dtype\": \"number\",\n        \"std\": 1,\n        \"min\": 0,\n        \"max\": 3,\n        \"num_unique_values\": 4,\n        \"samples\": [\n          0,\n          2,\n          3\n        ],\n        \"semantic_type\": \"\",\n        \"description\": \"\"\n      }\n    },\n    {\n      \"column\": \"category\",\n      \"properties\": {\n        \"dtype\": \"number\",\n        \"std\": 1,\n        \"min\": 0,\n        \"max\": 8,\n        \"num_unique_values\": 9,\n        \"samples\": [\n          4,\n          1,\n          5\n        ],\n        \"semantic_type\": \"\",\n        \"description\": \"\"\n      }\n    }\n  ]\n}"
            }
          },
          "metadata": {},
          "execution_count": 7
        }
      ]
    },
    {
      "cell_type": "code",
      "source": [
        "all_items = ratings_sorted['item'].unique()"
      ],
      "metadata": {
        "id": "s3WgJzO67hZS"
      },
      "execution_count": 8,
      "outputs": []
    },
    {
      "cell_type": "code",
      "source": [
        "import pickle"
      ],
      "metadata": {
        "id": "dgjjWN0x7PPZ"
      },
      "execution_count": 9,
      "outputs": []
    },
    {
      "cell_type": "code",
      "source": [
        "ratings['rating']"
      ],
      "metadata": {
        "colab": {
          "base_uri": "https://localhost:8080/",
          "height": 458
        },
        "id": "Hs2H46-TKWjO",
        "outputId": "483943bc-f6eb-4294-8273-51b13b4be8fd"
      },
      "execution_count": 10,
      "outputs": [
        {
          "output_type": "execute_result",
          "data": {
            "text/plain": [
              "0        4\n",
              "1        1\n",
              "2        5\n",
              "3        3\n",
              "4        1\n",
              "        ..\n",
              "61694    5\n",
              "61695    5\n",
              "61696    5\n",
              "61697    5\n",
              "61698    5\n",
              "Name: rating, Length: 61699, dtype: int64"
            ],
            "text/html": [
              "<div>\n",
              "<style scoped>\n",
              "    .dataframe tbody tr th:only-of-type {\n",
              "        vertical-align: middle;\n",
              "    }\n",
              "\n",
              "    .dataframe tbody tr th {\n",
              "        vertical-align: top;\n",
              "    }\n",
              "\n",
              "    .dataframe thead th {\n",
              "        text-align: right;\n",
              "    }\n",
              "</style>\n",
              "<table border=\"1\" class=\"dataframe\">\n",
              "  <thead>\n",
              "    <tr style=\"text-align: right;\">\n",
              "      <th></th>\n",
              "      <th>rating</th>\n",
              "    </tr>\n",
              "  </thead>\n",
              "  <tbody>\n",
              "    <tr>\n",
              "      <th>0</th>\n",
              "      <td>4</td>\n",
              "    </tr>\n",
              "    <tr>\n",
              "      <th>1</th>\n",
              "      <td>1</td>\n",
              "    </tr>\n",
              "    <tr>\n",
              "      <th>2</th>\n",
              "      <td>5</td>\n",
              "    </tr>\n",
              "    <tr>\n",
              "      <th>3</th>\n",
              "      <td>3</td>\n",
              "    </tr>\n",
              "    <tr>\n",
              "      <th>4</th>\n",
              "      <td>1</td>\n",
              "    </tr>\n",
              "    <tr>\n",
              "      <th>...</th>\n",
              "      <td>...</td>\n",
              "    </tr>\n",
              "    <tr>\n",
              "      <th>61694</th>\n",
              "      <td>5</td>\n",
              "    </tr>\n",
              "    <tr>\n",
              "      <th>61695</th>\n",
              "      <td>5</td>\n",
              "    </tr>\n",
              "    <tr>\n",
              "      <th>61696</th>\n",
              "      <td>5</td>\n",
              "    </tr>\n",
              "    <tr>\n",
              "      <th>61697</th>\n",
              "      <td>5</td>\n",
              "    </tr>\n",
              "    <tr>\n",
              "      <th>61698</th>\n",
              "      <td>5</td>\n",
              "    </tr>\n",
              "  </tbody>\n",
              "</table>\n",
              "<p>61699 rows × 1 columns</p>\n",
              "</div><br><label><b>dtype:</b> int64</label>"
            ]
          },
          "metadata": {},
          "execution_count": 10
        }
      ]
    },
    {
      "cell_type": "code",
      "source": [
        "result = {\n",
        "    \"train\": train,\n",
        "    \"val\": val,\n",
        "    \"test\": test,\n",
        "    \"all_items\": all_items,\n",
        "    \"user2id\": user2id,\n",
        "    \"id2user\": id2user,\n",
        "    \"item2id\": item2id,\n",
        "    \"id2item\": id2item,\n",
        "    \"category2id\" : category2id,\n",
        "    \"id2category\" : id2category,\n",
        "    \"skin_type2id\" : skin_type2id,\n",
        "    \"id2skin_type\" :id2skin_type\n",
        "}"
      ],
      "metadata": {
        "id": "3ZDq36hd7YPb"
      },
      "execution_count": 11,
      "outputs": []
    },
    {
      "cell_type": "code",
      "source": [
        "with open('ml-100k_splited.pkl', 'wb') as f:\n",
        "    pickle.dump(result, f)"
      ],
      "metadata": {
        "id": "OVBYiS_n7k8e"
      },
      "execution_count": 12,
      "outputs": []
    },
    {
      "cell_type": "code",
      "source": [],
      "metadata": {
        "id": "pIamLkxB7oWB"
      },
      "execution_count": 12,
      "outputs": []
    },
    {
      "cell_type": "code",
      "source": [
        "device = torch.device(\"cuda\" if torch.cuda.is_available() else \"cpu\")\n",
        "n_neg=4 # 네거티브 샘플링 갯수\n",
        "n_layers = 4 # GNN 레이어 갯수\n",
        "dropout=0 # dropout rate\n",
        "data_path = \"./ml-100k_splited.pkl\" # 데이터셋 경로\n",
        "batch_size = 1024 # 훈련 데이터 배치 사이즈\n",
        "emb_size1 = 8\n",
        "emb_size2 = 4 # 임베딩 크기\n",
        "lr = 2e-3\n",
        "top_k = 20\n",
        "n_epoch=50"
      ],
      "metadata": {
        "id": "EZ0GIjOi5W6b"
      },
      "execution_count": 13,
      "outputs": []
    },
    {
      "cell_type": "code",
      "source": [
        "with open(data_path, \"rb\") as f:\n",
        "    data = pickle.load(f)\n",
        "\n",
        "train, val, test, all_items, user2id, id2user, item2id, id2item, skin_type2id, id2skin_type, category2id,id2category = data.values()"
      ],
      "metadata": {
        "id": "1KllndSD7u6h"
      },
      "execution_count": 14,
      "outputs": []
    },
    {
      "cell_type": "code",
      "source": [
        "# 평점 있음\n",
        "\n",
        "class MLDataset(Dataset):\n",
        "    def __init__(self, df, all_items, n_neg=4):\n",
        "        super().__init__()\n",
        "        self.n_neg = n_neg\n",
        "        self.users, self.items, self.ratings, self.skin_types, self.categories, self.labels = self.get_data(df, all_items)\n",
        "\n",
        "    def __len__(self):\n",
        "        return len(self.users)\n",
        "\n",
        "    def __getitem__(self, idx):\n",
        "        return self.users[idx], self.items[idx], self.ratings[idx], self.skin_types[idx], self.categories[idx], self.labels[idx]\n",
        "\n",
        "    def get_data(self, df, all_items):\n",
        "        users, pos_items, neg_items, ratings, skin_types, categories = [], [], [], [], [], []\n",
        "        user_item_set = set(zip(df['user'], df['item'], df['rating'], df['skin_type'], df['category']))\n",
        "\n",
        "        for u, i, r, s, c in user_item_set:\n",
        "            users.append(u)\n",
        "            pos_items.append(i)\n",
        "            ratings.append(r)  # 평점 추가\n",
        "            skin_types.append(s)\n",
        "            categories.append(c)\n",
        "\n",
        "            for _ in range(self.n_neg):\n",
        "                neg_item = np.random.choice(all_items)\n",
        "\n",
        "                while (u, neg_item, r, s, c) in user_item_set:\n",
        "                    neg_item = np.random.choice(all_items)\n",
        "                neg_items.append(neg_item)\n",
        "\n",
        "        return (torch.tensor(users).to(device),\n",
        "                torch.tensor(pos_items).to(device),\n",
        "                torch.tensor(neg_items).to(device),\n",
        "                torch.tensor(ratings).to(device),\n",
        "                torch.tensor(skin_types).to(device),\n",
        "                torch.tensor(categories).to(device))  # 평점도 반환\n"
      ],
      "metadata": {
        "id": "DYH-cX4FGGnc"
      },
      "execution_count": 15,
      "outputs": []
    },
    {
      "cell_type": "code",
      "source": [
        "train_dataset = MLDataset(train, all_items )\n",
        "train_loader = DataLoader(train_dataset, batch_size=batch_size, shuffle=True)"
      ],
      "metadata": {
        "id": "_x2Fki-07_QR"
      },
      "execution_count": 16,
      "outputs": []
    },
    {
      "cell_type": "code",
      "source": [
        "#다 포함\n",
        "user_consumed = train.groupby('user').apply(lambda x: list(zip(x['item'], x['rating'], x['skin_type'], x['category']))).to_dict()\n",
        "val_true = val.groupby('user').apply(lambda x: list(zip(x['item'], x['rating'], x['skin_type'], x['category']))).to_dict()\n",
        "test_true = test.groupby('user').apply(lambda x: list(zip(x['item'], x['rating'], x['skin_type'], x['category']))).to_dict()"
      ],
      "metadata": {
        "id": "BNMr3WAR_NQL"
      },
      "execution_count": 17,
      "outputs": []
    },
    {
      "cell_type": "code",
      "source": [
        "#new\n",
        "\n",
        "class LightGCN(nn.Module):\n",
        "    def __init__(self, n_users, n_items, emb_size1, emb_size2, n_layers, user_consumed):\n",
        "        super().__init__()\n",
        "        self.n_users = n_users\n",
        "        self.n_items = n_items\n",
        "\n",
        "        self.emb_user = nn.Embedding(n_users, emb_size1)\n",
        "        self.emb_item = nn.Embedding(n_items, emb_size1)\n",
        "        self.emb_skin_types = nn.Embedding(n_users, emb_size2)\n",
        "        self.emb_categories = nn.Embedding(n_items, emb_size2)\n",
        "\n",
        "        self.n_layers = n_layers\n",
        "\n",
        "        self.user_consumed = user_consumed\n",
        "\n",
        "        self.laplacian_matrix = self._build_laplacian_matrix()\n",
        "        self._init_weight()\n",
        "\n",
        "\n",
        "    def _init_weight(self):\n",
        "        nn.init.normal_(self.emb_user.weight, std=1e-2)\n",
        "        nn.init.normal_(self.emb_item.weight, std=1e-2)\n",
        "        nn.init.normal_(self.emb_skin_types.weight, std=1e-2)\n",
        "        nn.init.normal_(self.emb_categories.weight, std=1e-2)\n",
        "\n",
        "    def _build_laplacian_matrix(self):\n",
        "        R = ssp.dok_matrix((self.n_users, self.n_items), dtype=np.float32)\n",
        "\n",
        "        for u in range(self.n_users):\n",
        "            for item, rating, skin_type, category in self.user_consumed[u]:  # 아이템과 별점 모두 추출\n",
        "                R[u, item] = rating * 0.5\n",
        "\n",
        "        R = R.tolil()\n",
        "\n",
        "        adj_matrix = ssp.dok_matrix(\n",
        "            (self.n_users+self.n_items, self.n_items+self.n_users), dtype=np.float32\n",
        "        )\n",
        "        adj_matrix[:self.n_users, self.n_users:] = R\n",
        "        adj_matrix[self.n_users:, :self.n_users] = R.T\n",
        "        # adj_matrix = adj_matrix.tocsr()\n",
        "\n",
        "        row_sum = np.array(adj_matrix.sum(axis=1)) # adj의 row sum은 각 유저/아이템 노드의 차수를 의미\n",
        "        diag_inv = np.power(row_sum, -0.5).flatten()\n",
        "        diag_inv[np.isinf(diag_inv)] = 0.0\n",
        "        diag_matrix_inv = ssp.diags(diag_inv) # D^(-1/2)\n",
        "\n",
        "        coo = diag_matrix_inv.dot(adj_matrix).dot(diag_matrix_inv).tocoo() # D^(-1/2) * A * D^(-1/2)\n",
        "        indices = torch.from_numpy(np.array([coo.row, coo.col]))\n",
        "        values = torch.from_numpy(coo.data)\n",
        "        laplacian_matrix = torch.sparse_coo_tensor(\n",
        "            indices, values, coo.shape, dtype=torch.float32, device=device\n",
        "        )\n",
        "        return laplacian_matrix\n",
        "\n",
        "    def emb_propagation(self, users, pos_items, skin_types, categories):\n",
        "\n",
        "        user_emb = self.emb_user.weight\n",
        "        skin_type_emb = self.emb_skin_types.weight\n",
        "\n",
        "        self.emb_user_sum = torch.cat([user_emb, skin_type_emb], dim=1)\n",
        "\n",
        "        item_emb = self.emb_item.weight  # Shape: [n_items, emb_size1]\n",
        "        category_emb = self.emb_categories.weight  # Shape: [n_categories, emb_size2]\n",
        "\n",
        "\n",
        "        self.emb_item_sum = torch.cat([item_emb, category_emb], dim=1)  # Shape: [n_items, emb_size1 + emb_size2]\n",
        "\n",
        "        # Combine user and item embeddings for propagation\n",
        "        all_emb = [torch.cat([self.emb_user_sum, self.emb_item_sum], dim=0)]\n",
        "\n",
        "        for _ in range(self.n_layers):\n",
        "            layered_emb = torch.sparse.mm(self.laplacian_matrix, all_emb[-1])\n",
        "            all_emb.append(layered_emb)\n",
        "\n",
        "        all_emb = torch.stack(all_emb, dim=1)\n",
        "        mean_emb = torch.mean(all_emb, dim=1)\n",
        "\n",
        "        layered_emb_user, layered_emb_item = torch.split(mean_emb, [self.n_users, self.n_items])\n",
        "        return layered_emb_user, layered_emb_item\n",
        "\n",
        "    def forward(self, users, pos_items, neg_items=None):\n",
        "        # propagation 후 user, pos, neg\n",
        "        layered_emb_users, layered_emb_items = self.emb_propagation(users, pos_items, skin_types, categories)\n",
        "        layered_emb_user, layered_pos_emb, layered_neg_emb = layered_emb_users[users], layered_emb_items[pos_items], layered_emb_items[neg_items] if neg_items is not None else None\n",
        "\n",
        "        return layered_emb_user, layered_pos_emb, layered_neg_emb\n"
      ],
      "metadata": {
        "id": "DfJziG9LhhIA"
      },
      "execution_count": 18,
      "outputs": []
    },
    {
      "cell_type": "code",
      "source": [
        "import torch.nn.functional as F\n",
        "\n",
        "def bpr_loss(layered_emb_user, layered_pos_emb, layered_neg_emb):\n",
        "    # reg loss는 forward return에 있는 init emb를 활용해서 별도 처리하기.\n",
        "    pos_score = (layered_emb_user * layered_pos_emb).sum(dim=1)\n",
        "    neg_score = (layered_emb_user * layered_neg_emb).sum(dim=1)\n",
        "    log_sigmoid = F.logsigmoid(pos_score - neg_score)\n",
        "    return torch.negative(torch.mean(log_sigmoid))"
      ],
      "metadata": {
        "id": "OaP_Geyk8qxP"
      },
      "execution_count": 19,
      "outputs": []
    },
    {
      "cell_type": "code",
      "source": [
        "n_users, n_items, n_skin_types, n_categories = len(user2id), len(item2id), len(skin_type2id), len(category2id)"
      ],
      "metadata": {
        "id": "ypYv2h7v8sW3"
      },
      "execution_count": 20,
      "outputs": []
    },
    {
      "cell_type": "code",
      "source": [
        "model = LightGCN(n_users, n_items, emb_size1, emb_size2, n_layers, user_consumed)\n",
        "model.to(device)\n",
        "optimizer = optim.Adam(model.parameters(), lr=lr)"
      ],
      "metadata": {
        "colab": {
          "base_uri": "https://localhost:8080/"
        },
        "id": "MB1TqK9i8soi",
        "outputId": "368cb5c7-242e-4f28-a32a-7a961c5da41c"
      },
      "execution_count": 21,
      "outputs": [
        {
          "output_type": "stream",
          "name": "stderr",
          "text": [
            "<ipython-input-18-e6ab41a37344>:45: RuntimeWarning: divide by zero encountered in power\n",
            "  diag_inv = np.power(row_sum, -0.5).flatten()\n"
          ]
        }
      ]
    },
    {
      "cell_type": "code",
      "source": [
        "def get_precision(pred, true, k=20):\n",
        "    intersection = set(pred).intersection(set(true))\n",
        "    return len(intersection)/ k\n",
        "\n",
        "def get_recall(pred, true, k=20):\n",
        "    intersection = set(pred).intersection(set(true))\n",
        "    return len(intersection)/len(true)\n",
        "\n",
        "def get_nDCG(pred, true, k=20):\n",
        "    intersection, _, idx_in_pred = np.intersect1d(true, pred, assume_unique=True, return_indices=True)\n",
        "    if intersection.size == 0:\n",
        "        return 0\n",
        "    rank_list = np.zeros(k, np.float32)\n",
        "    rank_list[idx_in_pred] = 1\n",
        "    ideal_list = np.sort(rank_list)[::-1]\n",
        "    dcg = np.sum(rank_list/np.log2(np.arange(2, k+2)))\n",
        "    idcg = np.sum(ideal_list /np.log2(np.arange(2, k+2)))\n",
        "    return dcg/idcg"
      ],
      "metadata": {
        "id": "0vTnerXR8t9q"
      },
      "execution_count": 22,
      "outputs": []
    },
    {
      "cell_type": "code",
      "source": [
        "#new\n",
        "\n",
        "\n",
        "for epoch in range(1, n_epoch+1):\n",
        "    model.train()\n",
        "    total_loss = []\n",
        "\n",
        "    for i, batch_data in enumerate(tqdm(train_loader, desc=\"train\")):\n",
        "        users, pos_items, neg_items, ratings, skin_types, categories = batch_data  # 평점 추가\n",
        "        layered_emb_user, layered_pos_emb, layered_neg_emb = model(users, pos_items,  neg_items)\n",
        "        loss = bpr_loss(layered_emb_user, layered_pos_emb, layered_neg_emb)\n",
        "        total_loss.append(loss.item())\n",
        "\n",
        "        # backpropagation\n",
        "        optimizer.zero_grad()\n",
        "        loss.backward()\n",
        "        optimizer.step()\n",
        "\n",
        "    print(f\"epoch: {epoch}, total_loss: {np.mean(total_loss):.4f}\")\n",
        "\n",
        "    # validation\n",
        "    model.eval()\n",
        "    recall = np.array([])\n",
        "    precision = np.array([])\n",
        "    ndcg = np.array([])\n",
        "\n",
        "    for u, true_items_ratings in tqdm(val_true.items(), desc=\"eval\"):\n",
        "        # 유저별 소비하지 않은 아이템\n",
        "        unconsumed_items = list(set(all_items) - set([item for item, _, _, _ in user_consumed[u]]))  # 아이템만 추출\n",
        "        unconsumed_items = torch.tensor(unconsumed_items).to(device)\n",
        "        u = torch.tensor(u).to(device)\n",
        "\n",
        "        # 추론\n",
        "        layered_emb_user, layered_emb_item, _ = model(u, unconsumed_items)\n",
        "        pred = (layered_emb_user * layered_emb_item).sum(dim=-1)\n",
        "        _, pred_idx = torch.topk(pred, k=top_k)\n",
        "        top_k_items = unconsumed_items[pred_idx].tolist()\n",
        "\n",
        "        # 실제 아이템만 추출 (별점 제외)\n",
        "        true_items = [item for item, _, _, _ in true_items_ratings]\n",
        "\n",
        "        # 메트릭\n",
        "        recall = np.append(recall, get_recall(top_k_items, true_items, k=top_k))\n",
        "        precision = np.append(precision, get_precision(top_k_items, true_items, k=top_k))\n",
        "        ndcg = np.append(ndcg, get_nDCG(top_k_items, true_items, k=top_k))\n",
        "\n",
        "    print(f\"recall:{np.mean(recall):.4f}\\nprecision:{np.mean(precision):.4f}\\nndcg:{np.mean(ndcg):.4f}\")\n",
        "\n",
        "# validation\n",
        "model.eval()\n",
        "recall = np.array([])\n",
        "precision = np.array([])\n",
        "ndcg = np.array([])\n",
        "\n",
        "for u, true_items_ratings in tqdm(test_true.items(), desc=\"test\"):\n",
        "    # 유저별 소비하지 않은 아이템\n",
        "    unconsumed_items = list(set(all_items) - set([item for item, _, _, _ in user_consumed[u]]))  # 아이템만 추출\n",
        "    unconsumed_items = torch.tensor(unconsumed_items).to(device)\n",
        "    u = torch.tensor(u).to(device)\n",
        "\n",
        "    # 추론\n",
        "    layered_emb_user, layered_emb_item, _ = model(u, unconsumed_items)\n",
        "    pred = (layered_emb_user * layered_emb_item).sum(dim=-1)\n",
        "    _, pred_idx = torch.topk(pred, k=top_k)\n",
        "    top_k_items = unconsumed_items[pred_idx].tolist()\n",
        "\n",
        "    # 실제 아이템만 추출 (별점 제외)\n",
        "    true_items = [item for item, _, _, _ in true_items_ratings]\n",
        "\n",
        "    # 메트릭\n",
        "    recall = np.append(recall, get_recall(top_k_items, true_items, k=top_k))\n",
        "    precision = np.append(precision, get_precision(top_k_items, true_items, k=top_k))\n",
        "    ndcg = np.append(ndcg, get_nDCG(top_k_items, true_items, k=top_k))\n",
        "\n",
        "print(f\"recall:{np.mean(recall):.4f}\\nprecision:{np.mean(precision):.4f}\\nndcg:{np.mean(ndcg):.4f}\")\n"
      ],
      "metadata": {
        "colab": {
          "base_uri": "https://localhost:8080/"
        },
        "id": "KitmLdmrymFW",
        "outputId": "460df568-fb3f-4be1-98d8-cc6eafddd0be"
      },
      "execution_count": 28,
      "outputs": [
        {
          "output_type": "stream",
          "name": "stderr",
          "text": [
            "train: 100%|██████████| 48/48 [00:02<00:00, 22.37it/s]\n"
          ]
        },
        {
          "output_type": "stream",
          "name": "stdout",
          "text": [
            "epoch: 1, total_loss: 0.2231\n"
          ]
        },
        {
          "output_type": "stream",
          "name": "stderr",
          "text": [
            "eval: 100%|██████████| 2264/2264 [00:07<00:00, 308.45it/s]\n"
          ]
        },
        {
          "output_type": "stream",
          "name": "stdout",
          "text": [
            "recall:0.2354\n",
            "precision:0.0327\n",
            "ndcg:0.2183\n"
          ]
        },
        {
          "output_type": "stream",
          "name": "stderr",
          "text": [
            "train: 100%|██████████| 48/48 [00:01<00:00, 31.35it/s]\n"
          ]
        },
        {
          "output_type": "stream",
          "name": "stdout",
          "text": [
            "epoch: 2, total_loss: 0.2221\n"
          ]
        },
        {
          "output_type": "stream",
          "name": "stderr",
          "text": [
            "eval: 100%|██████████| 2264/2264 [00:08<00:00, 271.64it/s]\n"
          ]
        },
        {
          "output_type": "stream",
          "name": "stdout",
          "text": [
            "recall:0.2339\n",
            "precision:0.0325\n",
            "ndcg:0.2173\n"
          ]
        },
        {
          "output_type": "stream",
          "name": "stderr",
          "text": [
            "train: 100%|██████████| 48/48 [00:01<00:00, 31.36it/s]\n"
          ]
        },
        {
          "output_type": "stream",
          "name": "stdout",
          "text": [
            "epoch: 3, total_loss: 0.2210\n"
          ]
        },
        {
          "output_type": "stream",
          "name": "stderr",
          "text": [
            "eval: 100%|██████████| 2264/2264 [00:08<00:00, 277.77it/s]\n"
          ]
        },
        {
          "output_type": "stream",
          "name": "stdout",
          "text": [
            "recall:0.2337\n",
            "precision:0.0325\n",
            "ndcg:0.2176\n"
          ]
        },
        {
          "output_type": "stream",
          "name": "stderr",
          "text": [
            "train: 100%|██████████| 48/48 [00:01<00:00, 28.39it/s]\n"
          ]
        },
        {
          "output_type": "stream",
          "name": "stdout",
          "text": [
            "epoch: 4, total_loss: 0.2200\n"
          ]
        },
        {
          "output_type": "stream",
          "name": "stderr",
          "text": [
            "eval: 100%|██████████| 2264/2264 [00:07<00:00, 313.69it/s]\n"
          ]
        },
        {
          "output_type": "stream",
          "name": "stdout",
          "text": [
            "recall:0.2346\n",
            "precision:0.0326\n",
            "ndcg:0.2174\n"
          ]
        },
        {
          "output_type": "stream",
          "name": "stderr",
          "text": [
            "train: 100%|██████████| 48/48 [00:01<00:00, 29.78it/s]\n"
          ]
        },
        {
          "output_type": "stream",
          "name": "stdout",
          "text": [
            "epoch: 5, total_loss: 0.2189\n"
          ]
        },
        {
          "output_type": "stream",
          "name": "stderr",
          "text": [
            "eval: 100%|██████████| 2264/2264 [00:08<00:00, 275.26it/s]\n"
          ]
        },
        {
          "output_type": "stream",
          "name": "stdout",
          "text": [
            "recall:0.2348\n",
            "precision:0.0326\n",
            "ndcg:0.2174\n"
          ]
        },
        {
          "output_type": "stream",
          "name": "stderr",
          "text": [
            "train: 100%|██████████| 48/48 [00:01<00:00, 31.69it/s]\n"
          ]
        },
        {
          "output_type": "stream",
          "name": "stdout",
          "text": [
            "epoch: 6, total_loss: 0.2178\n"
          ]
        },
        {
          "output_type": "stream",
          "name": "stderr",
          "text": [
            "eval: 100%|██████████| 2264/2264 [00:08<00:00, 272.92it/s]\n"
          ]
        },
        {
          "output_type": "stream",
          "name": "stdout",
          "text": [
            "recall:0.2326\n",
            "precision:0.0324\n",
            "ndcg:0.2164\n"
          ]
        },
        {
          "output_type": "stream",
          "name": "stderr",
          "text": [
            "train: 100%|██████████| 48/48 [00:01<00:00, 30.89it/s]\n"
          ]
        },
        {
          "output_type": "stream",
          "name": "stdout",
          "text": [
            "epoch: 7, total_loss: 0.2168\n"
          ]
        },
        {
          "output_type": "stream",
          "name": "stderr",
          "text": [
            "eval: 100%|██████████| 2264/2264 [00:07<00:00, 313.35it/s]\n"
          ]
        },
        {
          "output_type": "stream",
          "name": "stdout",
          "text": [
            "recall:0.2341\n",
            "precision:0.0326\n",
            "ndcg:0.2171\n"
          ]
        },
        {
          "output_type": "stream",
          "name": "stderr",
          "text": [
            "train: 100%|██████████| 48/48 [00:02<00:00, 22.75it/s]\n"
          ]
        },
        {
          "output_type": "stream",
          "name": "stdout",
          "text": [
            "epoch: 8, total_loss: 0.2157\n"
          ]
        },
        {
          "output_type": "stream",
          "name": "stderr",
          "text": [
            "eval: 100%|██████████| 2264/2264 [00:07<00:00, 288.22it/s]\n"
          ]
        },
        {
          "output_type": "stream",
          "name": "stdout",
          "text": [
            "recall:0.2351\n",
            "precision:0.0326\n",
            "ndcg:0.2179\n"
          ]
        },
        {
          "output_type": "stream",
          "name": "stderr",
          "text": [
            "train: 100%|██████████| 48/48 [00:01<00:00, 31.48it/s]\n"
          ]
        },
        {
          "output_type": "stream",
          "name": "stdout",
          "text": [
            "epoch: 9, total_loss: 0.2145\n"
          ]
        },
        {
          "output_type": "stream",
          "name": "stderr",
          "text": [
            "eval: 100%|██████████| 2264/2264 [00:08<00:00, 276.42it/s]\n"
          ]
        },
        {
          "output_type": "stream",
          "name": "stdout",
          "text": [
            "recall:0.2345\n",
            "precision:0.0326\n",
            "ndcg:0.2174\n"
          ]
        },
        {
          "output_type": "stream",
          "name": "stderr",
          "text": [
            "train: 100%|██████████| 48/48 [00:01<00:00, 31.66it/s]\n"
          ]
        },
        {
          "output_type": "stream",
          "name": "stdout",
          "text": [
            "epoch: 10, total_loss: 0.2134\n"
          ]
        },
        {
          "output_type": "stream",
          "name": "stderr",
          "text": [
            "eval: 100%|██████████| 2264/2264 [00:07<00:00, 301.79it/s]\n"
          ]
        },
        {
          "output_type": "stream",
          "name": "stdout",
          "text": [
            "recall:0.2349\n",
            "precision:0.0326\n",
            "ndcg:0.2175\n"
          ]
        },
        {
          "output_type": "stream",
          "name": "stderr",
          "text": [
            "train: 100%|██████████| 48/48 [00:02<00:00, 20.93it/s]\n"
          ]
        },
        {
          "output_type": "stream",
          "name": "stdout",
          "text": [
            "epoch: 11, total_loss: 0.2122\n"
          ]
        },
        {
          "output_type": "stream",
          "name": "stderr",
          "text": [
            "eval: 100%|██████████| 2264/2264 [00:07<00:00, 305.64it/s]\n"
          ]
        },
        {
          "output_type": "stream",
          "name": "stdout",
          "text": [
            "recall:0.2349\n",
            "precision:0.0326\n",
            "ndcg:0.2172\n"
          ]
        },
        {
          "output_type": "stream",
          "name": "stderr",
          "text": [
            "train: 100%|██████████| 48/48 [00:01<00:00, 31.78it/s]\n"
          ]
        },
        {
          "output_type": "stream",
          "name": "stdout",
          "text": [
            "epoch: 12, total_loss: 0.2110\n"
          ]
        },
        {
          "output_type": "stream",
          "name": "stderr",
          "text": [
            "eval: 100%|██████████| 2264/2264 [00:08<00:00, 274.81it/s]\n"
          ]
        },
        {
          "output_type": "stream",
          "name": "stdout",
          "text": [
            "recall:0.2349\n",
            "precision:0.0325\n",
            "ndcg:0.2179\n"
          ]
        },
        {
          "output_type": "stream",
          "name": "stderr",
          "text": [
            "train: 100%|██████████| 48/48 [00:01<00:00, 31.46it/s]\n"
          ]
        },
        {
          "output_type": "stream",
          "name": "stdout",
          "text": [
            "epoch: 13, total_loss: 0.2097\n"
          ]
        },
        {
          "output_type": "stream",
          "name": "stderr",
          "text": [
            "eval: 100%|██████████| 2264/2264 [00:07<00:00, 284.71it/s]\n"
          ]
        },
        {
          "output_type": "stream",
          "name": "stdout",
          "text": [
            "recall:0.2352\n",
            "precision:0.0325\n",
            "ndcg:0.2184\n"
          ]
        },
        {
          "output_type": "stream",
          "name": "stderr",
          "text": [
            "train: 100%|██████████| 48/48 [00:01<00:00, 25.66it/s]\n"
          ]
        },
        {
          "output_type": "stream",
          "name": "stdout",
          "text": [
            "epoch: 14, total_loss: 0.2085\n"
          ]
        },
        {
          "output_type": "stream",
          "name": "stderr",
          "text": [
            "eval: 100%|██████████| 2264/2264 [00:07<00:00, 314.19it/s]\n"
          ]
        },
        {
          "output_type": "stream",
          "name": "stdout",
          "text": [
            "recall:0.2355\n",
            "precision:0.0325\n",
            "ndcg:0.2186\n"
          ]
        },
        {
          "output_type": "stream",
          "name": "stderr",
          "text": [
            "train: 100%|██████████| 48/48 [00:01<00:00, 31.42it/s]\n"
          ]
        },
        {
          "output_type": "stream",
          "name": "stdout",
          "text": [
            "epoch: 15, total_loss: 0.2073\n"
          ]
        },
        {
          "output_type": "stream",
          "name": "stderr",
          "text": [
            "eval: 100%|██████████| 2264/2264 [00:08<00:00, 277.92it/s]\n"
          ]
        },
        {
          "output_type": "stream",
          "name": "stdout",
          "text": [
            "recall:0.2359\n",
            "precision:0.0327\n",
            "ndcg:0.2186\n"
          ]
        },
        {
          "output_type": "stream",
          "name": "stderr",
          "text": [
            "train: 100%|██████████| 48/48 [00:01<00:00, 31.50it/s]\n"
          ]
        },
        {
          "output_type": "stream",
          "name": "stdout",
          "text": [
            "epoch: 16, total_loss: 0.2060\n"
          ]
        },
        {
          "output_type": "stream",
          "name": "stderr",
          "text": [
            "eval: 100%|██████████| 2264/2264 [00:08<00:00, 275.55it/s]\n"
          ]
        },
        {
          "output_type": "stream",
          "name": "stdout",
          "text": [
            "recall:0.2355\n",
            "precision:0.0327\n",
            "ndcg:0.2182\n"
          ]
        },
        {
          "output_type": "stream",
          "name": "stderr",
          "text": [
            "train: 100%|██████████| 48/48 [00:01<00:00, 31.50it/s]\n"
          ]
        },
        {
          "output_type": "stream",
          "name": "stdout",
          "text": [
            "epoch: 17, total_loss: 0.2047\n"
          ]
        },
        {
          "output_type": "stream",
          "name": "stderr",
          "text": [
            "eval: 100%|██████████| 2264/2264 [00:07<00:00, 317.99it/s]\n"
          ]
        },
        {
          "output_type": "stream",
          "name": "stdout",
          "text": [
            "recall:0.2362\n",
            "precision:0.0327\n",
            "ndcg:0.2182\n"
          ]
        },
        {
          "output_type": "stream",
          "name": "stderr",
          "text": [
            "train: 100%|██████████| 48/48 [00:01<00:00, 27.23it/s]\n"
          ]
        },
        {
          "output_type": "stream",
          "name": "stdout",
          "text": [
            "epoch: 18, total_loss: 0.2034\n"
          ]
        },
        {
          "output_type": "stream",
          "name": "stderr",
          "text": [
            "eval: 100%|██████████| 2264/2264 [00:08<00:00, 266.59it/s]\n"
          ]
        },
        {
          "output_type": "stream",
          "name": "stdout",
          "text": [
            "recall:0.2370\n",
            "precision:0.0327\n",
            "ndcg:0.2188\n"
          ]
        },
        {
          "output_type": "stream",
          "name": "stderr",
          "text": [
            "train: 100%|██████████| 48/48 [00:02<00:00, 21.04it/s]\n"
          ]
        },
        {
          "output_type": "stream",
          "name": "stdout",
          "text": [
            "epoch: 19, total_loss: 0.2021\n"
          ]
        },
        {
          "output_type": "stream",
          "name": "stderr",
          "text": [
            "eval: 100%|██████████| 2264/2264 [00:08<00:00, 272.51it/s]\n"
          ]
        },
        {
          "output_type": "stream",
          "name": "stdout",
          "text": [
            "recall:0.2379\n",
            "precision:0.0329\n",
            "ndcg:0.2191\n"
          ]
        },
        {
          "output_type": "stream",
          "name": "stderr",
          "text": [
            "train: 100%|██████████| 48/48 [00:01<00:00, 31.43it/s]\n"
          ]
        },
        {
          "output_type": "stream",
          "name": "stdout",
          "text": [
            "epoch: 20, total_loss: 0.2008\n"
          ]
        },
        {
          "output_type": "stream",
          "name": "stderr",
          "text": [
            "eval: 100%|██████████| 2264/2264 [00:07<00:00, 295.31it/s]\n"
          ]
        },
        {
          "output_type": "stream",
          "name": "stdout",
          "text": [
            "recall:0.2395\n",
            "precision:0.0331\n",
            "ndcg:0.2195\n"
          ]
        },
        {
          "output_type": "stream",
          "name": "stderr",
          "text": [
            "train: 100%|██████████| 48/48 [00:02<00:00, 22.45it/s]\n"
          ]
        },
        {
          "output_type": "stream",
          "name": "stdout",
          "text": [
            "epoch: 21, total_loss: 0.1995\n"
          ]
        },
        {
          "output_type": "stream",
          "name": "stderr",
          "text": [
            "eval: 100%|██████████| 2264/2264 [00:07<00:00, 312.76it/s]\n"
          ]
        },
        {
          "output_type": "stream",
          "name": "stdout",
          "text": [
            "recall:0.2404\n",
            "precision:0.0331\n",
            "ndcg:0.2205\n"
          ]
        },
        {
          "output_type": "stream",
          "name": "stderr",
          "text": [
            "train: 100%|██████████| 48/48 [00:01<00:00, 31.51it/s]\n"
          ]
        },
        {
          "output_type": "stream",
          "name": "stdout",
          "text": [
            "epoch: 22, total_loss: 0.1982\n"
          ]
        },
        {
          "output_type": "stream",
          "name": "stderr",
          "text": [
            "eval: 100%|██████████| 2264/2264 [00:08<00:00, 272.96it/s]\n"
          ]
        },
        {
          "output_type": "stream",
          "name": "stdout",
          "text": [
            "recall:0.2405\n",
            "precision:0.0331\n",
            "ndcg:0.2204\n"
          ]
        },
        {
          "output_type": "stream",
          "name": "stderr",
          "text": [
            "train: 100%|██████████| 48/48 [00:01<00:00, 31.47it/s]\n"
          ]
        },
        {
          "output_type": "stream",
          "name": "stdout",
          "text": [
            "epoch: 23, total_loss: 0.1970\n"
          ]
        },
        {
          "output_type": "stream",
          "name": "stderr",
          "text": [
            "eval: 100%|██████████| 2264/2264 [00:08<00:00, 279.44it/s]\n"
          ]
        },
        {
          "output_type": "stream",
          "name": "stdout",
          "text": [
            "recall:0.2400\n",
            "precision:0.0331\n",
            "ndcg:0.2204\n"
          ]
        },
        {
          "output_type": "stream",
          "name": "stderr",
          "text": [
            "train: 100%|██████████| 48/48 [00:01<00:00, 29.33it/s]\n"
          ]
        },
        {
          "output_type": "stream",
          "name": "stdout",
          "text": [
            "epoch: 24, total_loss: 0.1957\n"
          ]
        },
        {
          "output_type": "stream",
          "name": "stderr",
          "text": [
            "eval: 100%|██████████| 2264/2264 [00:07<00:00, 313.02it/s]\n"
          ]
        },
        {
          "output_type": "stream",
          "name": "stdout",
          "text": [
            "recall:0.2422\n",
            "precision:0.0334\n",
            "ndcg:0.2210\n"
          ]
        },
        {
          "output_type": "stream",
          "name": "stderr",
          "text": [
            "train: 100%|██████████| 48/48 [00:01<00:00, 29.64it/s]\n"
          ]
        },
        {
          "output_type": "stream",
          "name": "stdout",
          "text": [
            "epoch: 25, total_loss: 0.1945\n"
          ]
        },
        {
          "output_type": "stream",
          "name": "stderr",
          "text": [
            "eval: 100%|██████████| 2264/2264 [00:08<00:00, 277.76it/s]\n"
          ]
        },
        {
          "output_type": "stream",
          "name": "stdout",
          "text": [
            "recall:0.2421\n",
            "precision:0.0334\n",
            "ndcg:0.2216\n"
          ]
        },
        {
          "output_type": "stream",
          "name": "stderr",
          "text": [
            "train: 100%|██████████| 48/48 [00:01<00:00, 31.77it/s]\n"
          ]
        },
        {
          "output_type": "stream",
          "name": "stdout",
          "text": [
            "epoch: 26, total_loss: 0.1933\n"
          ]
        },
        {
          "output_type": "stream",
          "name": "stderr",
          "text": [
            "eval: 100%|██████████| 2264/2264 [00:08<00:00, 267.16it/s]\n"
          ]
        },
        {
          "output_type": "stream",
          "name": "stdout",
          "text": [
            "recall:0.2418\n",
            "precision:0.0334\n",
            "ndcg:0.2219\n"
          ]
        },
        {
          "output_type": "stream",
          "name": "stderr",
          "text": [
            "train: 100%|██████████| 48/48 [00:01<00:00, 31.28it/s]\n"
          ]
        },
        {
          "output_type": "stream",
          "name": "stdout",
          "text": [
            "epoch: 27, total_loss: 0.1921\n"
          ]
        },
        {
          "output_type": "stream",
          "name": "stderr",
          "text": [
            "eval: 100%|██████████| 2264/2264 [00:07<00:00, 306.70it/s]\n"
          ]
        },
        {
          "output_type": "stream",
          "name": "stdout",
          "text": [
            "recall:0.2431\n",
            "precision:0.0335\n",
            "ndcg:0.2228\n"
          ]
        },
        {
          "output_type": "stream",
          "name": "stderr",
          "text": [
            "train: 100%|██████████| 48/48 [00:02<00:00, 21.02it/s]\n"
          ]
        },
        {
          "output_type": "stream",
          "name": "stdout",
          "text": [
            "epoch: 28, total_loss: 0.1909\n"
          ]
        },
        {
          "output_type": "stream",
          "name": "stderr",
          "text": [
            "eval: 100%|██████████| 2264/2264 [00:07<00:00, 283.68it/s]\n"
          ]
        },
        {
          "output_type": "stream",
          "name": "stdout",
          "text": [
            "recall:0.2423\n",
            "precision:0.0334\n",
            "ndcg:0.2229\n"
          ]
        },
        {
          "output_type": "stream",
          "name": "stderr",
          "text": [
            "train: 100%|██████████| 48/48 [00:01<00:00, 29.84it/s]\n"
          ]
        },
        {
          "output_type": "stream",
          "name": "stdout",
          "text": [
            "epoch: 29, total_loss: 0.1898\n"
          ]
        },
        {
          "output_type": "stream",
          "name": "stderr",
          "text": [
            "eval: 100%|██████████| 2264/2264 [00:08<00:00, 272.68it/s]\n"
          ]
        },
        {
          "output_type": "stream",
          "name": "stdout",
          "text": [
            "recall:0.2424\n",
            "precision:0.0334\n",
            "ndcg:0.2232\n"
          ]
        },
        {
          "output_type": "stream",
          "name": "stderr",
          "text": [
            "train: 100%|██████████| 48/48 [00:01<00:00, 30.63it/s]\n"
          ]
        },
        {
          "output_type": "stream",
          "name": "stdout",
          "text": [
            "epoch: 30, total_loss: 0.1887\n"
          ]
        },
        {
          "output_type": "stream",
          "name": "stderr",
          "text": [
            "eval: 100%|██████████| 2264/2264 [00:07<00:00, 293.89it/s]\n"
          ]
        },
        {
          "output_type": "stream",
          "name": "stdout",
          "text": [
            "recall:0.2426\n",
            "precision:0.0334\n",
            "ndcg:0.2233\n"
          ]
        },
        {
          "output_type": "stream",
          "name": "stderr",
          "text": [
            "train: 100%|██████████| 48/48 [00:02<00:00, 21.06it/s]\n"
          ]
        },
        {
          "output_type": "stream",
          "name": "stdout",
          "text": [
            "epoch: 31, total_loss: 0.1876\n"
          ]
        },
        {
          "output_type": "stream",
          "name": "stderr",
          "text": [
            "eval: 100%|██████████| 2264/2264 [00:07<00:00, 306.29it/s]\n"
          ]
        },
        {
          "output_type": "stream",
          "name": "stdout",
          "text": [
            "recall:0.2430\n",
            "precision:0.0334\n",
            "ndcg:0.2235\n"
          ]
        },
        {
          "output_type": "stream",
          "name": "stderr",
          "text": [
            "train: 100%|██████████| 48/48 [00:01<00:00, 29.65it/s]\n"
          ]
        },
        {
          "output_type": "stream",
          "name": "stdout",
          "text": [
            "epoch: 32, total_loss: 0.1865\n"
          ]
        },
        {
          "output_type": "stream",
          "name": "stderr",
          "text": [
            "eval: 100%|██████████| 2264/2264 [00:08<00:00, 267.72it/s]\n"
          ]
        },
        {
          "output_type": "stream",
          "name": "stdout",
          "text": [
            "recall:0.2431\n",
            "precision:0.0335\n",
            "ndcg:0.2231\n"
          ]
        },
        {
          "output_type": "stream",
          "name": "stderr",
          "text": [
            "train: 100%|██████████| 48/48 [00:01<00:00, 30.07it/s]\n"
          ]
        },
        {
          "output_type": "stream",
          "name": "stdout",
          "text": [
            "epoch: 33, total_loss: 0.1855\n"
          ]
        },
        {
          "output_type": "stream",
          "name": "stderr",
          "text": [
            "eval: 100%|██████████| 2264/2264 [00:08<00:00, 270.34it/s]\n"
          ]
        },
        {
          "output_type": "stream",
          "name": "stdout",
          "text": [
            "recall:0.2423\n",
            "precision:0.0333\n",
            "ndcg:0.2227\n"
          ]
        },
        {
          "output_type": "stream",
          "name": "stderr",
          "text": [
            "train: 100%|██████████| 48/48 [00:01<00:00, 31.64it/s]\n"
          ]
        },
        {
          "output_type": "stream",
          "name": "stdout",
          "text": [
            "epoch: 34, total_loss: 0.1845\n"
          ]
        },
        {
          "output_type": "stream",
          "name": "stderr",
          "text": [
            "eval: 100%|██████████| 2264/2264 [00:07<00:00, 312.45it/s]\n"
          ]
        },
        {
          "output_type": "stream",
          "name": "stdout",
          "text": [
            "recall:0.2437\n",
            "precision:0.0335\n",
            "ndcg:0.2231\n"
          ]
        },
        {
          "output_type": "stream",
          "name": "stderr",
          "text": [
            "train: 100%|██████████| 48/48 [00:01<00:00, 26.49it/s]\n"
          ]
        },
        {
          "output_type": "stream",
          "name": "stdout",
          "text": [
            "epoch: 35, total_loss: 0.1835\n"
          ]
        },
        {
          "output_type": "stream",
          "name": "stderr",
          "text": [
            "eval: 100%|██████████| 2264/2264 [00:08<00:00, 276.51it/s]\n"
          ]
        },
        {
          "output_type": "stream",
          "name": "stdout",
          "text": [
            "recall:0.2425\n",
            "precision:0.0334\n",
            "ndcg:0.2228\n"
          ]
        },
        {
          "output_type": "stream",
          "name": "stderr",
          "text": [
            "train: 100%|██████████| 48/48 [00:01<00:00, 30.19it/s]\n"
          ]
        },
        {
          "output_type": "stream",
          "name": "stdout",
          "text": [
            "epoch: 36, total_loss: 0.1825\n"
          ]
        },
        {
          "output_type": "stream",
          "name": "stderr",
          "text": [
            "eval: 100%|██████████| 2264/2264 [00:08<00:00, 274.19it/s]\n"
          ]
        },
        {
          "output_type": "stream",
          "name": "stdout",
          "text": [
            "recall:0.2428\n",
            "precision:0.0334\n",
            "ndcg:0.2227\n"
          ]
        },
        {
          "output_type": "stream",
          "name": "stderr",
          "text": [
            "train: 100%|██████████| 48/48 [00:01<00:00, 30.27it/s]\n"
          ]
        },
        {
          "output_type": "stream",
          "name": "stdout",
          "text": [
            "epoch: 37, total_loss: 0.1816\n"
          ]
        },
        {
          "output_type": "stream",
          "name": "stderr",
          "text": [
            "eval: 100%|██████████| 2264/2264 [00:07<00:00, 304.81it/s]\n"
          ]
        },
        {
          "output_type": "stream",
          "name": "stdout",
          "text": [
            "recall:0.2431\n",
            "precision:0.0335\n",
            "ndcg:0.2224\n"
          ]
        },
        {
          "output_type": "stream",
          "name": "stderr",
          "text": [
            "train: 100%|██████████| 48/48 [00:02<00:00, 19.56it/s]\n"
          ]
        },
        {
          "output_type": "stream",
          "name": "stdout",
          "text": [
            "epoch: 38, total_loss: 0.1807\n"
          ]
        },
        {
          "output_type": "stream",
          "name": "stderr",
          "text": [
            "eval: 100%|██████████| 2264/2264 [00:07<00:00, 290.66it/s]\n"
          ]
        },
        {
          "output_type": "stream",
          "name": "stdout",
          "text": [
            "recall:0.2418\n",
            "precision:0.0333\n",
            "ndcg:0.2222\n"
          ]
        },
        {
          "output_type": "stream",
          "name": "stderr",
          "text": [
            "train: 100%|██████████| 48/48 [00:01<00:00, 29.49it/s]\n"
          ]
        },
        {
          "output_type": "stream",
          "name": "stdout",
          "text": [
            "epoch: 39, total_loss: 0.1797\n"
          ]
        },
        {
          "output_type": "stream",
          "name": "stderr",
          "text": [
            "eval: 100%|██████████| 2264/2264 [00:08<00:00, 267.15it/s]\n"
          ]
        },
        {
          "output_type": "stream",
          "name": "stdout",
          "text": [
            "recall:0.2426\n",
            "precision:0.0334\n",
            "ndcg:0.2219\n"
          ]
        },
        {
          "output_type": "stream",
          "name": "stderr",
          "text": [
            "train: 100%|██████████| 48/48 [00:01<00:00, 29.52it/s]\n"
          ]
        },
        {
          "output_type": "stream",
          "name": "stdout",
          "text": [
            "epoch: 40, total_loss: 0.1789\n"
          ]
        },
        {
          "output_type": "stream",
          "name": "stderr",
          "text": [
            "eval: 100%|██████████| 2264/2264 [00:08<00:00, 277.03it/s]\n"
          ]
        },
        {
          "output_type": "stream",
          "name": "stdout",
          "text": [
            "recall:0.2424\n",
            "precision:0.0334\n",
            "ndcg:0.2213\n"
          ]
        },
        {
          "output_type": "stream",
          "name": "stderr",
          "text": [
            "train: 100%|██████████| 48/48 [00:02<00:00, 23.87it/s]\n"
          ]
        },
        {
          "output_type": "stream",
          "name": "stdout",
          "text": [
            "epoch: 41, total_loss: 0.1780\n"
          ]
        },
        {
          "output_type": "stream",
          "name": "stderr",
          "text": [
            "eval: 100%|██████████| 2264/2264 [00:07<00:00, 304.28it/s]\n"
          ]
        },
        {
          "output_type": "stream",
          "name": "stdout",
          "text": [
            "recall:0.2425\n",
            "precision:0.0334\n",
            "ndcg:0.2214\n"
          ]
        },
        {
          "output_type": "stream",
          "name": "stderr",
          "text": [
            "train: 100%|██████████| 48/48 [00:01<00:00, 28.86it/s]\n"
          ]
        },
        {
          "output_type": "stream",
          "name": "stdout",
          "text": [
            "epoch: 42, total_loss: 0.1771\n"
          ]
        },
        {
          "output_type": "stream",
          "name": "stderr",
          "text": [
            "eval: 100%|██████████| 2264/2264 [00:08<00:00, 271.88it/s]\n"
          ]
        },
        {
          "output_type": "stream",
          "name": "stdout",
          "text": [
            "recall:0.2427\n",
            "precision:0.0334\n",
            "ndcg:0.2213\n"
          ]
        },
        {
          "output_type": "stream",
          "name": "stderr",
          "text": [
            "train: 100%|██████████| 48/48 [00:01<00:00, 29.80it/s]\n"
          ]
        },
        {
          "output_type": "stream",
          "name": "stdout",
          "text": [
            "epoch: 43, total_loss: 0.1763\n"
          ]
        },
        {
          "output_type": "stream",
          "name": "stderr",
          "text": [
            "eval: 100%|██████████| 2264/2264 [00:08<00:00, 269.15it/s]\n"
          ]
        },
        {
          "output_type": "stream",
          "name": "stdout",
          "text": [
            "recall:0.2428\n",
            "precision:0.0334\n",
            "ndcg:0.2215\n"
          ]
        },
        {
          "output_type": "stream",
          "name": "stderr",
          "text": [
            "train: 100%|██████████| 48/48 [00:01<00:00, 29.46it/s]\n"
          ]
        },
        {
          "output_type": "stream",
          "name": "stdout",
          "text": [
            "epoch: 44, total_loss: 0.1754\n"
          ]
        },
        {
          "output_type": "stream",
          "name": "stderr",
          "text": [
            "eval: 100%|██████████| 2264/2264 [00:07<00:00, 303.52it/s]\n"
          ]
        },
        {
          "output_type": "stream",
          "name": "stdout",
          "text": [
            "recall:0.2435\n",
            "precision:0.0334\n",
            "ndcg:0.2216\n"
          ]
        },
        {
          "output_type": "stream",
          "name": "stderr",
          "text": [
            "train: 100%|██████████| 48/48 [00:02<00:00, 20.10it/s]\n"
          ]
        },
        {
          "output_type": "stream",
          "name": "stdout",
          "text": [
            "epoch: 45, total_loss: 0.1746\n"
          ]
        },
        {
          "output_type": "stream",
          "name": "stderr",
          "text": [
            "eval: 100%|██████████| 2264/2264 [00:07<00:00, 292.97it/s]\n"
          ]
        },
        {
          "output_type": "stream",
          "name": "stdout",
          "text": [
            "recall:0.2438\n",
            "precision:0.0334\n",
            "ndcg:0.2212\n"
          ]
        },
        {
          "output_type": "stream",
          "name": "stderr",
          "text": [
            "train: 100%|██████████| 48/48 [00:01<00:00, 30.27it/s]\n"
          ]
        },
        {
          "output_type": "stream",
          "name": "stdout",
          "text": [
            "epoch: 46, total_loss: 0.1738\n"
          ]
        },
        {
          "output_type": "stream",
          "name": "stderr",
          "text": [
            "eval: 100%|██████████| 2264/2264 [00:08<00:00, 271.35it/s]\n"
          ]
        },
        {
          "output_type": "stream",
          "name": "stdout",
          "text": [
            "recall:0.2431\n",
            "precision:0.0334\n",
            "ndcg:0.2211\n"
          ]
        },
        {
          "output_type": "stream",
          "name": "stderr",
          "text": [
            "train: 100%|██████████| 48/48 [00:01<00:00, 30.65it/s]\n"
          ]
        },
        {
          "output_type": "stream",
          "name": "stdout",
          "text": [
            "epoch: 47, total_loss: 0.1730\n"
          ]
        },
        {
          "output_type": "stream",
          "name": "stderr",
          "text": [
            "eval: 100%|██████████| 2264/2264 [00:08<00:00, 278.27it/s]\n"
          ]
        },
        {
          "output_type": "stream",
          "name": "stdout",
          "text": [
            "recall:0.2433\n",
            "precision:0.0334\n",
            "ndcg:0.2215\n"
          ]
        },
        {
          "output_type": "stream",
          "name": "stderr",
          "text": [
            "train: 100%|██████████| 48/48 [00:01<00:00, 25.38it/s]\n"
          ]
        },
        {
          "output_type": "stream",
          "name": "stdout",
          "text": [
            "epoch: 48, total_loss: 0.1722\n"
          ]
        },
        {
          "output_type": "stream",
          "name": "stderr",
          "text": [
            "eval: 100%|██████████| 2264/2264 [00:07<00:00, 308.32it/s]\n"
          ]
        },
        {
          "output_type": "stream",
          "name": "stdout",
          "text": [
            "recall:0.2419\n",
            "precision:0.0333\n",
            "ndcg:0.2204\n"
          ]
        },
        {
          "output_type": "stream",
          "name": "stderr",
          "text": [
            "train: 100%|██████████| 48/48 [00:01<00:00, 30.48it/s]\n"
          ]
        },
        {
          "output_type": "stream",
          "name": "stdout",
          "text": [
            "epoch: 49, total_loss: 0.1715\n"
          ]
        },
        {
          "output_type": "stream",
          "name": "stderr",
          "text": [
            "eval: 100%|██████████| 2264/2264 [00:08<00:00, 272.37it/s]\n"
          ]
        },
        {
          "output_type": "stream",
          "name": "stdout",
          "text": [
            "recall:0.2409\n",
            "precision:0.0331\n",
            "ndcg:0.2196\n"
          ]
        },
        {
          "output_type": "stream",
          "name": "stderr",
          "text": [
            "train: 100%|██████████| 48/48 [00:01<00:00, 30.27it/s]\n"
          ]
        },
        {
          "output_type": "stream",
          "name": "stdout",
          "text": [
            "epoch: 50, total_loss: 0.1707\n"
          ]
        },
        {
          "output_type": "stream",
          "name": "stderr",
          "text": [
            "eval: 100%|██████████| 2264/2264 [00:09<00:00, 235.90it/s]\n"
          ]
        },
        {
          "output_type": "stream",
          "name": "stdout",
          "text": [
            "recall:0.2415\n",
            "precision:0.0332\n",
            "ndcg:0.2194\n"
          ]
        },
        {
          "output_type": "stream",
          "name": "stderr",
          "text": [
            "test: 100%|██████████| 2264/2264 [00:07<00:00, 311.95it/s]"
          ]
        },
        {
          "output_type": "stream",
          "name": "stdout",
          "text": [
            "recall:0.2389\n",
            "precision:0.0329\n",
            "ndcg:0.2248\n"
          ]
        },
        {
          "output_type": "stream",
          "name": "stderr",
          "text": [
            "\n"
          ]
        }
      ]
    },
    {
      "cell_type": "code",
      "source": [
        "#new\n",
        "import json\n",
        "\n",
        "# validation\n",
        "model.eval()\n",
        "recall = np.array([])\n",
        "precision = np.array([])\n",
        "ndcg = np.array([])\n",
        "\n",
        "# 유저별 추천 결과를 저장할 딕셔너리\n",
        "user_recommendations = {}\n",
        "\n",
        "for u, true_items_ratings in tqdm(test_true.items(), desc=\"test\"):\n",
        "    # 유저별 소비하지 않은 아이템\n",
        "    unconsumed_items = list(set(all_items) - set([item for item, _, _, _ in user_consumed[u]]))  # 아이템만 추출\n",
        "    unconsumed_items = torch.tensor(unconsumed_items).to(device)\n",
        "    u = torch.tensor(u).to(device)\n",
        "\n",
        "    # 추론\n",
        "    layered_emb_user, layered_emb_item, _ = model(u, unconsumed_items)\n",
        "    pred = (layered_emb_user * layered_emb_item).sum(dim=-1)\n",
        "    _, pred_idx = torch.topk(pred, k=top_k)\n",
        "    top_k_items = unconsumed_items[pred_idx].tolist()\n",
        "\n",
        "    # 실제 아이템만 추출 (별점 제외)\n",
        "    true_items = [item for item, _, _, _ in true_items_ratings]\n",
        "\n",
        "    # 메트릭\n",
        "    recall = np.append(recall, get_recall(top_k_items, true_items, k=top_k))\n",
        "    precision = np.append(precision, get_precision(top_k_items, true_items, k=top_k))\n",
        "    ndcg = np.append(ndcg, get_nDCG(top_k_items, true_items, k=top_k))\n",
        "\n",
        "    # 유저별 추천 결과 저장\n",
        "    user_recommendations[str(u.item())] = {\n",
        "        'top_k_items': top_k_items,\n",
        "        'true_items': true_items\n",
        "    }\n",
        "\n",
        "with open('user_recommendations.json', 'w') as f:\n",
        "    json.dump(user_recommendations, f)\n",
        "\n",
        "\n",
        "print(f\"recall:{np.mean(recall):.4f}\\nprecision:{np.mean(precision):.4f}\\nndcg:{np.mean(ndcg):.4f}\")"
      ],
      "metadata": {
        "id": "K0V6ynQg8y-g",
        "colab": {
          "base_uri": "https://localhost:8080/"
        },
        "outputId": "d392b160-607b-4a39-e516-f4d8b257fa0b"
      },
      "execution_count": 29,
      "outputs": [
        {
          "output_type": "stream",
          "name": "stderr",
          "text": [
            "test: 100%|██████████| 2264/2264 [00:08<00:00, 268.21it/s]\n"
          ]
        },
        {
          "output_type": "stream",
          "name": "stdout",
          "text": [
            "recall:0.2389\n",
            "precision:0.0329\n",
            "ndcg:0.2248\n"
          ]
        }
      ]
    },
    {
      "cell_type": "code",
      "source": [
        "import json\n",
        "import pandas as pd\n",
        "import numpy as np\n",
        "\n",
        "# product_id_mapping\n",
        "product_df = df[['product_name', 'brand_name', 'highlights', 'secondary_category', 'skin_type']]\n",
        "product_df = product_df.drop_duplicates()\n",
        "product_mapping = {\n",
        "    row['product_name']: (row['brand_name'], row['highlights'], row['secondary_category'], row['skin_type'])\n",
        "    for _, row in product_df.iterrows()\n",
        "}\n",
        "\n",
        "# JSON 파일에서 추천 결과 불러오기\n",
        "with open('user_recommendations.json', 'r') as f:\n",
        "    user_recommendations = json.load(f)\n",
        "\n",
        "recommendations_dict = {}\n",
        "\n",
        "# 결과를 출력할 함수\n",
        "def print_recommendations(user_recommendations, id2user, id2item):\n",
        "    # 랜덤으로 3명의 유저 선택\n",
        "    selected_users = np.random.choice(list(user_recommendations.keys()), size=3, replace=False)\n",
        "\n",
        "    for user in selected_users:\n",
        "        recommendations_list = []\n",
        "        user_id = id2user[int(user)]  # 인덱스를 원래 user_id로 변환\n",
        "        top_k_items = user_recommendations[user]['top_k_items']\n",
        "        top_k_items_names = [id2item[int(item)] for item in top_k_items]  # 인덱스를 원래 item_name으로 변환\n",
        "        consumed_items = [id2item[item] for item in user_recommendations[user]['true_items']]\n",
        "\n",
        "        # 해당 유저의 피부 타입\n",
        "        skin_types = list(df[df['author_id'] == user_id]['skin_type'].unique())\n",
        "        print(f\"User: {user_id}, Skin Type: {skin_types}\")\n",
        "\n",
        "        # 추천 아이템에 순위 추가\n",
        "        for rank, item_name in enumerate(top_k_items_names, start=1):\n",
        "            brand, highlights, category, _ = product_mapping[item_name]\n",
        "            recommendations_list.append({\n",
        "                'User ID': user_id,\n",
        "                'Skin Type': skin_types,\n",
        "                'Product Name': item_name,\n",
        "                'Brand': brand,\n",
        "                'Highlights': highlights,\n",
        "                'Category': category,\n",
        "                'Ranking': rank\n",
        "            })\n",
        "\n",
        "        # 소비한 아이템 추가\n",
        "        for item_name in consumed_items:\n",
        "            brand, highlights, category, _ = product_mapping[item_name]\n",
        "            recommendations_list.append({\n",
        "                'User ID': user_id,\n",
        "                'Skin Type': skin_types,\n",
        "                'Product Name': item_name,\n",
        "                'Brand': brand,\n",
        "                'Highlights': highlights,\n",
        "                'Category': category,\n",
        "                'Ranking': 'used'\n",
        "            })\n",
        "\n",
        "        # DataFrame으로 변환하여 저장\n",
        "        recommendations_dict[user_id] = pd.DataFrame(recommendations_list)\n",
        "\n",
        "# 추천 결과 출력\n",
        "print_recommendations(user_recommendations, id2user, id2item)"
      ],
      "metadata": {
        "colab": {
          "base_uri": "https://localhost:8080/"
        },
        "id": "NYaM_C3E-WCF",
        "outputId": "d7c8c1ab-4235-4995-c1ce-6157cecdd37c"
      },
      "execution_count": 25,
      "outputs": [
        {
          "output_type": "stream",
          "name": "stdout",
          "text": [
            "User: 23063771539, Skin Type: ['combination']\n",
            "User: 25840494474, Skin Type: ['combination']\n",
            "User: 6665604756, Skin Type: ['normal']\n"
          ]
        }
      ]
    },
    {
      "cell_type": "code",
      "source": [
        "import matplotlib.pyplot as plt\n",
        "def wrap_text(name, max_length=20):\n",
        "    words = name.split(' ')\n",
        "    wrapped_lines = []\n",
        "    current_line = \"\"\n",
        "\n",
        "    for word in words:\n",
        "        # Check if adding the next word exceeds the maximum length\n",
        "        if len(current_line) + len(word) + 1 <= max_length:\n",
        "            current_line += (word + ' ')\n",
        "        else:\n",
        "            wrapped_lines.append(current_line.strip())\n",
        "            current_line = word + ' '  # Start a new line with the current word\n",
        "\n",
        "    # Append any remaining words in the last line\n",
        "    if current_line:\n",
        "        wrapped_lines.append(current_line.strip())\n",
        "\n",
        "    return '\\n'.join(wrapped_lines)\n",
        "\n",
        "# 유저 추천 결과 시각화\n",
        "unique_user_ids = recommendations_dict.keys()\n",
        "num_users = len(unique_user_ids)\n",
        "fig, axes = plt.subplots(num_users, 1, figsize=(10, 5 * num_users))\n",
        "\n",
        "for i, user_id in enumerate(unique_user_ids):\n",
        "    user_recommendations = recommendations_dict[user_id]\n",
        "    user_recommendations = user_recommendations[:5]\n",
        "    skin_type = user_recommendations['Skin Type'][0]\n",
        "\n",
        "    # 같은 브랜드는 같은 색상으로\n",
        "    unique_cat = user_recommendations['Category'].unique()\n",
        "    colors = plt.cm.get_cmap('Pastel1', len(unique_cat))\n",
        "    brand_color_map = {brand: colors(j) for j, brand in enumerate(unique_cat)}\n",
        "\n",
        "    # 막대그래프 생성\n",
        "    axes[i].barh(user_recommendations['Product Name'].apply(wrap_text),\n",
        "                 6 - user_recommendations['Ranking'],  # Ranking을 사용\n",
        "                 color=[brand_color_map[brand] for brand in user_recommendations['Category']])\n",
        "\n",
        "    # Add brand and category as text labels above the bars\n",
        "    for j, (product_name, brand, category) in enumerate(zip(user_recommendations['Product Name'], user_recommendations['Brand'], user_recommendations['Category'])):\n",
        "        label_text = f\"{brand}, {category}\"\n",
        "        wrapped_label = wrap_text(label_text, max_length=15)\n",
        "        axes[i].text(6 - user_recommendations['Ranking'].iloc[j], j,\n",
        "                      wrapped_label,\n",
        "                      va='center',\n",
        "                      ha='right')\n",
        "\n",
        "    # Set x-ticks to show ranks 5, 4, 3, 2, 1\n",
        "    axes[i].set_xticks([1, 2, 3, 4, 5])\n",
        "    axes[i].set_xticklabels([5, 4, 3, 2, 1])\n",
        "\n",
        "    # 그래프 제목 및 y축 반전\n",
        "    axes[i].set_title(f'Recommendations for User {user_id} (skin type: {skin_type})')\n",
        "    axes[i].invert_yaxis()\n",
        "\n",
        "plt.tight_layout()\n",
        "plt.show()\n"
      ],
      "metadata": {
        "colab": {
          "base_uri": "https://localhost:8080/",
          "height": 1000
        },
        "id": "tCK2_O9L-d3n",
        "outputId": "5289f3ea-0f67-44ac-c033-ca52f2db3cec"
      },
      "execution_count": 26,
      "outputs": [
        {
          "output_type": "stream",
          "name": "stderr",
          "text": [
            "<ipython-input-26-cad33be15191>:33: MatplotlibDeprecationWarning: The get_cmap function was deprecated in Matplotlib 3.7 and will be removed two minor releases later. Use ``matplotlib.colormaps[name]`` or ``matplotlib.colormaps.get_cmap(obj)`` instead.\n",
            "  colors = plt.cm.get_cmap('Pastel1', len(unique_cat))\n"
          ]
        },
        {
          "output_type": "display_data",
          "data": {
            "text/plain": [
              "<Figure size 1000x1500 with 3 Axes>"
            ],
            "image/png": "[encoded data removed]"
          },
          "metadata": {}
        }
      ]
    },
    {
      "cell_type": "code",
      "source": [],
      "metadata": {
        "id": "B7ywsnWLHvwY"
      },
      "execution_count": null,
      "outputs": []
    }
  ]
}