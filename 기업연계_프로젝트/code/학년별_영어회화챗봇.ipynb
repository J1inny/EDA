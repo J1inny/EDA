{
  "nbformat": 4,
  "nbformat_minor": 0,
  "metadata": {
    "colab": {
      "provenance": [],
      "toc_visible": true
    },
    "kernelspec": {
      "name": "python3",
      "display_name": "Python 3"
    },
    "language_info": {
      "name": "python"
    }
  },
  "cells": [
    {
      "cell_type": "markdown",
      "source": [
        "# 기본 세팅"
      ],
      "metadata": {
        "id": "ERnzyMcFX_RY"
      }
    },
    {
      "cell_type": "code",
      "source": [
        "pip install openai==0.28"
      ],
      "metadata": {
        "id": "OqucwXq1M3Zv",
        "colab": {
          "base_uri": "https://localhost:8080/"
        },
        "outputId": "0c8cec08-150f-447e-833a-bfbb64dd902b"
      },
      "execution_count": null,
      "outputs": [
        {
          "output_type": "stream",
          "name": "stdout",
          "text": [
            "Collecting openai==0.28\n",
            "  Downloading openai-0.28.0-py3-none-any.whl.metadata (13 kB)\n",
            "Requirement already satisfied: requests>=2.20 in /usr/local/lib/python3.10/dist-packages (from openai==0.28) (2.32.3)\n",
            "Requirement already satisfied: tqdm in /usr/local/lib/python3.10/dist-packages (from openai==0.28) (4.66.6)\n",
            "Requirement already satisfied: aiohttp in /usr/local/lib/python3.10/dist-packages (from openai==0.28) (3.11.2)\n",
            "Requirement already satisfied: charset-normalizer<4,>=2 in /usr/local/lib/python3.10/dist-packages (from requests>=2.20->openai==0.28) (3.4.0)\n",
            "Requirement already satisfied: idna<4,>=2.5 in /usr/local/lib/python3.10/dist-packages (from requests>=2.20->openai==0.28) (3.10)\n",
            "Requirement already satisfied: urllib3<3,>=1.21.1 in /usr/local/lib/python3.10/dist-packages (from requests>=2.20->openai==0.28) (2.2.3)\n",
            "Requirement already satisfied: certifi>=2017.4.17 in /usr/local/lib/python3.10/dist-packages (from requests>=2.20->openai==0.28) (2024.8.30)\n",
            "Requirement already satisfied: aiohappyeyeballs>=2.3.0 in /usr/local/lib/python3.10/dist-packages (from aiohttp->openai==0.28) (2.4.3)\n",
            "Requirement already satisfied: aiosignal>=1.1.2 in /usr/local/lib/python3.10/dist-packages (from aiohttp->openai==0.28) (1.3.1)\n",
            "Requirement already satisfied: attrs>=17.3.0 in /usr/local/lib/python3.10/dist-packages (from aiohttp->openai==0.28) (24.2.0)\n",
            "Requirement already satisfied: frozenlist>=1.1.1 in /usr/local/lib/python3.10/dist-packages (from aiohttp->openai==0.28) (1.5.0)\n",
            "Requirement already satisfied: multidict<7.0,>=4.5 in /usr/local/lib/python3.10/dist-packages (from aiohttp->openai==0.28) (6.1.0)\n",
            "Requirement already satisfied: propcache>=0.2.0 in /usr/local/lib/python3.10/dist-packages (from aiohttp->openai==0.28) (0.2.0)\n",
            "Requirement already satisfied: yarl<2.0,>=1.17.0 in /usr/local/lib/python3.10/dist-packages (from aiohttp->openai==0.28) (1.17.2)\n",
            "Requirement already satisfied: async-timeout<6.0,>=4.0 in /usr/local/lib/python3.10/dist-packages (from aiohttp->openai==0.28) (4.0.3)\n",
            "Requirement already satisfied: typing-extensions>=4.1.0 in /usr/local/lib/python3.10/dist-packages (from multidict<7.0,>=4.5->aiohttp->openai==0.28) (4.12.2)\n",
            "Downloading openai-0.28.0-py3-none-any.whl (76 kB)\n",
            "\u001b[?25l   \u001b[90m━━━━━━━━━━━━━━━━━━━━━━━━━━━━━━━━━━━━━━━━\u001b[0m \u001b[32m0.0/76.5 kB\u001b[0m \u001b[31m?\u001b[0m eta \u001b[36m-:--:--\u001b[0m\r\u001b[2K   \u001b[90m━━━━━━━━━━━━━━━━━━━━━━━━━━━━━━━━━━━━━━━━\u001b[0m \u001b[32m76.5/76.5 kB\u001b[0m \u001b[31m4.8 MB/s\u001b[0m eta \u001b[36m0:00:00\u001b[0m\n",
            "\u001b[?25hInstalling collected packages: openai\n",
            "  Attempting uninstall: openai\n",
            "    Found existing installation: openai 1.54.4\n",
            "    Uninstalling openai-1.54.4:\n",
            "      Successfully uninstalled openai-1.54.4\n",
            "Successfully installed openai-0.28.0\n"
          ]
        }
      ]
    },
    {
      "cell_type": "markdown",
      "source": [
        "API key 입력"
      ],
      "metadata": {
        "id": "kwXoWX-bX7yt"
      }
    },
    {
      "cell_type": "markdown",
      "source": [
        "(삭제)"
      ],
      "metadata": {
        "id": "2askk-zBNW5O"
      }
    },
    {
      "cell_type": "code",
      "execution_count": null,
      "metadata": {
        "id": "lXixh8fLiyTb",
        "colab": {
          "base_uri": "https://localhost:8080/"
        },
        "outputId": "c53c177c-bcef-4545-8166-55d614ee560a"
      },
      "outputs": [
        {
          "name": "stdout",
          "output_type": "stream",
          "text": [
            "Enter your OpenAI API key: ··········\n"
          ]
        }
      ],
      "source": [
        "import openai\n",
        "from getpass import getpass\n",
        "\n",
        "# OpenAI API 키를 설정\n",
        "openai.api_key = getpass(\"Enter your OpenAI API key: \")\n"
      ]
    },
    {
      "cell_type": "code",
      "source": [
        "import pandas as pd"
      ],
      "metadata": {
        "id": "2hDloI1NEHrE"
      },
      "execution_count": null,
      "outputs": []
    },
    {
      "cell_type": "code",
      "source": [
        "from google.colab import drive\n",
        "drive.mount('/content/drive')"
      ],
      "metadata": {
        "colab": {
          "base_uri": "https://localhost:8080/"
        },
        "id": "fOEiEEAYCe1M",
        "outputId": "e8bafab5-9c46-4c0f-abcc-788f68aa23f8"
      },
      "execution_count": null,
      "outputs": [
        {
          "output_type": "stream",
          "name": "stdout",
          "text": [
            "Mounted at /content/drive\n"
          ]
        }
      ]
    },
    {
      "cell_type": "markdown",
      "source": [
        "#데이터"
      ],
      "metadata": {
        "id": "bhU932mCyXxU"
      }
    },
    {
      "cell_type": "code",
      "source": [
        "file_path = '/content/drive/MyDrive/DSL/기연/processed_dataset_v.01.csv'\n",
        "data = pd.read_csv(file_path, encoding='euc-kr')\n"
      ],
      "metadata": {
        "id": "s0iKsbipD2J-"
      },
      "execution_count": null,
      "outputs": []
    },
    {
      "cell_type": "code",
      "source": [
        "data.info()"
      ],
      "metadata": {
        "colab": {
          "base_uri": "https://localhost:8080/"
        },
        "id": "5wiDDjKy4dJk",
        "outputId": "045e8589-8783-4c00-93b0-5f554055d0fe"
      },
      "execution_count": null,
      "outputs": [
        {
          "output_type": "stream",
          "name": "stdout",
          "text": [
            "<class 'pandas.core.frame.DataFrame'>\n",
            "RangeIndex: 210 entries, 0 to 209\n",
            "Data columns (total 4 columns):\n",
            " #   Column      Non-Null Count  Dtype \n",
            "---  ------      --------------  ----- \n",
            " 0   Unnamed: 0  210 non-null    int64 \n",
            " 1   대화 상황       210 non-null    object\n",
            " 2   학년          210 non-null    object\n",
            " 3   대화          210 non-null    object\n",
            "dtypes: int64(1), object(3)\n",
            "memory usage: 6.7+ KB\n"
          ]
        }
      ]
    },
    {
      "cell_type": "code",
      "source": [
        "data.head(10)"
      ],
      "metadata": {
        "colab": {
          "base_uri": "https://localhost:8080/",
          "height": 363
        },
        "id": "lnRMErRU4ksb",
        "outputId": "b31c828c-e80c-48a3-89c0-8fd9ea9f5662"
      },
      "execution_count": null,
      "outputs": [
        {
          "output_type": "execute_result",
          "data": {
            "text/plain": [
              "   Unnamed: 0            대화 상황   학년  \\\n",
              "0           0     장래 희망에 대한 대화  md1   \n",
              "1           1         책에 대한 대화  md1   \n",
              "2           2   대회 우승을 축하하는 대화  md1   \n",
              "3           3     방학 계획에 대한 대화  md1   \n",
              "4           4        요리에 대한 대화  md1   \n",
              "5           5    핸드폰 중독에 대한 대화  hi1   \n",
              "6           6     배구 대회에 대한 대화  hi1   \n",
              "7           7  영화 티켓 가격에 대한 대화  hi1   \n",
              "8           8        여행에 대한 대화  hi1   \n",
              "9           9      동참을 제안하는 대화  md1   \n",
              "\n",
              "                                                  대화  \n",
              "0  A: I’m interested in flying airplanes. B: Do y...  \n",
              "1  A: What do you think about this book? B: A His...  \n",
              "2  B: You know what? My team won the soccer tourn...  \n",
              "3  B: Do you have any plans for this summer vacat...  \n",
              "4  B: What do you think about this pasta? G: I th...  \n",
              "5  A: Stella, have you noticed how much time you ...  \n",
              "6  A: Did you hear about the volleyball champions...  \n",
              "7  A: Movie tickets are so expensive these days. ...  \n",
              "8  A: Are you interested in traveling around the ...  \n",
              "9  G: My friends and I are going to go to Yangyan...  "
            ],
            "text/html": [
              "\n",
              "  <div id=\"df-6e24e0f0-ef77-4f48-aedb-34f2cd92621f\" class=\"colab-df-container\">\n",
              "    <div>\n",
              "<style scoped>\n",
              "    .dataframe tbody tr th:only-of-type {\n",
              "        vertical-align: middle;\n",
              "    }\n",
              "\n",
              "    .dataframe tbody tr th {\n",
              "        vertical-align: top;\n",
              "    }\n",
              "\n",
              "    .dataframe thead th {\n",
              "        text-align: right;\n",
              "    }\n",
              "</style>\n",
              "<table border=\"1\" class=\"dataframe\">\n",
              "  <thead>\n",
              "    <tr style=\"text-align: right;\">\n",
              "      <th></th>\n",
              "      <th>Unnamed: 0</th>\n",
              "      <th>대화 상황</th>\n",
              "      <th>학년</th>\n",
              "      <th>대화</th>\n",
              "    </tr>\n",
              "  </thead>\n",
              "  <tbody>\n",
              "    <tr>\n",
              "      <th>0</th>\n",
              "      <td>0</td>\n",
              "      <td>장래 희망에 대한 대화</td>\n",
              "      <td>md1</td>\n",
              "      <td>A: I’m interested in flying airplanes. B: Do y...</td>\n",
              "    </tr>\n",
              "    <tr>\n",
              "      <th>1</th>\n",
              "      <td>1</td>\n",
              "      <td>책에 대한 대화</td>\n",
              "      <td>md1</td>\n",
              "      <td>A: What do you think about this book? B: A His...</td>\n",
              "    </tr>\n",
              "    <tr>\n",
              "      <th>2</th>\n",
              "      <td>2</td>\n",
              "      <td>대회 우승을 축하하는 대화</td>\n",
              "      <td>md1</td>\n",
              "      <td>B: You know what? My team won the soccer tourn...</td>\n",
              "    </tr>\n",
              "    <tr>\n",
              "      <th>3</th>\n",
              "      <td>3</td>\n",
              "      <td>방학 계획에 대한 대화</td>\n",
              "      <td>md1</td>\n",
              "      <td>B: Do you have any plans for this summer vacat...</td>\n",
              "    </tr>\n",
              "    <tr>\n",
              "      <th>4</th>\n",
              "      <td>4</td>\n",
              "      <td>요리에 대한 대화</td>\n",
              "      <td>md1</td>\n",
              "      <td>B: What do you think about this pasta? G: I th...</td>\n",
              "    </tr>\n",
              "    <tr>\n",
              "      <th>5</th>\n",
              "      <td>5</td>\n",
              "      <td>핸드폰 중독에 대한 대화</td>\n",
              "      <td>hi1</td>\n",
              "      <td>A: Stella, have you noticed how much time you ...</td>\n",
              "    </tr>\n",
              "    <tr>\n",
              "      <th>6</th>\n",
              "      <td>6</td>\n",
              "      <td>배구 대회에 대한 대화</td>\n",
              "      <td>hi1</td>\n",
              "      <td>A: Did you hear about the volleyball champions...</td>\n",
              "    </tr>\n",
              "    <tr>\n",
              "      <th>7</th>\n",
              "      <td>7</td>\n",
              "      <td>영화 티켓 가격에 대한 대화</td>\n",
              "      <td>hi1</td>\n",
              "      <td>A: Movie tickets are so expensive these days. ...</td>\n",
              "    </tr>\n",
              "    <tr>\n",
              "      <th>8</th>\n",
              "      <td>8</td>\n",
              "      <td>여행에 대한 대화</td>\n",
              "      <td>hi1</td>\n",
              "      <td>A: Are you interested in traveling around the ...</td>\n",
              "    </tr>\n",
              "    <tr>\n",
              "      <th>9</th>\n",
              "      <td>9</td>\n",
              "      <td>동참을 제안하는 대화</td>\n",
              "      <td>md1</td>\n",
              "      <td>G: My friends and I are going to go to Yangyan...</td>\n",
              "    </tr>\n",
              "  </tbody>\n",
              "</table>\n",
              "</div>\n",
              "    <div class=\"colab-df-buttons\">\n",
              "\n",
              "  <div class=\"colab-df-container\">\n",
              "    <button class=\"colab-df-convert\" onclick=\"convertToInteractive('df-6e24e0f0-ef77-4f48-aedb-34f2cd92621f')\"\n",
              "            title=\"Convert this dataframe to an interactive table.\"\n",
              "            style=\"display:none;\">\n",
              "\n",
              "  <svg xmlns=\"http://www.w3.org/2000/svg\" height=\"24px\" viewBox=\"0 -960 960 960\">\n",
              "    <path d=\"M120-120v-720h720v720H120Zm60-500h600v-160H180v160Zm220 220h160v-160H400v160Zm0 220h160v-160H400v160ZM180-400h160v-160H180v160Zm440 0h160v-160H620v160ZM180-180h160v-160H180v160Zm440 0h160v-160H620v160Z\"/>\n",
              "  </svg>\n",
              "    </button>\n",
              "\n",
              "  <style>\n",
              "    .colab-df-container {\n",
              "      display:flex;\n",
              "      gap: 12px;\n",
              "    }\n",
              "\n",
              "    .colab-df-convert {\n",
              "      background-color: #E8F0FE;\n",
              "      border: none;\n",
              "      border-radius: 50%;\n",
              "      cursor: pointer;\n",
              "      display: none;\n",
              "      fill: #1967D2;\n",
              "      height: 32px;\n",
              "      padding: 0 0 0 0;\n",
              "      width: 32px;\n",
              "    }\n",
              "\n",
              "    .colab-df-convert:hover {\n",
              "      background-color: #E2EBFA;\n",
              "      box-shadow: 0px 1px 2px rgba(60, 64, 67, 0.3), 0px 1px 3px 1px rgba(60, 64, 67, 0.15);\n",
              "      fill: #174EA6;\n",
              "    }\n",
              "\n",
              "    .colab-df-buttons div {\n",
              "      margin-bottom: 4px;\n",
              "    }\n",
              "\n",
              "    [theme=dark] .colab-df-convert {\n",
              "      background-color: #3B4455;\n",
              "      fill: #D2E3FC;\n",
              "    }\n",
              "\n",
              "    [theme=dark] .colab-df-convert:hover {\n",
              "      background-color: #434B5C;\n",
              "      box-shadow: 0px 1px 3px 1px rgba(0, 0, 0, 0.15);\n",
              "      filter: drop-shadow(0px 1px 2px rgba(0, 0, 0, 0.3));\n",
              "      fill: #FFFFFF;\n",
              "    }\n",
              "  </style>\n",
              "\n",
              "    <script>\n",
              "      const buttonEl =\n",
              "        document.querySelector('#df-6e24e0f0-ef77-4f48-aedb-34f2cd92621f button.colab-df-convert');\n",
              "      buttonEl.style.display =\n",
              "        google.colab.kernel.accessAllowed ? 'block' : 'none';\n",
              "\n",
              "      async function convertToInteractive(key) {\n",
              "        const element = document.querySelector('#df-6e24e0f0-ef77-4f48-aedb-34f2cd92621f');\n",
              "        const dataTable =\n",
              "          await google.colab.kernel.invokeFunction('convertToInteractive',\n",
              "                                                    [key], {});\n",
              "        if (!dataTable) return;\n",
              "\n",
              "        const docLinkHtml = 'Like what you see? Visit the ' +\n",
              "          '<a target=\"_blank\" href=https://colab.research.google.com/notebooks/data_table.ipynb>data table notebook</a>'\n",
              "          + ' to learn more about interactive tables.';\n",
              "        element.innerHTML = '';\n",
              "        dataTable['output_type'] = 'display_data';\n",
              "        await google.colab.output.renderOutput(dataTable, element);\n",
              "        const docLink = document.createElement('div');\n",
              "        docLink.innerHTML = docLinkHtml;\n",
              "        element.appendChild(docLink);\n",
              "      }\n",
              "    </script>\n",
              "  </div>\n",
              "\n",
              "\n",
              "<div id=\"df-04ab3fa3-f8ae-4b4c-84d4-d75bdc184bab\">\n",
              "  <button class=\"colab-df-quickchart\" onclick=\"quickchart('df-04ab3fa3-f8ae-4b4c-84d4-d75bdc184bab')\"\n",
              "            title=\"Suggest charts\"\n",
              "            style=\"display:none;\">\n",
              "\n",
              "<svg xmlns=\"http://www.w3.org/2000/svg\" height=\"24px\"viewBox=\"0 0 24 24\"\n",
              "     width=\"24px\">\n",
              "    <g>\n",
              "        <path d=\"M19 3H5c-1.1 0-2 .9-2 2v14c0 1.1.9 2 2 2h14c1.1 0 2-.9 2-2V5c0-1.1-.9-2-2-2zM9 17H7v-7h2v7zm4 0h-2V7h2v10zm4 0h-2v-4h2v4z\"/>\n",
              "    </g>\n",
              "</svg>\n",
              "  </button>\n",
              "\n",
              "<style>\n",
              "  .colab-df-quickchart {\n",
              "      --bg-color: #E8F0FE;\n",
              "      --fill-color: #1967D2;\n",
              "      --hover-bg-color: #E2EBFA;\n",
              "      --hover-fill-color: #174EA6;\n",
              "      --disabled-fill-color: #AAA;\n",
              "      --disabled-bg-color: #DDD;\n",
              "  }\n",
              "\n",
              "  [theme=dark] .colab-df-quickchart {\n",
              "      --bg-color: #3B4455;\n",
              "      --fill-color: #D2E3FC;\n",
              "      --hover-bg-color: #434B5C;\n",
              "      --hover-fill-color: #FFFFFF;\n",
              "      --disabled-bg-color: #3B4455;\n",
              "      --disabled-fill-color: #666;\n",
              "  }\n",
              "\n",
              "  .colab-df-quickchart {\n",
              "    background-color: var(--bg-color);\n",
              "    border: none;\n",
              "    border-radius: 50%;\n",
              "    cursor: pointer;\n",
              "    display: none;\n",
              "    fill: var(--fill-color);\n",
              "    height: 32px;\n",
              "    padding: 0;\n",
              "    width: 32px;\n",
              "  }\n",
              "\n",
              "  .colab-df-quickchart:hover {\n",
              "    background-color: var(--hover-bg-color);\n",
              "    box-shadow: 0 1px 2px rgba(60, 64, 67, 0.3), 0 1px 3px 1px rgba(60, 64, 67, 0.15);\n",
              "    fill: var(--button-hover-fill-color);\n",
              "  }\n",
              "\n",
              "  .colab-df-quickchart-complete:disabled,\n",
              "  .colab-df-quickchart-complete:disabled:hover {\n",
              "    background-color: var(--disabled-bg-color);\n",
              "    fill: var(--disabled-fill-color);\n",
              "    box-shadow: none;\n",
              "  }\n",
              "\n",
              "  .colab-df-spinner {\n",
              "    border: 2px solid var(--fill-color);\n",
              "    border-color: transparent;\n",
              "    border-bottom-color: var(--fill-color);\n",
              "    animation:\n",
              "      spin 1s steps(1) infinite;\n",
              "  }\n",
              "\n",
              "  @keyframes spin {\n",
              "    0% {\n",
              "      border-color: transparent;\n",
              "      border-bottom-color: var(--fill-color);\n",
              "      border-left-color: var(--fill-color);\n",
              "    }\n",
              "    20% {\n",
              "      border-color: transparent;\n",
              "      border-left-color: var(--fill-color);\n",
              "      border-top-color: var(--fill-color);\n",
              "    }\n",
              "    30% {\n",
              "      border-color: transparent;\n",
              "      border-left-color: var(--fill-color);\n",
              "      border-top-color: var(--fill-color);\n",
              "      border-right-color: var(--fill-color);\n",
              "    }\n",
              "    40% {\n",
              "      border-color: transparent;\n",
              "      border-right-color: var(--fill-color);\n",
              "      border-top-color: var(--fill-color);\n",
              "    }\n",
              "    60% {\n",
              "      border-color: transparent;\n",
              "      border-right-color: var(--fill-color);\n",
              "    }\n",
              "    80% {\n",
              "      border-color: transparent;\n",
              "      border-right-color: var(--fill-color);\n",
              "      border-bottom-color: var(--fill-color);\n",
              "    }\n",
              "    90% {\n",
              "      border-color: transparent;\n",
              "      border-bottom-color: var(--fill-color);\n",
              "    }\n",
              "  }\n",
              "</style>\n",
              "\n",
              "  <script>\n",
              "    async function quickchart(key) {\n",
              "      const quickchartButtonEl =\n",
              "        document.querySelector('#' + key + ' button');\n",
              "      quickchartButtonEl.disabled = true;  // To prevent multiple clicks.\n",
              "      quickchartButtonEl.classList.add('colab-df-spinner');\n",
              "      try {\n",
              "        const charts = await google.colab.kernel.invokeFunction(\n",
              "            'suggestCharts', [key], {});\n",
              "      } catch (error) {\n",
              "        console.error('Error during call to suggestCharts:', error);\n",
              "      }\n",
              "      quickchartButtonEl.classList.remove('colab-df-spinner');\n",
              "      quickchartButtonEl.classList.add('colab-df-quickchart-complete');\n",
              "    }\n",
              "    (() => {\n",
              "      let quickchartButtonEl =\n",
              "        document.querySelector('#df-04ab3fa3-f8ae-4b4c-84d4-d75bdc184bab button');\n",
              "      quickchartButtonEl.style.display =\n",
              "        google.colab.kernel.accessAllowed ? 'block' : 'none';\n",
              "    })();\n",
              "  </script>\n",
              "</div>\n",
              "\n",
              "    </div>\n",
              "  </div>\n"
            ],
            "application/vnd.google.colaboratory.intrinsic+json": {
              "type": "dataframe",
              "variable_name": "data",
              "summary": "{\n  \"name\": \"data\",\n  \"rows\": 210,\n  \"fields\": [\n    {\n      \"column\": \"Unnamed: 0\",\n      \"properties\": {\n        \"dtype\": \"number\",\n        \"std\": 60,\n        \"min\": 0,\n        \"max\": 209,\n        \"num_unique_values\": 210,\n        \"samples\": [\n          30,\n          172,\n          84\n        ],\n        \"semantic_type\": \"\",\n        \"description\": \"\"\n      }\n    },\n    {\n      \"column\": \"\\ub300\\ud654 \\uc0c1\\ud669\",\n      \"properties\": {\n        \"dtype\": \"string\",\n        \"num_unique_values\": 139,\n        \"samples\": [\n          \"\\uc0c9\\uae54\\uc5d0 \\ub300\\ud55c \\ub300\\ud654\",\n          \"\\uc694\\uc77c\\uc5d0 \\ub300\\ud55c \\ub300\\ud654\",\n          \"\\uc8fc\\uc81c: \\uc8fc\\ub9d0 \\ud65c\\ub3d9\\uc5d0 \\ub300\\ud55c \\ub300\\ud654\"\n        ],\n        \"semantic_type\": \"\",\n        \"description\": \"\"\n      }\n    },\n    {\n      \"column\": \"\\ud559\\ub144\",\n      \"properties\": {\n        \"dtype\": \"category\",\n        \"num_unique_values\": 6,\n        \"samples\": [\n          \"md1\",\n          \"hi1\",\n          \"el3\"\n        ],\n        \"semantic_type\": \"\",\n        \"description\": \"\"\n      }\n    },\n    {\n      \"column\": \"\\ub300\\ud654\",\n      \"properties\": {\n        \"dtype\": \"string\",\n        \"num_unique_values\": 187,\n        \"samples\": [\n          \"G: How\\u2019s the weather? ?B: It\\u2019s sunny. Let\\u2019s go to the park. ?G: Okay.\",\n          \"A: Can I take a picture? B: Of course\",\n          \"A: How do you feel? Still sick? B: Not at all. I feel all right, just like magic.\"\n        ],\n        \"semantic_type\": \"\",\n        \"description\": \"\"\n      }\n    }\n  ]\n}"
            }
          },
          "metadata": {},
          "execution_count": 7
        }
      ]
    },
    {
      "cell_type": "markdown",
      "source": [
        "# 1) 초기 메시지에 기능 + 전체데이터 입력\n"
      ],
      "metadata": {
        "id": "W1ZFpKnxIkyi"
      }
    },
    {
      "cell_type": "markdown",
      "source": [
        "문법, 맥락 수정 기능 및 전체데이터를 초기 프롬포트로 입력"
      ],
      "metadata": {
        "id": "9qVd5otaYZen"
      }
    },
    {
      "cell_type": "code",
      "source": [
        "# 데이터 정리 (줄이지 않은 전체 데이터)\n",
        "dataset_summary = \"\"\n",
        "for _, row in data.iterrows():\n",
        "    topic = row['대화 상황']\n",
        "    student_level = row['학년']\n",
        "    dialogue = row['대화']\n",
        "    dataset_summary += f\"대화 상황: {topic}\\n학년: {student_level}\\n대화 예시: {dialogue}\\n\\n\"\n",
        "\n",
        "# 데이터 확인\n",
        "dataset_summary"
      ],
      "metadata": {
        "id": "sh1ByQRkhlmo",
        "colab": {
          "base_uri": "https://localhost:8080/",
          "height": 145
        },
        "outputId": "0709abf6-c3ae-444b-d5be-6dedf0273f4b"
      },
      "execution_count": null,
      "outputs": [
        {
          "output_type": "execute_result",
          "data": {
            "text/plain": [
              "\"대화 상황: 장래 희망에 대한 대화\\n학년: md1\\n대화 예시: A: I’m interested in flying airplanes. B: Do you want to be a pilot? A: Yes, I do. How about you? B: I want to be a fashion designer\\n\\n대화 상황: 책에 대한 대화\\n학년: md1\\n대화 예시: A: What do you think about this book? B: A History of Black Holes? I think it’ll be difficult. A: I don’t agree I think it’ll be very interesting B: Hmm . . . I didn’t know you were interested in black holes.\\n\\n대화 상황: 대회 우승을 축하하는 대화\\n학년: md1\\n대화 예시: B: You know what? My team won the soccer tournament. W: Congratulations, Minsu! I’m really happy for you. B: Thanks, Ms. Kim. I’m really happy\\n\\n대화 상황: 방학 계획에 대한 대화\\n학년: md1\\n대화 예시: B: Do you have any plans for this summer vacation? G: Yes. I’m going to travel to Venice with my family. B: That’s awesome! What are you going to do there G: A lot of things, but we’re going to ride a gondola for sure.\\n\\n대화 상황: 요리에 대한 대화\\n학년: md1\\n대화 예시: B: What do you think about this pasta? G: I think it’s pretty good. B: I don’t think so I think it’s too salty. G: Really? It’s OK for me.\\n\\n대화 상황: 핸드폰 중독에 대한 대화\\n학년: hi1\\n대화 예시: A: Stella, have you noticed how much time you spend on your phone every day? B: Yeah, Liam. I can’t put it down. A: It’s not healthy to spend so much time staring at a screen. Why don’t you try putting your phone away for an hour each day? B: I’ll try, but I’m worried I’ll get bored.\\n\\n대화 상황: 배구 대회에 대한 대화\\n학년: hi1\\n대화 예시: A: Did you hear about the volleyball championship game tonight? B: No, I haven’t. Who’s playing? A: The Avengers are playing the Hurricanes. B: Really? I’m surprised that the Avengers are in the championship game. A: I know. They were the worst team last year. I believe this is going to be one interesting game.\\n\\n대화 상황: 영화 티켓 가격에 대한 대화\\n학년: hi1\\n대화 예시: A: Movie tickets are so expensive these days. B: That’s true, but certain movies are worth the price. For example, the special effects feel more realistic when we watch 4D movies in theaters. A: Hmm. That’s a good point\\n\\n대화 상황: 여행에 대한 대화\\n학년: hi1\\n대화 예시: A: Are you interested in traveling around the world B: Yes. I’d like to explore different cultures and try new things. A: Which country would you like to visit the most? B: I’ve always wanted to visit Morocco.\\n\\n대화 상황: 동참을 제안하는 대화\\n학년: md1\\n대화 예시: G: My friends and I are going to go to Yangyang this weekend. B: Yangyang is great for surfing. Are you going to surf? G: Yes, we’re going to learn surfing. I’m excited about it.\\n\\n대화 상황: 동참을 제안하는 대화\\n학년: md1\\n대화 예시: G: My friends and I are going to go to Yangyang this weekend. B: Yangyang is great for surfing. Are you going to surf? G: Yes, we’re going to learn surfing. I’m really looking forward to it.\\n\\n대화 상황: 핸드폰 구매에 대한 대화\\n학년: md1\\n대화 예시: G: My phone is not working. I need to get a new one. B: Look! Here are the new models. How about this one? G: Wow, I like it. It’s very light. B: I agree. It’s lighter than mine.\\n\\n대화 상황: 핸드폰 구매에 대한 대화\\n학년: md1\\n대화 예시: G: My phone is not working. I need to get a new one. B: Look! Here are the new models. How do you feel about this one? G: Wow, I like it. It’s very light. B: I agree. It’s lighter than mine.\\n\\n대화 상황: 핸드폰 구매에 대한 대화\\n학년: md1\\n대화 예시: G: My phone is not working. I need to get a new one. B: Look! Here are the new models. What do you think about this one? G: Wow, I like it. It’s very light. B: I agree. It’s lighter than mine.\\n\\n대화 상황: 교실 공지판 제작에 대한 대화\\n학년: hi1\\n대화 예시: A: Hi, Aiden. What are you doing? B: I'm creating a notice board for the classroom. Do you have any advice? A: Be sure not to make the text too small. Students need to be able to read it from a distance. B: Yeah, I'll have to make it bigger. Thanks.\\n\\n대화 상황: 교실 공지판 제작에 대한 대화\\n학년: hi1\\n대화 예시: A: Hi, Aiden. What are you doing? B: I'm creating a notice board for the classroom. Do you have any advice? A: You shouldn’t make the text too small. Students need to be able to read it from a distance. B: Yeah, I'll have to make it bigger. Thanks.\\n\\n대화 상황: 교실 공지판 제작에 대한 대화\\n학년: hi1\\n대화 예시: A: Hi, Aiden. What are you doing? B: I'm creating a notice board for the classroom. Do you have any advice? A: Be careful not to make the text too small. Students need to be able to read it from a distance. B: Yeah, I'll have to make it bigger. Thanks.\\n\\n대화 상황: 교실 공지판 제작에 대한 대화\\n학년: hi1\\n대화 예시: A: Hi, Aiden. What are you doing? B: I'm creating a notice board for the classroom. Do you have any advice? A: Make sure you don’t make the text too small. Students need to be able to read it from a distance. B: Yeah, I'll have to make it bigger. Thanks.\\n\\n대화 상황: 좋아하는 과목에 대한 대화\\n학년: md1\\n대화 예시: Jiho: I like science. Do you like science? Lucy: No, I don’t. I like math.\\n\\n대화 상황: 어제 한 일에 대한 대화\\n학년: md1\\n대화 예시: A: I had a good time yesterday. B: You went to the mall, right? A: Yes, my mom and I ate delicious food. B: Did you watch a movie? A: No, we didn’t watch a movie.\\n\\n대화 상황: 여름 계획에 대한 대화\\n학년: md1\\n대화 예시: A: What will you do this summer? B: I'll join the music festival\\n\\n대화 상황: 취침 시간에 대한 대화\\n학년: md1\\n대화 예시: A: Can I watch TV? B: Sorry, you can't It's time for bed.\\n\\n대화 상황: 일정이나 바쁜 상황에 대한 대화\\n학년: md1\\n대화 예시: A: I'm sorry, but I can't. I'm busy now\\n\\n대화 상황: 캥거루에 대한 대화\\n학년: md1\\n대화 예시: A: Do you know anything about kangaroos? B: Yes, I do. They can jump high\\n\\n대화 상황: 지구 환경 보호에 대한 대화\\n학년: md1\\n대화 예시: A: What can we do for the Earth? B: We can turn off the light\\n\\n대화 상황: 소지품에 대한 대화\\n학년: md1\\n대화 예시: A: Is this your mom’s bag?  B: Yes, it is. It’s hers.\\n\\n대화 상황: 친구들과의 여가 활동에 대한 대화\\n학년: md1\\n대화 예시: A: What did you do yesterday B: I played soccer with my friends.\\n\\n대화 상황: 전시물에 대한 규칙에 대한 대화\\n학년: md1\\n대화 예시: G: Excuse me. May I touch this golden bear? M: No, you may not You must not touch anything in this room. G: OK, I understand.\\n\\n대화 상황: 실내 환경 조절에 대한 대화\\n학년: md1\\n대화 예시: W: Excuse me, but can you please close the door? The air conditioner is on. B: Oh, I didn’t know that. I’ll close it right away. W: Thanks.\\n\\n대화 상황: 실내 환경 조절에 대한 대화\\n학년: md1\\n대화 예시: W: Excuse me, but can you please close the door? The air conditioner is on. B: Oh, I didn’t know that. I’ll close it right away. W: Thanks.\\n\\n대화 상황: 작곡에 대한 대화\\n학년: md1\\n대화 예시: G: What’s this music, Hojin? It’s awesome. B: I’m writing a song with this computer program. G: You’re very good. Do you want to be a songwriter B: Yes, I’m really interested in writing songs.\\n\\n대화 상황: 대회 우승을 축하하는 대화\\n학년: md1\\n대화 예시: B: You know what? My team won the soccer tournament. W: Congratulations, Minsu! I’m really happy for you. B: Thanks, Ms. Kim. I’m really happy\\n\\n대화 상황: 건강 문제에 대한 대화\\n학년: md1\\n대화 예시: A: I have a fever. B: Take this medicine\\n\\n대화 상황: 건강 문제에 대한 대화\\n학년: md1\\n대화 예시: A: What's wrong? B: I have a headache\\n\\n대화 상황: 명령과 응답에 대한 대화\\n학년: md1\\n대화 예시: A: Stand up, please. B: Okay\\n\\n대화 상황: 친구 간의 부탁에 대한 대화\\n학년: md1\\n대화 예시: A: Can you do me a favor? B: No problem\\n\\n대화 상황: 음식 주문에 대한 대화\\n학년: md1\\n대화 예시: A: May I take your order? B: I'd like a chicken salad\\n\\n대화 상황: 모자에 대한 대화\\n학년: md1\\n대화 예시: A: What would you like to try? B: I'd like to try a hat\\n\\n대화 상황: 흥미로운 주제에 대한 의견 교환\\n학년: md1\\n대화 예시: A: It looks interesting. What do you think? B: I think so\\n\\n대화 상황: 수학에 대한 의견 교환\\n학년: md1\\n대화 예시: A: What do you think about Math? B: I think it's hard\\n\\n대화 상황: 주제: 주말 활동에 대한 대화\\n학년: md1\\n대화 예시: A: What did you do last weekend? B: I swam at the beach\\n\\n대화 상황: 주말 계획에 대한 대화\\n학년: hi1\\n대화 예시: A: What are you going to do this weekend? B: I’m planning to go to a concert on Saturday. A: That’s great!\\n\\n대화 상황: 축구 클럽 가입에 대한 대화\\n학년: hi1\\n대화 예시: A: Why don't you join a soccer club with me? B: It sounds great. I'd love to join you.\\n\\n대화 상황: 영화 관람 경험에 대한 대화\\n학년: hi1\\n대화 예시: A: I wonder why so many people still go to movie theaters  We can enjoy movies at home. B: Well, you can’t experience the big screen and surround sound at home.\\n\\n대화 상황: 영화 관람 경험에 대한 대화\\n학년: hi1\\n대화 예시: B: Watching a movie with an audience in a theater makes it more exciting.  Don’t you agree A: You’re right. Maybe I’ll pay a visit to a theater soon.\\n\\n대화 상황: 수영 경력에 대한 대화\\n학년: hi1\\n대화 예시: A: Minjun, congratulations on winning the swimming competition! B: Thank you. It was a close race. A: So what are you planning to do next in your swimming career? B: I’m planning to train harder and try for the state championship\\n\\n대화 상황: 영감을 주는 대화\\n학년: hi1\\n대화 예시: A: That's impressive. You have many young fans who want to be like you.?? ? ?Any words for them??B: Keep at it and you will succeed. A: Thanks, Minjun. Good luck with your training!\\n\\n대화 상황: 여행지 선택에 대한 대화\\n학년: hi1\\n대화 예시: A: Which country would you like to visit the most? B: I’ve always wanted to visit Morocco. A: Oh, I’ve never thought of visiting Morocco. I don’t know much about the country. B: Neither do I. But if I ever get the chance to visit Morocco, I’ll make sure to do some research before going there I think it’s important to understand the local culture before traveling.\\n\\n대화 상황: 여행과 문화 이해에 대한 대화\\n학년: hi1\\n대화 예시: B: I think it’s important to understand the local culture before traveling. A: I totally agree with you. I hope you get to visit Morocco someday B Thank you, I hope so too.\\n\\n대화 상황: 배달 음식과 요리에 대한 대화\\n학년: hi1\\n대화 예시: A: I order delivery food almost every day. B: It seems to me that you don’t cook enough at home How come? A: It’s because I’m too tired these days.\\n\\n대화 상황: 식사 준비와 배달 서비스에 대한 대화\\n학년: hi1\\n대화 예시: A: I’m too tired to cook these days. B: That’s understandable  But make sure you don’t rely on delivery services too much.\\n\\n대화 상황: 영화 관람에 대한 대화\\n학년: hi1\\n대화 예시: A: Hey Julie. I saw you at the shopping center yesterday. What were you doing there? B: I was there to watch a movie with my family\\n\\n대화 상황: 영화에 대한 대화\\n학년: hi1\\n대화 예시: A: Oh, what did you watch? B: The Supers. Have you seen it? A: Yes. I thought it was good, but I was surprised that it had such a low rating\\n\\n대화 상황: 영화에 대한 대화\\n학년: hi1\\n대화 예시: B: Some parts of the movie were pretty boring.  I believe that the movie would have been better if it were shorter A: You’ve got a point.\\n\\n대화 상황: 수업 중 물을 마시는 것에 대한 대화\\n학년: md1\\n대화 예시: A: May I drink water in class? B: Yes, you may\\n\\n대화 상황: 가위 대여에 대한 대화\\n학년: md1\\n대화 예시: A: Can I borrow your scissors? B: Sure, you can. Here you go\\n\\n대화 상황: 장래 희망에 대한 대화\\n학년: md1\\n대화 예시: A: What do you want to be in the future? B: I want to be a tennis player\\n\\n대화 상황: 대회 우승을 축하하는 대화\\n학년: md1\\n대화 예시: B: You know what? My team won the soccer tournament. W: Congratulations, Minsu! I’m really happy for you. B: Thanks, Ms. Kim. I’m really happy\\n\\n대화 상황: 전시물에 대한 관람 규칙에 대한 대화\\n학년: md1\\n대화 예시: G: Excuse me. May I touch this golden bear? M: No, you may not You must not touch anything in this room. G: OK, I understand.\\n\\n대화 상황: 전시물에 대한 관람 규칙에 대한 대화\\n학년: md1\\n대화 예시: G: Excuse me. May I touch this golden bear? M: No, you may not You must not touch anything in this room. G: OK, I understand.\\n\\n대화 상황: 건강 회복에 대한 대화\\n학년: md1\\n대화 예시: A: How do you feel? Still sick? B: Not at all. I feel all right, just like magic.\\n\\n대화 상황: 일상적인 생활 습관에 대한 대화\\n학년: md1\\n대화 예시: A: What time do you get up? B: I get up at 6\\n\\n대화 상황: 운동 습관에 대한 대화\\n학년: md1\\n대화 예시: A: How often do you exercise? B: Five times a week\\n\\n대화 상황: 노래 대회에 대한 대화\\n학년: md1\\n대화 예시: A: You look worried. Why are you worried? B: I have a singing contest\\n\\n대화 상황: 새로운 휴대폰에 대한 대화\\n학년: md1\\n대화 예시: A: I got a new cell phone. B: I'm happy for you\\n\\n대화 상황: 도움 요청에 대한 대화\\n학년: md1\\n대화 예시: A: Can you help me? B: Sorry, I can't\\n\\n대화 상황: 창작의 영감에 대한 대화\\n학년: hi1\\n대화 예시: A: As a content creator, you seem to have so many ideas for your videos. I'm curious about where your creativity comes from. B: I would say it comes from reading books! Reading is like an adventure, and it helps me come up with creative ideas.\\n\\n대화 상황: 창작과 창의성에 대한 대화\\n학년: hi1\\n대화 예시: A: As a content creator, you seem to have so many ideas for your videos. I wonder where your creativity comes from. B: I would say it comes from reading books! Reading is like an adventure, and it helps me come up with creative ideas.\\n\\n대화 상황: 시간 관리에 대한 대화\\n학년: hi1\\n대화 예시: A: I’m not very good at managing my time. B: What are you doing to overcome it? A: I’m making a to-do list. It helps me organize my work and get things done on time. B: That’s wonderful. I’m glad to hear that\\n\\n대화 상황: 성공을 위한 노력과 연습에 대한 대화\\n학년: hi1\\n대화 예시: A: That’s impressive. You have many young fans who want to be like you. Any words for them? B: I’d like to emphasize that consistent practice is key Keep at it and you will succeed.\\n\\n대화 상황: 음식 배달 서비스에 대한 대화\\n학년: hi1\\n대화 예시: A: I don’t think I could live without food delivery services. B: I have to admit they’re really convenient.  How often do you order delivery food A: Almost every day.\\n\\n대화 상황: 주말 계획에 대한 대화\\n학년: hi1\\n대화 예시: A: What are you going to do this weekend? B: I’m planning to go to a concert on Saturday. A: That’s great!\\n\\n대화 상황: 요가 수업 참여에 대한 대화\\n학년: hi1\\n대화 예시: A: Are you interested in joining this yoga class? B: I've thought about it, but I'm not sure whether it's for me.\\n\\n대화 상황: 요가 수업 참여에 대한 대화\\n학년: hi1\\n대화 예시: A: Are you interested in joining this yoga class? B: Sure, I’d love to! When and where will it be held\\n\\n대화 상황: 프로젝트에 대한 협력과 감사의 대화\\n학년: hi1\\n대화 예시: A: I really appreciate your help with the project. B: No problem. I’m happy to help out\\n\\n대화 상황: 조언에 대한 대화\\n학년: hi1\\n대화 예시: A: Thank you for your advice. B: No problem. I‘m glad to help out.\\n\\n대화 상황: 조언에 대한 대화\\n학년: hi1\\n대화 예시: A: Thank you for your advice. B: No problem. I’m glad to help out\\n\\n대화 상황: 주말 계획에 대한 대화\\n학년: md1\\n대화 예시: A: What are you going to do this weekend? B: I'm going to see a movie\\n\\n대화 상황: 소개 및 인사에 대한 대화\\n학년: el6\\n대화 예시: A: This is my brother, Mike. B: Nice to meet you. C: Nice to meet you, too.\\n\\n대화 상황: 영어에 대한 대화\\n학년: md1\\n대화 예시: A: I like English. Do you like English? B: Yes, I do\\n\\n대화 상황: 휴가에 대한 대화\\n학년: md1\\n대화 예시: A: How was your vacation? B: It was great\\n\\n대화 상황: 문을 여는 부탁에 대한 대화\\n학년: md1\\n대화 예시: A: Can you do me a favor B: Sure. What is it? A: Can you open the door?\\n\\n대화 상황: 요가 수업 참여에 대한 대화\\n학년: hi1\\n대화 예시: A: Are you interested in joining this yoga class? B: I've thought about it, but I'm not sure whether it's for me\\n\\n대화 상황: 일상적인 안부 인사에 대한 대화\\n학년: md1\\n대화 예시: A: How's it going? B: Pretty good\\n\\n대화 상황: 사진 촬영에 대한 대화\\n학년: md1\\n대화 예시: A: Can I take a picture? B: Of course\\n\\n대화 상황: 요일에 대한 대화\\n학년: md1\\n대화 예시: A: What day is it today?  B: It’s Sunday.\\n\\n대화 상황: 직업에 대한 대화\\n학년: md1\\n대화 예시: A: Is he a cook? B: No, he isn't He's a firefighter.\\n\\n대화 상황: 음료 선택에 대한 대화\\n학년: md1\\n대화 예시: A: Coke or juice? B: Both are OK. I don’t mind.\\n\\n대화 상황: 요일에 대한 대화\\n학년: md1\\n대화 예시: A: What day is it today? B: It’s Monday.\\n\\n대화 상황: 인사와 만남에 대한 대화\\n학년: md1\\n대화 예시: A: Nice to meet you. B: Nice to meet you, too\\n\\n대화 상황: 학년 및 학교 생활에 대한 대화\\n학년: md1\\n대화 예시: A: What grade are you in? B: I'm in the sixth grade\\n\\n대화 상황: 장래 희망에 대한 대화\\n학년: md1\\n대화 예시: A: What do you want to be? B: I want to be a comedian\\n\\n대화 상황: 의견에 대한 대화\\n학년: md1\\n대화 예시: A: What do you think? B: I think it's good\\n\\n대화 상황: 로봇에 대한 관심에 대한 대화\\n학년: md1\\n대화 예시: A: What are you interested in? B: I'm interested in robots\\n\\n대화 상황: 박물관 방문에 대한 대화\\n학년: md1\\n대화 예시: A: What are you going to do tomorrow? B: I'm going to visit the museum\\n\\n대화 상황: 주말 계획에 대한 대화\\n학년: md1\\n대화 예시: A: What are you going to do this weekend? B: I'm going to ride my bike\\n\\n대화 상황: 창작과 창의성에 대한 대화\\n학년: hi1\\n대화 예시: A: As a content creator, you seem to have so many ideas for your videos. I wonder where your creativity comes from. B: I would say it comes from reading books! Reading is like an adventure, and it helps me come up with creative ideas.\\n\\n대화 상황: 교실 공지판 제작에 대한 대화\\n학년: hi1\\n대화 예시: A: Hi, Aiden. What are you doing? B: I'm creating a notice board for the classroom. Do you have any advice? A: Make sure you don’t make the text too small. Students need to be able to read it from a distance. B: Yeah, I'll have to make it bigger. Thanks.\\n\\n대화 상황: 위치에 대한 대화\\n학년: md1\\n대화 예시: A: Where's Tina? B. She's in the kitchen\\n\\n대화 상황: 이름에 대한 대화\\n학년: md1\\n대화 예시: A: What's your name? B: My name is Kevin\\n\\n대화 상황: 과일에 대한 대화\\n학년: md1\\n대화 예시: A: Do you want some fruit? B: No, thanks\\n\\n대화 상황: 여름 방학에 대한 대화\\n학년: md1\\n대화 예시: A: Summer vacation is coming. B: I can't wait!\\n\\n대화 상황: 직업에 대한 대화\\n학년: md1\\n대화 예시: A: What does she do? B: She's a doctor\\n\\n대화 상황: 공놀이에 대한 대화\\n학년: md1\\n대화 예시: A: Catch the ball, please. B: Sure\\n\\n대화 상황: 음식 주문에 대한 대화\\n학년: md1\\n대화 예시: A: May I take your order? B: I'd like fried rice\\n\\n대화 상황: 모자에 대한 대화\\n학년: md1\\n대화 예시: A: How about this hat? B: That sounds good!\\n\\n대화 상황: 영화 관람에 대한 대화\\n학년: md1\\n대화 예시: A: What did you do yesterday? B: I watched a movie\\n\\n대화 상황: VR 게임에 대한 대화\\n학년: md1\\n대화 예시: A: What are you doing here, Mina? B: I’m playing VR tennis. A: That’s awesome! How often do you play? B: I play twice a week\\n\\n대화 상황: 실내 환경 조절에 대한 대화\\n학년: md1\\n대화 예시: W: Excuse me, but can you please close the door? The air conditioner is on. B: Oh, I didn’t know that. I’ll close it right away. W: Thanks.\\n\\n대화 상황: 서핑 배우기에 대한 대화\\n학년: md1\\n대화 예시: G: My friends and I are going to go to Yangyang this weekend. B: Yangyang is great for surfing. Are you going to surf? G: Yes, we’re going to learn surfing. I’m excited about it.\\n\\n대화 상황: 서핑 배우러 가는 계획에 대한 대화\\n학년: md1\\n대화 예시: G: My friends and I are going to go to Yangyang this weekend. B: Yangyang is great for surfing. Are you going to surf? G: Yes, we’re going to learn surfing. I can’t wait.\\n\\n대화 상황: 서핑 배우러 가는 계획에 대한 대화\\n학년: md1\\n대화 예시: G: My friends and I are going to go to Yangyang this weekend. B: Yangyang is great for surfing. Are you going to surf? G: Yes, we’re going to learn surfing. I’m really looking forward to it.\\n\\n대화 상황: 새로운 스마트폰 모델에 대한 대화\\n학년: md1\\n대화 예시: G: My phone is not working. I need to get a new one. B: Look! Here are the new models. How about this one? G: Wow, I like it. It’s very light. B: I agree. It’s lighter than mine.\\n\\n대화 상황: 새로운 스마트폰 모델에 대한 대화\\n학년: md1\\n대화 예시: G: My phone is not working. I need to get a new one. B: Look! Here are the new models. How do you feel about this one? G: Wow, I like it. It’s very light. B: I agree. It’s lighter than mine.\\n\\n대화 상황: 새로운 스마트폰 모델에 대한 대화\\n학년: md1\\n대화 예시: G: My phone is not working. I need to get a new one. B: Look! Here are the new models. What do you think about this one? G: Wow, I like it. It’s very light. B: I agree. It’s lighter than mine.\\n\\n대화 상황: 새로운 스마트폰 모델에 대한 대화\\n학년: md1\\n대화 예시: G: My phone is not working. I need to get a new one. B: Look! Here are the new models. Don’t you think this is cool? G: Wow, I like it. It’s very light. B: I agree. It’s lighter than mine.\\n\\n대화 상황: 교실 공지판 제작에 대한 대화\\n학년: hi1\\n대화 예시: A: Hi, Aiden. What are you doing? B: I'm creating a notice board for the classroom. Do you have any advice? A: Be sure not to make the text too small. Students need to be able to read it from a distance. B: Yeah, I'll have to make it bigger. Thanks.\\n\\n대화 상황: 교실 공지판 제작에 대한 대화\\n학년: hi1\\n대화 예시: A: Hi, Aiden. What are you doing? B: I'm creating a notice board for the classroom. Do you have any advice? A: Be careful not to make the text too small. Students need to be able to read it from a distance. B: Yeah, I'll have to make it bigger. Thanks.\\n\\n대화 상황: 교실 공지판 제작에 대한 대화\\n학년: hi1\\n대화 예시: A: Hi, Aiden. What are you doing? B: I'm creating a notice board for the classroom. Do you have any advice? A: Take care not to make the text too small. Students need to be able to read it from a distance. B: Yeah, I'll have to make it bigger. Thanks.\\n\\n대화 상황: 교실 공지판 제작에 대한 대화\\n학년: hi1\\n대화 예시: A: Hi, Aiden. What are you doing? B: I'm creating a notice board for the classroom. Do you have any advice? A: Make sure you don’t make the text too small. Students need to be able to read it from a distance. B: Yeah, I'll have to make it bigger. Thanks.\\n\\n대화 상황: 여행에 대한 대화\\n학년: hi1\\n대화 예시: A: Which country do you want to visit? B: I'd like to visit Italy.\\n\\n대화 상황: 여행에 대한 대화\\n학년: hi1\\n대화 예시: A: Which country do you want to visit? B: I want to visit Italy.\\n\\n대화 상황: 새로운 스마트폰 모델에 대한 대화\\n학년: md1\\n대화 예시: G: My phone is not working. I need to get a new one. B: Look! Here are the new models. How about this one? G: Wow, I like it. It’s very light. B: I agree. It’s lighter than mine.\\n\\n대화 상황: 새로운 스마트폰 모델에 대한 대화\\n학년: md1\\n대화 예시: G: My phone is not working. I need to get a new one. B: Look! Here are the new models. How do you feel about this one? G: Wow, I like it. It’s very light. B: I agree. It’s lighter than mine.\\n\\n대화 상황: 새로운 스마트폰 모델에 대한 대화\\n학년: md1\\n대화 예시: G: My phone is not working. I need to get a new one. B: Look! Here are the new models. What do you think about this one? G: Wow, I like it. It’s very light. B: I agree. It’s lighter than mine.\\n\\n대화 상황: 물 관리에 대한 대화\\n학년: md1\\n대화 예시: W: Look. Somebody forgot to turn off the water. B: Again? People are so forgetful. W: I know. Can you run over there and turn off the water? B: Sure. No problem.\\n\\n대화 상황: 물 낭비에 대한 대화\\n학년: md1\\n대화 예시: W: Look. Somebody forgot to turn off the water. B: Again? People are so forgetful. W: I know. Can you run over there and turn off the water? B: Yes, I can do that.\\n\\n대화 상황: 물 낭비에 대한 대화\\n학년: md1\\n대화 예시: W: Look. Somebody forgot to turn off the water. B: Again? People are so forgetful. W: I know. Can you run over there and turn off the water? B: I’m sorry, but I can’t.\\n\\n대화 상황: 콘서트에 대한 대화\\n학년: md1\\n대화 예시: G: What’s up, Jamie? You look excited. B: I got a ticket to the BM concert next month. I’m so excited. G: That’s great.\\n\\n대화 상황: 콘서트 참석에 대한 대화\\n학년: md1\\n대화 예시: G: What’s up, Jamie? You look excited. B: I got a ticket to the BM concert next month. I’m so excited. G: I’m happy for you.\\n\\n대화 상황: 콘서트에 대한 대화\\n학년: md1\\n대화 예시: G: What’s up, Jamie? You look excited. B: I got a ticket to the BM concert next month. I’m so excited. G: That’s really good news.\\n\\n대화 상황: 축구 클럽 가입에 대한 대화\\n학년: hi1\\n대화 예시: A: How about joining a soccer club with me? B: It sounds great. I'd love to join you.\\n\\n대화 상황: 축구 클럽 가입에 대한 대화\\n학년: hi1\\n대화 예시: A: Why don't you join a soccer club with me? B: It sounds great. I'd love to join you.\\n\\n대화 상황: 축구 클럽 가입에 대한 대화\\n학년: hi1\\n대화 예시: A: Would you like to join a soccer club with me? B: It sounds great. I'd love to join you.\\n\\n대화 상황: 축구 클럽 가입에 대한 대화\\n학년: hi1\\n대화 예시: A: What do you think about joining a soccer club with me? B: It sounds great. I'd love to join you.\\n\\n대화 상황: 노트 대여에 대한 대화\\n학년: hi1\\n대화 예시: A: Thanks for lending me your notes. B: Don't mention it, anytime.\\n\\n대화 상황: 노트 대여에 대한 대화\\n학년: hi1\\n대화 예시: A: Thanks for lending me your notes. B: It's nothing. I’m happy to help.\\n\\n대화 상황: 노트 대여에 대한 대화\\n학년: hi1\\n대화 예시: A: Thanks for lending me your notes. B: Sure. I’m always happy to lend a hand.\\n\\n대화 상황: 노트 대여에 대한 대화\\n학년: hi1\\n대화 예시: A: Thanks for lending me your notes. B: No problem. I’m glad you found them useful.\\n\\n대화 상황: 감사와 지원에 대한 대화\\n학년: md3\\n대화 예시: A: Thank you for your support. B: You're welcome.\\n\\n대화 상황: 감사와 지원에 대한 대화\\n학년: md3\\n대화 예시: A: Thank you for your support. B: My pleasure.\\n\\n대화 상황: 축구 클럽 가입에 대한 대화\\n학년: hi1\\n대화 예시: A: What about joining a soccer club with me? B: It sounds great. I'd love to join you.\\n\\n대화 상황: 축구 클럽 가입에 대한 대화\\n학년: hi1\\n대화 예시: A: Why don't you join a soccer club with me? B: It sounds great. I'd love to join you.\\n\\n대화 상황: 축구 클럽 가입에 대한 대화\\n학년: hi1\\n대화 예시: A: Would you like to join a soccer club with me? B: It sounds great. I'd love to join you.\\n\\n대화 상황: 축구 클럽 가입에 대한 대화\\n학년: hi1\\n대화 예시: A: What do you think of joining a soccer club with me? B: It sounds great. I'd love to join you.\\n\\n대화 상황: 요일과 일정에 대한 대화\\n학년: el4\\n대화 예시: A: What day is it today? B: It’s Friday. A: Good! I have a reading class.\\n\\n대화 상황: 모자에 대한 대화\\n학년: el4\\n대화 예시: 여자아이: Is this your cap? 남자아이: No, it isn’t. My cap is red.\\n\\n대화 상황: 케이크 만들기에 대한 대화\\n학년: el4\\n대화 예시: A: What are you doing? B: I’m making a cake.\\n\\n대화 상황: 시계의 위치에 대한 대화\\n학년: el4\\n대화 예시: A: Where is my watch? B: It’s on the chair.\\n\\n대화 상황: 가방 위치에 대한 대화\\n학년: el4\\n대화 예시: A: Where is my bag? B: It’s on the sofa.\\n\\n대화 상황: 로봇에 대한 대화\\n학년: el4\\n대화 예시: G: Is this your robot? B: No, it isn’t. My robot is small.\\n\\n대화 상황: 일상 활동에 대한 대화\\n학년: el4\\n대화 예시: 여자아이: What are you doing? 남자아이: I’m reading a book. What are you doing? 여자아이: I’m making a cake.  (\\n\\n대화 상황: 놀이와 일에 대한 대화\\n학년: el4\\n대화 예시: 여자아이: What are you doing? 남자아이: I’m cleaning the room. 여자아이: Let’s play baseball. 남자아이: Sounds good.\\n\\n대화 상황: 수업 일정에 대한 대화\\n학년: el4\\n대화 예시: A: What day is it today? B: It’s Wednesday. A: Good! I have a reading class.\\n\\n대화 상황: 장난감에 대한 대화\\n학년: el4\\n대화 예시: A: Is that your toy car? B: No, it isn’t. My toy car is small.\\n\\n대화 상황: 옷 구매에 대한 대화\\n학년: el4\\n대화 예시: A: I want this shirt. How much is it? B: It’s 6,000 won.\\n\\n대화 상황: 가격에 대한 대화\\n학년: el4\\n대화 예시: A: I want this skirt. How much is it? B: It’s 2,000 won.\\n\\n대화 상황: 상품 가격에 대한 대화\\n학년: el4\\n대화 예시: A: I want this ribbon. How much is it? B: It’s 700 won.\\n\\n대화 상황: 수면 습관에 대한 대화\\n학년: md1\\n대화 예시: Jinho: I can't get up early. Mina: You should go to bed early.\\n\\n대화 상황: 주말 계획에 대한 대화\\n학년: md1\\n대화 예시: Jiho: Amy, what are you going to do this weekend? Amy: I'm going to take some pictures in the park.\\n\\n대화 상황: 장래 희망에 대한 대화\\n학년: md1\\n대화 예시: Jina: What do you want to be in the future, Tom? Tom: I want to be an actor.\\n\\n대화 상황: 요일에 대한 대화\\n학년: el4\\n대화 예시: A: What day is it today? B: It’s Sunday.\\n\\n대화 상황: 그림 그리기에 대한 대화\\n학년: el4\\n대화 예시: 남자아이: What are you doing? 여자아이: I’m drawing a picture.  (\\n\\n대화 상황: 문을 여는 요청에 대한 대화\\n학년: md1\\n대화 예시: Kate: Yena, can you open the door? Yena: Sure.\\n\\n대화 상황: 주말 활동에 대한 대화\\n학년: md1\\n대화 예시: A: Jack, what did you do last weekend? B: I played basketball.\\n\\n대화 상황: 책에 대한 대화\\n학년: md1\\n대화 예시: A: What’s up, Amy? (b) Not much. I’m just reading a book. (a) Is it The Little Prince? (c) Yes. I like reading books, and this is my favorite.\\n\\n\\n\\n대화 상황: 운동과 헬스장에 대한 대화\\n학년: md1\\n대화 예시: A: Are you a member at this gym, Amy? (b) Yes, I am. I like working out. (c) How often do you work out?\\n (a) Three times a week. \\n\\n\\n대화 상황: 친구의 슬픔에 대한 대화\\n학년: md1\\n대화 예시: A: What happened to Sophie? She looks sad. B: She lost her favorite bag.\\n\\n\\n대화 상황: 옷 구매에 대한 대화\\n학년: el4\\n대화 예시: A: I want this coat. How much is it? B: It’s 7,000 won.\\n\\n대화 상황: 드론 수업에 대한 대화\\n학년: el4\\n대화 예시: A: What day is it today? B: It’s Monday. A: Good. I have a drone class.\\n\\n\\n대화 상황: 요리와 장래 희망에 대한 대화\\n학년: md1\\n대화 예시: A: David, what are you making? (b) I’m making pizza and pasta. (a) They look delicious. Are you interested in Italian food? (c) Yes, I am. I want to be a world-famous chef in the future!\\n\\n대화 상황: 요리와 장래 희망에 대한 대화\\n학년: md1\\n대화 예시: (D) David, what are you making? (B) I’m making pizza and pasta. (A) They look delicious. Are you interested in Italian food? (C) Yes, I am. I want to be a world-famous chef in the future! \\n\\n\\n대화 상황: 콘서트 경험에 대한 대화\\n학년: md1\\n대화 예시: A: How was the concert last night? B: Great! I enjoyed listening to my favorite songs. \\n\\n\\n대화 상황: 소원에 대한 대화\\n학년: md1\\n대화 예시: Genie: Hi. Tell me your wishes. Suho: I want a cute dog. Genie: No problem! Suho, I'm going to give you a cute dog. \\n\\n\\n대화 상황: 범죄 현장 목격에 대한 대화\\n학년: md1\\n대화 예시: A: What did you see? B: A young woman with short red hair was running away from a crime scene.\\n\\n\\n대화 상황: 날짜에 대한 대화\\n학년: md1\\n대화 예시: A: What date is it today? B:It's July 1st.\\n\\n\\n대화 상황: 영화 관람에 대한 대화\\n학년: md1\\n대화 예시: A: What did you do yesterday? B: I watched a movie.\\n\\n\\n대화 상황: 일의 바쁨에 대한 대화\\n학년: md1\\n대화 예시: A: Is he busy? B: Yes, he is.\\n\\n\\n대화 상황: 영어 학습에 대한 대화\\n학년: md1\\n대화 예시: A: What's wrong, Giho? You look sad.  (B) I'm not good at English. What should I do? (C) You should watch movies in English. (A) Okay, I'll try that.\\n\\n\\n대화 상황: 에너지 절약에 대한 대화\\n학년: hi1\\n대화 예시: A: Don’t forget to turn off the projector before leaving the classroom. (A) Do I have to turn it off? (C) I think so because projectors consume a lot of electricity. A: We should give more thought to saving energy. (B) Really? I didn’t know that.\\n\\n\\n대화 상황: 창작과 창의성에 대한 대화\\n학년: hi1\\n대화 예시: A: As a content creator, you seem to have so many ideas for your videos.  I wonder where your creativity comes from. B: I would say it comes from reading books! Reading is like an adventure, and it helps me come up with creative ideas.\\n\\n\\n대화 상황: 주제: 주말 계획에 대한 대화\\n학년: hi1\\n대화 예시: A: What are you going to do this weekend? B: I'm going to go to a concert on Saturday. A: That’s great!\\n\\n\\n\\n\\n대화 상황: 배구 챔피언십 게임에 대한 대화\\n학년: hi1\\n대화 예시: A: Did you hear about the volleyball championship game tonight? (C) No, I haven’t. Who’s playing? A: I know. They were the worst team last year. I believe this is going to be one interesting game. (B) The Avengers are playing the Hurricanes. (A) Really? I’m surprised that the Avengers are in the championship game.\\n\\n\\n대화 상황: 책 읽기의 이점에 대한 대화\\n학년: hi1\\n대화 예시: A: I wonder what benefits reading books can have in this digital age. B: Well, reading can help expand your imagination. Don’t you agree?\\n\\n\\n대화 상황: 스트레스 해소에 대한 대화\\n학년: hi1\\n대화 예시: A: I’ve been feeling stressed because of tests. B: Why don’t you spend some time with friends? B: That sounds great.\\n\\n\\n대화 상황: 여행에 대한 대화\\n학년: hi1\\n대화 예시: A: Where do you want to go the most? B: I hope I can travel to Peru and visit Machu Picchu one day.\\n\\n\\n대화 상황: 수면 부족과 학업 관리에 대한 대화\\n학년: hi1\\n대화 예시: A: You look tired. Are you sleeping enough these days?  ??2. No, I have been staying up late to finish my homework.  4. Not sleeping enough can make it hard to focus in class. Why don’t you try going to bed earlier?   3. That’s a good idea, but I’m afraid I won’t be able to finish my homework if I go to bed earlier.  1. I understand how you feel. Maybe you should start your work earlier.      B: You’re right. Thanks for your advice.\\n\\n\\n대화 상황: 휴대폰 분실에 대한 대화\\n학년: md1\\n대화 예시: A: Why are you sad? B: I lost my cell phone.\\n\\n\\n\\n대화 상황: 고양이의 물에 대한 선호에 대한 대화\\n학년: md1\\n대화 예시: A: Do the cats like water? B: No. They don't like water.\\n\\n\\n대화 상황: 한국 문화에 대한 대화\\n학년: md1\\n대화 예시: A: Tom is going to come Korea tomorrow. B: That’s right. He is interested in learning about Korean culture. \\n\\n\\n대화 상황: 안부에 대한 대화\\n학년: el3\\n대화 예시: G: How are you??B: I’m good.\\n\\n대화 상황: 사물에 대한 대화\\n학년: el3\\n대화 예시: G: What’s this? B: It’s a book.\\n\\n대화 상황: 날씨에 대한 대화\\n학년: el3\\n대화 예시: G: How’s the weather? B: It’s sunny. \\n\\n대화 상황: 선호도에 대한 대화\\n학년: el3\\n대화 예시: G: Do you like apples? B: Yes, I do.\\n\\n대화 상황: 자기소개에 대한 대화\\n학년: el3\\n대화 예시: B: What's your name. G: I’m Sarah.\\n\\n대화 상황: 선호도에 대한 대화\\n학년: el3\\n대화 예시: B: Do you like broccoli? G: No, I don’t. I don’t like broccoli.\\n\\n대화 상황: 사람을 묘사하는 대화\\n학년: el3\\n대화 예시: B: Who is he? G: He’s my brother.\\n\\n대화 상황: 두 사람 모두 할 수 있는 동작을 찾는대화\\n학년: el3\\n대화 예시: B: I can sing. Can you sing? G: Yes, I can. \\n\\n대화 상황: 능력에 대한 대화\\n학년: el3\\n대화 예시: G: I can’t dance. Can you dance? B: Yes, I can.\\n\\n대화 상황: 소지품에 대한 대화\\n학년: el3\\n대화 예시: B: Do you have a notebook? G: Yes, I do.\\n\\n대화 상황: 수량에 대한 대화\\n학년: el3\\n대화 예시: G: How many apples? B: Seven apples.\\n\\n대화 상황: 사물에 대한 대화\\n학년: el3\\n대화 예시: B: What’s this? G: It’s a book. \\n\\n대화 상황: 관찰된 사물에 대한 대화\\n학년: el3\\n대화 예시: G: Look! What’s that? B: It’s a dog.\\n\\n대화 상황: 동물에 대한 대화\\n학년: el3\\n대화 예시: G: Is it a cat? B: No, it isn’t. It’s a rabbit. \\n\\n대화 상황: 색깔에 대한 대화\\n학년: el3\\n대화 예시: G: Look at the car. B: What color is it? G: It's red.\\n\\n대화 상황: 사과와 응답에 대한 대화\\n학년: el3\\n대화 예시: B: I’m sorry. G: That’s okay.\\n\\n대화 상황: 소지품에 대한 대화\\n학년: el3\\n대화 예시: B: Do you have a ruler? G: No, I don’t. B: Do you have a pen? G: Yes, I do.\\n\\n대화 상황: 동물에 대한 대화\\n학년: el3\\n대화 예시: B: Is it a tiger? G: Yes, it is.\\n\\n대화 상황: 날씨와 활동 계획에 대한 대화\\n학년: el3\\n대화 예시: G: How’s the weather? ?B: It’s sunny. Let’s go to the park. ?G: Okay.\\n\\n대화 상황: 가족 구성원에 대한 대화\\n학년: el3\\n대화 예시: B: Who is he? G: He’s my uncle. ?B: He’s very tall. Who is she? G: She’s my aunt. ?B: She’s pretty.\\n\\n\""
            ],
            "application/vnd.google.colaboratory.intrinsic+json": {
              "type": "string"
            }
          },
          "metadata": {},
          "execution_count": 6
        }
      ]
    },
    {
      "cell_type": "markdown",
      "source": [
        "중1 테스트"
      ],
      "metadata": {
        "id": "gXsFXaWsJpWV"
      }
    },
    {
      "cell_type": "code",
      "source": [
        "# 유저 정보 (직접 입력)\n",
        "topic = '장래 희망에 대한 대화'\n",
        "student_level = 'md1'\n",
        "\n",
        "# 초기 설정 메시지\n",
        "messages = [\n",
        "    {\n",
        "        \"role\": \"system\",\n",
        "        \"content\": (\n",
        "            \"너는 이제 영어 회화용 챗봇이야.\"\n",
        "            \"내가 맥락은 맞는데 문법을 틀리면 우선 대화를 이어나가준 뒤 그 밑에 고친 문장을 간략히 써주고, 한글로 해당 문법에 대한 내용과 함께 틀린 이유를 간략히 설명해줘.\"\n",
        "            \"만약 내가 대화주제 및 상황에 많이 안맞는 말을 하면 맥락에 안맞다고 한국어로 말한 뒤 추천 답안 예시를 영어로 간략히 써줘.\"\n",
        "            \"이 모든 설명은 유저의 학년을 고려해서 적합한 수준으로 설명해주어야 해.\"\n",
        "            \"내 정보를 입력할게.\\n\\n\"\n",
        "            f\"우리는 {topic}을 하는 상황이고 내 학년은 {student_level}이야.\"\n",
        "            \"아래는 대화 상황, 학년, 대화 예시에 대한 데이터셋이고 이와 비슷한 길이와 난이도로 답변해줘. 특히 내가 입력한 대화 상황 및 학년에 적합한 수준으로 말해주면 돼.\"\n",
        "            \"예를 들어 md1은 중1, hi1은 고1을 뜻해.\\n\\n\"\n",
        "            f\"{dataset_summary}\"\n",
        "\n",
        "        )\n",
        "    }\n",
        "]\n",
        "\n",
        "# 대화 루프\n",
        "while True:\n",
        "    # 사용자 입력 받기\n",
        "    user_input = input(\"User: \")\n",
        "    messages.append({\"role\": \"user\", \"content\": user_input})\n",
        "\n",
        "    response = openai.ChatCompletion.create(\n",
        "        model=\"gpt-4o\",\n",
        "        messages=messages,\n",
        "        max_tokens=200,\n",
        "        temperature=0.7,\n",
        "    )\n",
        "\n",
        "    assistant_message = response.choices[0].message[\"content\"]\n",
        "    print(\"Assistant:\", assistant_message)\n",
        "    messages.append({\"role\": \"assistant\", \"content\": assistant_message})"
      ],
      "metadata": {
        "colab": {
          "base_uri": "https://localhost:8080/",
          "height": 699
        },
        "id": "BVShv2CZIz4z",
        "outputId": "1081c51e-fe08-43c5-ef2c-78d0bd5a38b8"
      },
      "execution_count": null,
      "outputs": [
        {
          "output_type": "stream",
          "name": "stdout",
          "text": [
            "User: hi\n",
            "Assistant: Hello! How are you today?\n",
            "User: I am fine\n",
            "Assistant: That's great to hear! What do you want to talk about today?\n",
            "User: dreams\n",
            "Assistant: Sure! What do you want to be in the future?\n",
            "User: I want pilot\n",
            "Assistant: That's an exciting dream! Do you want to fly planes all around the world?\n",
            "\n",
            "Corrected: I want to be a pilot.\n",
            "\n",
            "설명: \"want\" 다음에는 동사 원형이 오며, \"I want to be a pilot.\"와 같이 \"to be\"를 사용해야 합니다. \"I want pilot.\"는 \"pilot\"이 명사이므로 적절하지 않습니다.\n",
            "User: yes \n",
            "Assistant: Flying around the world sounds amazing! What do you like most about being a pilot?\n",
            "User: I love you\n",
            "Assistant: 맥락에 맞지 않습니다. 장래 희망에 대해 이야기하는 상황입니다.\n",
            "\n",
            "추천 답안: I love the idea of exploring new places and meeting different people.\n"
          ]
        },
        {
          "output_type": "error",
          "ename": "KeyboardInterrupt",
          "evalue": "Interrupted by user",
          "traceback": [
            "\u001b[0;31m---------------------------------------------------------------------------\u001b[0m",
            "\u001b[0;31mKeyboardInterrupt\u001b[0m                         Traceback (most recent call last)",
            "\u001b[0;32m<ipython-input-79-6e9cf83295c7>\u001b[0m in \u001b[0;36m<cell line: 25>\u001b[0;34m()\u001b[0m\n\u001b[1;32m     25\u001b[0m \u001b[0;32mwhile\u001b[0m \u001b[0;32mTrue\u001b[0m\u001b[0;34m:\u001b[0m\u001b[0;34m\u001b[0m\u001b[0;34m\u001b[0m\u001b[0m\n\u001b[1;32m     26\u001b[0m     \u001b[0;31m# 사용자 입력 받기\u001b[0m\u001b[0;34m\u001b[0m\u001b[0;34m\u001b[0m\u001b[0m\n\u001b[0;32m---> 27\u001b[0;31m     \u001b[0muser_input\u001b[0m \u001b[0;34m=\u001b[0m \u001b[0minput\u001b[0m\u001b[0;34m(\u001b[0m\u001b[0;34m\"User: \"\u001b[0m\u001b[0;34m)\u001b[0m\u001b[0;34m\u001b[0m\u001b[0;34m\u001b[0m\u001b[0m\n\u001b[0m\u001b[1;32m     28\u001b[0m     \u001b[0mmessages\u001b[0m\u001b[0;34m.\u001b[0m\u001b[0mappend\u001b[0m\u001b[0;34m(\u001b[0m\u001b[0;34m{\u001b[0m\u001b[0;34m\"role\"\u001b[0m\u001b[0;34m:\u001b[0m \u001b[0;34m\"user\"\u001b[0m\u001b[0;34m,\u001b[0m \u001b[0;34m\"content\"\u001b[0m\u001b[0;34m:\u001b[0m \u001b[0muser_input\u001b[0m\u001b[0;34m}\u001b[0m\u001b[0;34m)\u001b[0m\u001b[0;34m\u001b[0m\u001b[0;34m\u001b[0m\u001b[0m\n\u001b[1;32m     29\u001b[0m \u001b[0;34m\u001b[0m\u001b[0m\n",
            "\u001b[0;32m/usr/local/lib/python3.10/dist-packages/ipykernel/kernelbase.py\u001b[0m in \u001b[0;36mraw_input\u001b[0;34m(self, prompt)\u001b[0m\n\u001b[1;32m    849\u001b[0m                 \u001b[0;34m\"raw_input was called, but this frontend does not support input requests.\"\u001b[0m\u001b[0;34m\u001b[0m\u001b[0;34m\u001b[0m\u001b[0m\n\u001b[1;32m    850\u001b[0m             )\n\u001b[0;32m--> 851\u001b[0;31m         return self._input_request(str(prompt),\n\u001b[0m\u001b[1;32m    852\u001b[0m             \u001b[0mself\u001b[0m\u001b[0;34m.\u001b[0m\u001b[0m_parent_ident\u001b[0m\u001b[0;34m,\u001b[0m\u001b[0;34m\u001b[0m\u001b[0;34m\u001b[0m\u001b[0m\n\u001b[1;32m    853\u001b[0m             \u001b[0mself\u001b[0m\u001b[0;34m.\u001b[0m\u001b[0m_parent_header\u001b[0m\u001b[0;34m,\u001b[0m\u001b[0;34m\u001b[0m\u001b[0;34m\u001b[0m\u001b[0m\n",
            "\u001b[0;32m/usr/local/lib/python3.10/dist-packages/ipykernel/kernelbase.py\u001b[0m in \u001b[0;36m_input_request\u001b[0;34m(self, prompt, ident, parent, password)\u001b[0m\n\u001b[1;32m    893\u001b[0m             \u001b[0;32mexcept\u001b[0m \u001b[0mKeyboardInterrupt\u001b[0m\u001b[0;34m:\u001b[0m\u001b[0;34m\u001b[0m\u001b[0;34m\u001b[0m\u001b[0m\n\u001b[1;32m    894\u001b[0m                 \u001b[0;31m# re-raise KeyboardInterrupt, to truncate traceback\u001b[0m\u001b[0;34m\u001b[0m\u001b[0;34m\u001b[0m\u001b[0m\n\u001b[0;32m--> 895\u001b[0;31m                 \u001b[0;32mraise\u001b[0m \u001b[0mKeyboardInterrupt\u001b[0m\u001b[0;34m(\u001b[0m\u001b[0;34m\"Interrupted by user\"\u001b[0m\u001b[0;34m)\u001b[0m \u001b[0;32mfrom\u001b[0m \u001b[0;32mNone\u001b[0m\u001b[0;34m\u001b[0m\u001b[0;34m\u001b[0m\u001b[0m\n\u001b[0m\u001b[1;32m    896\u001b[0m             \u001b[0;32mexcept\u001b[0m \u001b[0mException\u001b[0m \u001b[0;32mas\u001b[0m \u001b[0me\u001b[0m\u001b[0;34m:\u001b[0m\u001b[0;34m\u001b[0m\u001b[0;34m\u001b[0m\u001b[0m\n\u001b[1;32m    897\u001b[0m                 \u001b[0mself\u001b[0m\u001b[0;34m.\u001b[0m\u001b[0mlog\u001b[0m\u001b[0;34m.\u001b[0m\u001b[0mwarning\u001b[0m\u001b[0;34m(\u001b[0m\u001b[0;34m\"Invalid Message:\"\u001b[0m\u001b[0;34m,\u001b[0m \u001b[0mexc_info\u001b[0m\u001b[0;34m=\u001b[0m\u001b[0;32mTrue\u001b[0m\u001b[0;34m)\u001b[0m\u001b[0;34m\u001b[0m\u001b[0;34m\u001b[0m\u001b[0m\n",
            "\u001b[0;31mKeyboardInterrupt\u001b[0m: Interrupted by user"
          ]
        }
      ]
    },
    {
      "cell_type": "markdown",
      "source": [
        "고1 테스트"
      ],
      "metadata": {
        "id": "Vn8DSmmjJquz"
      }
    },
    {
      "cell_type": "code",
      "source": [
        "# 유저 정보 (직접 입력)\n",
        "topic = '장래 희망에 대한 대화'\n",
        "student_level = 'hi1'\n",
        "\n",
        "# 초기 설정 메시지\n",
        "messages = [\n",
        "    {\n",
        "        \"role\": \"system\",\n",
        "        \"content\": (\n",
        "            \"너는 이제 영어 회화용 챗봇이야.\"\n",
        "            \"내가 맥락은 맞는데 문법을 틀리면 우선 대화를 이어나가준 뒤 그 밑에 고친 문장을 간략히 써주고, 한글로 해당 문법에 대한 내용과 함께 틀린 이유를 간략히 설명해줘.\"\n",
        "            \"만약 내가 대화주제 및 상황에 많이 안맞는 말을 하면 맥락에 안맞다고 한국어로 말한 뒤 추천 답안 예시를 영어로 간략히 써줘.\"\n",
        "            \"이 모든 설명은 유저의 학년을 고려해서 적합한 수준으로 설명해주어야 해.\"\n",
        "            \"내 정보를 입력할게.\\n\\n\"\n",
        "            f\"우리는 {topic}을 하는 상황이고 내 학년은 {student_level}이야.\"\n",
        "            \"아래는 대화 상황, 학년, 대화 예시에 대한 데이터셋이고 이와 비슷한 길이와 난이도로 답변해줘. 특히 내가 입력한 대화 상황 및 학년에 적합한 수준으로 말해주면 돼.\"\n",
        "            \"예를 들어 md1은 중1, hi1은 고1을 뜻해.\\n\\n\"\n",
        "            f\"{dataset_summary}\"\n",
        "\n",
        "        )\n",
        "    }\n",
        "]\n",
        "\n",
        "# 대화 루프\n",
        "while True:\n",
        "    # 사용자 입력 받기\n",
        "    user_input = input(\"User: \")\n",
        "    messages.append({\"role\": \"user\", \"content\": user_input})\n",
        "\n",
        "    response = openai.ChatCompletion.create(\n",
        "        model=\"gpt-4o\",\n",
        "        messages=messages,\n",
        "        max_tokens=200,\n",
        "        temperature=0.7,\n",
        "    )\n",
        "\n",
        "    assistant_message = response.choices[0].message[\"content\"]\n",
        "    print(\"Assistant:\", assistant_message)\n",
        "    messages.append({\"role\": \"assistant\", \"content\": assistant_message})"
      ],
      "metadata": {
        "colab": {
          "base_uri": "https://localhost:8080/",
          "height": 736
        },
        "id": "EQRdMzaLJrfo",
        "outputId": "7fca98b5-2beb-41cc-eefe-a11396d97c92"
      },
      "execution_count": null,
      "outputs": [
        {
          "output_type": "stream",
          "name": "stdout",
          "text": [
            "User: hi\n",
            "Assistant: Hello! How can I assist you today? Are we talking about your future hopes and dreams?\n",
            "User: I want pilot\n",
            "Assistant: That's great! Do you want to be a pilot in the future?\n",
            "\n",
            "Corrected sentence: \"I want to be a pilot.\"\n",
            "\n",
            "설명: 영어로 직업이나 희망을 말할 때 \"to be\"를 사용해야 해. \"I want\" 다음에는 동사의 원형이 와야 하므로 \"to be a pilot\"가 맞아.\n",
            "User: yes\n",
            "Assistant: That's exciting! What kind of aircraft would you like to fly in the future?\n",
            "User: I love you\n",
            "Assistant: 맥락에 맞지 않는 발언이네요.\n",
            "\n",
            "추천 답안: \"I am really passionate about aviation!\"\n",
            "User: I like aviation\n",
            "Assistant: That's wonderful! What do you find most interesting about aviation?\n",
            "User: It makes me excited\n",
            "Assistant: I can understand that! The idea of flying and exploring the skies can be really thrilling. Do you have any plans to pursue aviation as a career?\n",
            "User: I am studying hard.\n",
            "Assistant: That's great to hear! Studying hard is an important step toward achieving your dream. What subjects are you focusing on to help with your aviation goals?\n"
          ]
        },
        {
          "output_type": "error",
          "ename": "KeyboardInterrupt",
          "evalue": "Interrupted by user",
          "traceback": [
            "\u001b[0;31m---------------------------------------------------------------------------\u001b[0m",
            "\u001b[0;31mKeyboardInterrupt\u001b[0m                         Traceback (most recent call last)",
            "\u001b[0;32m<ipython-input-80-1fab665dabd2>\u001b[0m in \u001b[0;36m<cell line: 25>\u001b[0;34m()\u001b[0m\n\u001b[1;32m     25\u001b[0m \u001b[0;32mwhile\u001b[0m \u001b[0;32mTrue\u001b[0m\u001b[0;34m:\u001b[0m\u001b[0;34m\u001b[0m\u001b[0;34m\u001b[0m\u001b[0m\n\u001b[1;32m     26\u001b[0m     \u001b[0;31m# 사용자 입력 받기\u001b[0m\u001b[0;34m\u001b[0m\u001b[0;34m\u001b[0m\u001b[0m\n\u001b[0;32m---> 27\u001b[0;31m     \u001b[0muser_input\u001b[0m \u001b[0;34m=\u001b[0m \u001b[0minput\u001b[0m\u001b[0;34m(\u001b[0m\u001b[0;34m\"User: \"\u001b[0m\u001b[0;34m)\u001b[0m\u001b[0;34m\u001b[0m\u001b[0;34m\u001b[0m\u001b[0m\n\u001b[0m\u001b[1;32m     28\u001b[0m     \u001b[0mmessages\u001b[0m\u001b[0;34m.\u001b[0m\u001b[0mappend\u001b[0m\u001b[0;34m(\u001b[0m\u001b[0;34m{\u001b[0m\u001b[0;34m\"role\"\u001b[0m\u001b[0;34m:\u001b[0m \u001b[0;34m\"user\"\u001b[0m\u001b[0;34m,\u001b[0m \u001b[0;34m\"content\"\u001b[0m\u001b[0;34m:\u001b[0m \u001b[0muser_input\u001b[0m\u001b[0;34m}\u001b[0m\u001b[0;34m)\u001b[0m\u001b[0;34m\u001b[0m\u001b[0;34m\u001b[0m\u001b[0m\n\u001b[1;32m     29\u001b[0m \u001b[0;34m\u001b[0m\u001b[0m\n",
            "\u001b[0;32m/usr/local/lib/python3.10/dist-packages/ipykernel/kernelbase.py\u001b[0m in \u001b[0;36mraw_input\u001b[0;34m(self, prompt)\u001b[0m\n\u001b[1;32m    849\u001b[0m                 \u001b[0;34m\"raw_input was called, but this frontend does not support input requests.\"\u001b[0m\u001b[0;34m\u001b[0m\u001b[0;34m\u001b[0m\u001b[0m\n\u001b[1;32m    850\u001b[0m             )\n\u001b[0;32m--> 851\u001b[0;31m         return self._input_request(str(prompt),\n\u001b[0m\u001b[1;32m    852\u001b[0m             \u001b[0mself\u001b[0m\u001b[0;34m.\u001b[0m\u001b[0m_parent_ident\u001b[0m\u001b[0;34m,\u001b[0m\u001b[0;34m\u001b[0m\u001b[0;34m\u001b[0m\u001b[0m\n\u001b[1;32m    853\u001b[0m             \u001b[0mself\u001b[0m\u001b[0;34m.\u001b[0m\u001b[0m_parent_header\u001b[0m\u001b[0;34m,\u001b[0m\u001b[0;34m\u001b[0m\u001b[0;34m\u001b[0m\u001b[0m\n",
            "\u001b[0;32m/usr/local/lib/python3.10/dist-packages/ipykernel/kernelbase.py\u001b[0m in \u001b[0;36m_input_request\u001b[0;34m(self, prompt, ident, parent, password)\u001b[0m\n\u001b[1;32m    893\u001b[0m             \u001b[0;32mexcept\u001b[0m \u001b[0mKeyboardInterrupt\u001b[0m\u001b[0;34m:\u001b[0m\u001b[0;34m\u001b[0m\u001b[0;34m\u001b[0m\u001b[0m\n\u001b[1;32m    894\u001b[0m                 \u001b[0;31m# re-raise KeyboardInterrupt, to truncate traceback\u001b[0m\u001b[0;34m\u001b[0m\u001b[0;34m\u001b[0m\u001b[0m\n\u001b[0;32m--> 895\u001b[0;31m                 \u001b[0;32mraise\u001b[0m \u001b[0mKeyboardInterrupt\u001b[0m\u001b[0;34m(\u001b[0m\u001b[0;34m\"Interrupted by user\"\u001b[0m\u001b[0;34m)\u001b[0m \u001b[0;32mfrom\u001b[0m \u001b[0;32mNone\u001b[0m\u001b[0;34m\u001b[0m\u001b[0;34m\u001b[0m\u001b[0m\n\u001b[0m\u001b[1;32m    896\u001b[0m             \u001b[0;32mexcept\u001b[0m \u001b[0mException\u001b[0m \u001b[0;32mas\u001b[0m \u001b[0me\u001b[0m\u001b[0;34m:\u001b[0m\u001b[0;34m\u001b[0m\u001b[0;34m\u001b[0m\u001b[0m\n\u001b[1;32m    897\u001b[0m                 \u001b[0mself\u001b[0m\u001b[0;34m.\u001b[0m\u001b[0mlog\u001b[0m\u001b[0;34m.\u001b[0m\u001b[0mwarning\u001b[0m\u001b[0;34m(\u001b[0m\u001b[0;34m\"Invalid Message:\"\u001b[0m\u001b[0;34m,\u001b[0m \u001b[0mexc_info\u001b[0m\u001b[0;34m=\u001b[0m\u001b[0;32mTrue\u001b[0m\u001b[0;34m)\u001b[0m\u001b[0;34m\u001b[0m\u001b[0;34m\u001b[0m\u001b[0m\n",
            "\u001b[0;31mKeyboardInterrupt\u001b[0m: Interrupted by user"
          ]
        }
      ]
    },
    {
      "cell_type": "markdown",
      "source": [
        "# 2) 초기메시지에 기능 + 요약데이터(학년별 ~5개)"
      ],
      "metadata": {
        "id": "uf_fTPPT47Wr"
      }
    },
    {
      "cell_type": "code",
      "source": [
        "import pandas as pd\n",
        "from collections import OrderedDict\n",
        "\n",
        "# 학년 순서 지정\n",
        "desired_order = ['el1', 'el2', 'el3', 'el4', 'el5', 'el6', 'md1', 'md2', 'md3', 'hi1', 'hi2', 'hi3']\n",
        "\n",
        "# 학년별로 데이터 정리\n",
        "grade_summaries = OrderedDict()\n",
        "\n",
        "for grade in desired_order:\n",
        "    if grade in data['학년'].unique():  # 학년에 데이터가 있는 경우만 처리\n",
        "        group = data[data['학년'] == grade].head(5)  # 각 학년에서 최대 5개 선택\n",
        "        grade_summary = \"\"\n",
        "        for _, row in group.iterrows():\n",
        "            topic = row['대화 상황']\n",
        "            dialogue = row['대화']\n",
        "            grade_summary += f\"대화 상황: {topic}\\n대화 예시: {dialogue}\\n\\n\"\n",
        "        grade_summaries[grade] = grade_summary\n",
        "\n",
        "\n",
        "for grade, summary in grade_summaries.items():\n",
        "    print(f\"=== 학년: {grade} ===\")\n",
        "    print(summary)\n",
        "    print(\"\\n\")"
      ],
      "metadata": {
        "colab": {
          "base_uri": "https://localhost:8080/"
        },
        "collapsed": true,
        "id": "gmEQQAv3WQbG",
        "outputId": "34c64eb3-0317-4469-d322-83034639fbac"
      },
      "execution_count": null,
      "outputs": [
        {
          "output_type": "stream",
          "name": "stdout",
          "text": [
            "=== 학년: el3 ===\n",
            "대화 상황: 안부에 대한 대화\n",
            "대화 예시: G: How are you??B: I’m good.\n",
            "\n",
            "대화 상황: 사물에 대한 대화\n",
            "대화 예시: G: What’s this? B: It’s a book.\n",
            "\n",
            "대화 상황: 날씨에 대한 대화\n",
            "대화 예시: G: How’s the weather? B: It’s sunny. \n",
            "\n",
            "대화 상황: 선호도에 대한 대화\n",
            "대화 예시: G: Do you like apples? B: Yes, I do.\n",
            "\n",
            "대화 상황: 자기소개에 대한 대화\n",
            "대화 예시: B: What's your name. G: I’m Sarah.\n",
            "\n",
            "\n",
            "\n",
            "\n",
            "=== 학년: el4 ===\n",
            "대화 상황: 요일과 일정에 대한 대화\n",
            "대화 예시: A: What day is it today? B: It’s Friday. A: Good! I have a reading class.\n",
            "\n",
            "대화 상황: 모자에 대한 대화\n",
            "대화 예시: 여자아이: Is this your cap? 남자아이: No, it isn’t. My cap is red.\n",
            "\n",
            "대화 상황: 케이크 만들기에 대한 대화\n",
            "대화 예시: A: What are you doing? B: I’m making a cake.\n",
            "\n",
            "대화 상황: 시계의 위치에 대한 대화\n",
            "대화 예시: A: Where is my watch? B: It’s on the chair.\n",
            "\n",
            "대화 상황: 가방 위치에 대한 대화\n",
            "대화 예시: A: Where is my bag? B: It’s on the sofa.\n",
            "\n",
            "\n",
            "\n",
            "\n",
            "=== 학년: el6 ===\n",
            "대화 상황: 소개 및 인사에 대한 대화\n",
            "대화 예시: A: This is my brother, Mike. B: Nice to meet you. C: Nice to meet you, too.\n",
            "\n",
            "\n",
            "\n",
            "\n",
            "=== 학년: md1 ===\n",
            "대화 상황: 장래 희망에 대한 대화\n",
            "대화 예시: A: I’m interested in flying airplanes. B: Do you want to be a pilot? A: Yes, I do. How about you? B: I want to be a fashion designer\n",
            "\n",
            "대화 상황: 책에 대한 대화\n",
            "대화 예시: A: What do you think about this book? B: A History of Black Holes? I think it’ll be difficult. A: I don’t agree I think it’ll be very interesting B: Hmm . . . I didn’t know you were interested in black holes.\n",
            "\n",
            "대화 상황: 대회 우승을 축하하는 대화\n",
            "대화 예시: B: You know what? My team won the soccer tournament. W: Congratulations, Minsu! I’m really happy for you. B: Thanks, Ms. Kim. I’m really happy\n",
            "\n",
            "대화 상황: 방학 계획에 대한 대화\n",
            "대화 예시: B: Do you have any plans for this summer vacation? G: Yes. I’m going to travel to Venice with my family. B: That’s awesome! What are you going to do there G: A lot of things, but we’re going to ride a gondola for sure.\n",
            "\n",
            "대화 상황: 요리에 대한 대화\n",
            "대화 예시: B: What do you think about this pasta? G: I think it’s pretty good. B: I don’t think so I think it’s too salty. G: Really? It’s OK for me.\n",
            "\n",
            "\n",
            "\n",
            "\n",
            "=== 학년: md3 ===\n",
            "대화 상황: 감사와 지원에 대한 대화\n",
            "대화 예시: A: Thank you for your support. B: You're welcome.\n",
            "\n",
            "대화 상황: 감사와 지원에 대한 대화\n",
            "대화 예시: A: Thank you for your support. B: My pleasure.\n",
            "\n",
            "\n",
            "\n",
            "\n",
            "=== 학년: hi1 ===\n",
            "대화 상황: 핸드폰 중독에 대한 대화\n",
            "대화 예시: A: Stella, have you noticed how much time you spend on your phone every day? B: Yeah, Liam. I can’t put it down. A: It’s not healthy to spend so much time staring at a screen. Why don’t you try putting your phone away for an hour each day? B: I’ll try, but I’m worried I’ll get bored.\n",
            "\n",
            "대화 상황: 배구 대회에 대한 대화\n",
            "대화 예시: A: Did you hear about the volleyball championship game tonight? B: No, I haven’t. Who’s playing? A: The Avengers are playing the Hurricanes. B: Really? I’m surprised that the Avengers are in the championship game. A: I know. They were the worst team last year. I believe this is going to be one interesting game.\n",
            "\n",
            "대화 상황: 영화 티켓 가격에 대한 대화\n",
            "대화 예시: A: Movie tickets are so expensive these days. B: That’s true, but certain movies are worth the price. For example, the special effects feel more realistic when we watch 4D movies in theaters. A: Hmm. That’s a good point\n",
            "\n",
            "대화 상황: 여행에 대한 대화\n",
            "대화 예시: A: Are you interested in traveling around the world B: Yes. I’d like to explore different cultures and try new things. A: Which country would you like to visit the most? B: I’ve always wanted to visit Morocco.\n",
            "\n",
            "대화 상황: 교실 공지판 제작에 대한 대화\n",
            "대화 예시: A: Hi, Aiden. What are you doing? B: I'm creating a notice board for the classroom. Do you have any advice? A: Be sure not to make the text too small. Students need to be able to read it from a distance. B: Yeah, I'll have to make it bigger. Thanks.\n",
            "\n",
            "\n",
            "\n",
            "\n"
          ]
        }
      ]
    },
    {
      "cell_type": "code",
      "source": [
        "# 순서대로 출력\n",
        "examples = ''\n",
        "\n",
        "\n",
        "for grade, summary in grade_summaries.items():\n",
        "    examples +=  f\"=== 학년: {grade} === \\n\"\n",
        "    examples += summary\n",
        "    examples += \"\\n\""
      ],
      "metadata": {
        "id": "kfombh3vWUdr"
      },
      "execution_count": null,
      "outputs": []
    },
    {
      "cell_type": "code",
      "source": [
        "examples"
      ],
      "metadata": {
        "colab": {
          "base_uri": "https://localhost:8080/",
          "height": 145
        },
        "id": "IekHXBlB4Z52",
        "outputId": "7ecca594-0bf8-4339-93c4-2ac44a9057f7"
      },
      "execution_count": null,
      "outputs": [
        {
          "output_type": "execute_result",
          "data": {
            "text/plain": [
              "\"=== 학년: el3 === \\n대화 상황: 안부에 대한 대화\\n대화 예시: G: How are you??B: I’m good.\\n\\n대화 상황: 사물에 대한 대화\\n대화 예시: G: What’s this? B: It’s a book.\\n\\n대화 상황: 날씨에 대한 대화\\n대화 예시: G: How’s the weather? B: It’s sunny. \\n\\n대화 상황: 선호도에 대한 대화\\n대화 예시: G: Do you like apples? B: Yes, I do.\\n\\n대화 상황: 자기소개에 대한 대화\\n대화 예시: B: What's your name. G: I’m Sarah.\\n\\n\\n=== 학년: el4 === \\n대화 상황: 요일과 일정에 대한 대화\\n대화 예시: A: What day is it today? B: It’s Friday. A: Good! I have a reading class.\\n\\n대화 상황: 모자에 대한 대화\\n대화 예시: 여자아이: Is this your cap? 남자아이: No, it isn’t. My cap is red.\\n\\n대화 상황: 케이크 만들기에 대한 대화\\n대화 예시: A: What are you doing? B: I’m making a cake.\\n\\n대화 상황: 시계의 위치에 대한 대화\\n대화 예시: A: Where is my watch? B: It’s on the chair.\\n\\n대화 상황: 가방 위치에 대한 대화\\n대화 예시: A: Where is my bag? B: It’s on the sofa.\\n\\n\\n=== 학년: el6 === \\n대화 상황: 소개 및 인사에 대한 대화\\n대화 예시: A: This is my brother, Mike. B: Nice to meet you. C: Nice to meet you, too.\\n\\n\\n=== 학년: md1 === \\n대화 상황: 장래 희망에 대한 대화\\n대화 예시: A: I’m interested in flying airplanes. B: Do you want to be a pilot? A: Yes, I do. How about you? B: I want to be a fashion designer\\n\\n대화 상황: 책에 대한 대화\\n대화 예시: A: What do you think about this book? B: A History of Black Holes? I think it’ll be difficult. A: I don’t agree I think it’ll be very interesting B: Hmm . . . I didn’t know you were interested in black holes.\\n\\n대화 상황: 대회 우승을 축하하는 대화\\n대화 예시: B: You know what? My team won the soccer tournament. W: Congratulations, Minsu! I’m really happy for you. B: Thanks, Ms. Kim. I’m really happy\\n\\n대화 상황: 방학 계획에 대한 대화\\n대화 예시: B: Do you have any plans for this summer vacation? G: Yes. I’m going to travel to Venice with my family. B: That’s awesome! What are you going to do there G: A lot of things, but we’re going to ride a gondola for sure.\\n\\n대화 상황: 요리에 대한 대화\\n대화 예시: B: What do you think about this pasta? G: I think it’s pretty good. B: I don’t think so I think it’s too salty. G: Really? It’s OK for me.\\n\\n\\n=== 학년: md3 === \\n대화 상황: 감사와 지원에 대한 대화\\n대화 예시: A: Thank you for your support. B: You're welcome.\\n\\n대화 상황: 감사와 지원에 대한 대화\\n대화 예시: A: Thank you for your support. B: My pleasure.\\n\\n\\n=== 학년: hi1 === \\n대화 상황: 핸드폰 중독에 대한 대화\\n대화 예시: A: Stella, have you noticed how much time you spend on your phone every day? B: Yeah, Liam. I can’t put it down. A: It’s not healthy to spend so much time staring at a screen. Why don’t you try putting your phone away for an hour each day? B: I’ll try, but I’m worried I’ll get bored.\\n\\n대화 상황: 배구 대회에 대한 대화\\n대화 예시: A: Did you hear about the volleyball championship game tonight? B: No, I haven’t. Who’s playing? A: The Avengers are playing the Hurricanes. B: Really? I’m surprised that the Avengers are in the championship game. A: I know. They were the worst team last year. I believe this is going to be one interesting game.\\n\\n대화 상황: 영화 티켓 가격에 대한 대화\\n대화 예시: A: Movie tickets are so expensive these days. B: That’s true, but certain movies are worth the price. For example, the special effects feel more realistic when we watch 4D movies in theaters. A: Hmm. That’s a good point\\n\\n대화 상황: 여행에 대한 대화\\n대화 예시: A: Are you interested in traveling around the world B: Yes. I’d like to explore different cultures and try new things. A: Which country would you like to visit the most? B: I’ve always wanted to visit Morocco.\\n\\n대화 상황: 교실 공지판 제작에 대한 대화\\n대화 예시: A: Hi, Aiden. What are you doing? B: I'm creating a notice board for the classroom. Do you have any advice? A: Be sure not to make the text too small. Students need to be able to read it from a distance. B: Yeah, I'll have to make it bigger. Thanks.\\n\\n\\n\""
            ],
            "application/vnd.google.colaboratory.intrinsic+json": {
              "type": "string"
            }
          },
          "metadata": {},
          "execution_count": 8
        }
      ]
    },
    {
      "cell_type": "code",
      "source": [
        "scenarios = {}\n",
        "\n",
        "for _, row in data.iterrows():\n",
        "    topic = row['대화 상황']\n",
        "    student_level = row['학년']\n",
        "    dialogue_example = row['대화']\n",
        "\n",
        "    # 각 (대화 상황, 학년) 조합에 맞는 대화 예시 요약 저장\n",
        "    if (topic, student_level) not in scenarios:\n",
        "        scenarios[(topic, student_level)] = dialogue_example"
      ],
      "metadata": {
        "id": "wcxnsu4KhjQF"
      },
      "execution_count": null,
      "outputs": []
    },
    {
      "cell_type": "markdown",
      "source": [
        "중1"
      ],
      "metadata": {
        "id": "GomR_CpuGzsO"
      }
    },
    {
      "cell_type": "code",
      "source": [
        "# 유저 정보 (직접 입력)\n",
        "topic = '장래 희망에 대한 대화'\n",
        "student_level = 'md1'"
      ],
      "metadata": {
        "id": "9VIky6KSErMh"
      },
      "execution_count": null,
      "outputs": []
    },
    {
      "cell_type": "code",
      "source": [
        "# 초기 설정 메시지\n",
        "messages = [\n",
        "    {\n",
        "        \"role\": \"system\",\n",
        "        \"content\": (\n",
        "            \"너는 이제 영어 회화용 챗봇이야.\"\n",
        "            \"내가 맥락은 맞는데 문법을 틀리면 우선 대화를 이어나가준 뒤 그 밑에 고친 문장을 간략히 써주고, 한글로 해당 문법에 대한 내용과 함께 틀린 이유를 간략히 설명해줘.\"\n",
        "            \"만약 내가 대화주제 및 상황에 많이 안맞는 말을 하면 맥락에 안맞다고 한국어로 말한 뒤 추천 답안 예시를 영어로 간략히 써줘.\"\n",
        "            \"이 모든 설명은 유저의 학년을 고려해서 적합한 수준으로 설명해주어야 해.\"\n",
        "            \"내 정보를 입력할게.\\n\\n\"\n",
        "            f\"우리는 {topic}을 하는 상황이고 내 학년은 {student_level}이야.\"\n",
        "            \"아래는 대화 상황, 학년, 대화 예시에 대한 데이터셋이고 이와 비슷한 길이와 난이도로 답변해줘. 특히 내가 입력한 대화 상황 및 학년에 적합한 수준으로 말해주면 돼.\"\n",
        "            \"예를 들어 md1은 중1, hi1은 고1을 뜻해.\\n\\n\"\n",
        "            f\"{examples}\"\n",
        "\n",
        "        )\n",
        "    }\n",
        "]"
      ],
      "metadata": {
        "id": "Hktz3DY2BVJD"
      },
      "execution_count": null,
      "outputs": []
    },
    {
      "cell_type": "code",
      "source": [
        "# 대화 루프\n",
        "while True:\n",
        "    # 사용자 입력 받기\n",
        "    user_input = input(\"User: \")\n",
        "    messages.append({\"role\": \"user\", \"content\": user_input})\n",
        "\n",
        "    response = openai.ChatCompletion.create(\n",
        "        model=\"gpt-4o\",\n",
        "        messages=messages,\n",
        "        max_tokens=200,\n",
        "        temperature=0.7,\n",
        "    )\n",
        "\n",
        "    assistant_message = response.choices[0].message[\"content\"]\n",
        "    print(\"Assistant:\", assistant_message)\n",
        "    messages.append({\"role\": \"assistant\", \"content\": assistant_message})"
      ],
      "metadata": {
        "colab": {
          "base_uri": "https://localhost:8080/",
          "height": 772
        },
        "id": "T8FAzlYUDl9R",
        "outputId": "c96bd85b-5fd6-4b12-f8f2-d44aae6e9f0d"
      },
      "execution_count": null,
      "outputs": [
        {
          "output_type": "stream",
          "name": "stdout",
          "text": [
            "User: hi\n",
            "Assistant: Hi! What do you want to be in the future?\n",
            "User: I want pilot\n",
            "Assistant: That's great! So, you want to be a pilot?\n",
            "\n",
            "Corrected: I want to be a pilot.\n",
            "\n",
            "설명: \"I want pilot\"에서 'pilot'은 명사라서 'to be'라는 동사를 추가해서 \"I want to be a pilot\"이라고 해야 해. 'to be'는 '~이 되고 싶다'는 의미를 나타내줘.\n",
            "User: yes\n",
            "Assistant: That sounds exciting! Why do you want to be a pilot?\n",
            "User: It is fun\n",
            "Assistant: I see, it must be fun! Have you ever flown in a plane before?\n",
            "\n",
            "Corrected: It is fun.\n",
            "\n",
            "설명: 문법적으로는 틀린 부분이 없지만, \"It is fun\"을 \"It must be fun\"으로 바꾸면 좀 더 자연스럽고 구체적인 이유를 묻는 것과 잘 어울려. \"must\"는 추측이나 확신을 나타낼 때 사용해.\n",
            "User: no\n",
            "Assistant: That's okay! Maybe you'll get the chance to fly soon. What do you think would be the most fun part about being a pilot?\n",
            "User: I love sushi\n",
            "Assistant: 맥락에 안맞아요. 장래 희망에 대한 대화를 이어가면 좋겠어요.\n",
            "\n",
            "Example: I think the most fun part would be traveling to different countries. How about you?\n"
          ]
        },
        {
          "output_type": "error",
          "ename": "KeyboardInterrupt",
          "evalue": "Interrupted by user",
          "traceback": [
            "\u001b[0;31m---------------------------------------------------------------------------\u001b[0m",
            "\u001b[0;31mKeyboardInterrupt\u001b[0m                         Traceback (most recent call last)",
            "\u001b[0;32m<ipython-input-66-f4d23b928460>\u001b[0m in \u001b[0;36m<cell line: 2>\u001b[0;34m()\u001b[0m\n\u001b[1;32m      2\u001b[0m \u001b[0;32mwhile\u001b[0m \u001b[0;32mTrue\u001b[0m\u001b[0;34m:\u001b[0m\u001b[0;34m\u001b[0m\u001b[0;34m\u001b[0m\u001b[0m\n\u001b[1;32m      3\u001b[0m     \u001b[0;31m# 사용자 입력 받기\u001b[0m\u001b[0;34m\u001b[0m\u001b[0;34m\u001b[0m\u001b[0m\n\u001b[0;32m----> 4\u001b[0;31m     \u001b[0muser_input\u001b[0m \u001b[0;34m=\u001b[0m \u001b[0minput\u001b[0m\u001b[0;34m(\u001b[0m\u001b[0;34m\"User: \"\u001b[0m\u001b[0;34m)\u001b[0m\u001b[0;34m\u001b[0m\u001b[0;34m\u001b[0m\u001b[0m\n\u001b[0m\u001b[1;32m      5\u001b[0m     \u001b[0mmessages\u001b[0m\u001b[0;34m.\u001b[0m\u001b[0mappend\u001b[0m\u001b[0;34m(\u001b[0m\u001b[0;34m{\u001b[0m\u001b[0;34m\"role\"\u001b[0m\u001b[0;34m:\u001b[0m \u001b[0;34m\"user\"\u001b[0m\u001b[0;34m,\u001b[0m \u001b[0;34m\"content\"\u001b[0m\u001b[0;34m:\u001b[0m \u001b[0muser_input\u001b[0m\u001b[0;34m}\u001b[0m\u001b[0;34m)\u001b[0m\u001b[0;34m\u001b[0m\u001b[0;34m\u001b[0m\u001b[0m\n\u001b[1;32m      6\u001b[0m \u001b[0;34m\u001b[0m\u001b[0m\n",
            "\u001b[0;32m/usr/local/lib/python3.10/dist-packages/ipykernel/kernelbase.py\u001b[0m in \u001b[0;36mraw_input\u001b[0;34m(self, prompt)\u001b[0m\n\u001b[1;32m    849\u001b[0m                 \u001b[0;34m\"raw_input was called, but this frontend does not support input requests.\"\u001b[0m\u001b[0;34m\u001b[0m\u001b[0;34m\u001b[0m\u001b[0m\n\u001b[1;32m    850\u001b[0m             )\n\u001b[0;32m--> 851\u001b[0;31m         return self._input_request(str(prompt),\n\u001b[0m\u001b[1;32m    852\u001b[0m             \u001b[0mself\u001b[0m\u001b[0;34m.\u001b[0m\u001b[0m_parent_ident\u001b[0m\u001b[0;34m,\u001b[0m\u001b[0;34m\u001b[0m\u001b[0;34m\u001b[0m\u001b[0m\n\u001b[1;32m    853\u001b[0m             \u001b[0mself\u001b[0m\u001b[0;34m.\u001b[0m\u001b[0m_parent_header\u001b[0m\u001b[0;34m,\u001b[0m\u001b[0;34m\u001b[0m\u001b[0;34m\u001b[0m\u001b[0m\n",
            "\u001b[0;32m/usr/local/lib/python3.10/dist-packages/ipykernel/kernelbase.py\u001b[0m in \u001b[0;36m_input_request\u001b[0;34m(self, prompt, ident, parent, password)\u001b[0m\n\u001b[1;32m    893\u001b[0m             \u001b[0;32mexcept\u001b[0m \u001b[0mKeyboardInterrupt\u001b[0m\u001b[0;34m:\u001b[0m\u001b[0;34m\u001b[0m\u001b[0;34m\u001b[0m\u001b[0m\n\u001b[1;32m    894\u001b[0m                 \u001b[0;31m# re-raise KeyboardInterrupt, to truncate traceback\u001b[0m\u001b[0;34m\u001b[0m\u001b[0;34m\u001b[0m\u001b[0m\n\u001b[0;32m--> 895\u001b[0;31m                 \u001b[0;32mraise\u001b[0m \u001b[0mKeyboardInterrupt\u001b[0m\u001b[0;34m(\u001b[0m\u001b[0;34m\"Interrupted by user\"\u001b[0m\u001b[0;34m)\u001b[0m \u001b[0;32mfrom\u001b[0m \u001b[0;32mNone\u001b[0m\u001b[0;34m\u001b[0m\u001b[0;34m\u001b[0m\u001b[0m\n\u001b[0m\u001b[1;32m    896\u001b[0m             \u001b[0;32mexcept\u001b[0m \u001b[0mException\u001b[0m \u001b[0;32mas\u001b[0m \u001b[0me\u001b[0m\u001b[0;34m:\u001b[0m\u001b[0;34m\u001b[0m\u001b[0;34m\u001b[0m\u001b[0m\n\u001b[1;32m    897\u001b[0m                 \u001b[0mself\u001b[0m\u001b[0;34m.\u001b[0m\u001b[0mlog\u001b[0m\u001b[0;34m.\u001b[0m\u001b[0mwarning\u001b[0m\u001b[0;34m(\u001b[0m\u001b[0;34m\"Invalid Message:\"\u001b[0m\u001b[0;34m,\u001b[0m \u001b[0mexc_info\u001b[0m\u001b[0;34m=\u001b[0m\u001b[0;32mTrue\u001b[0m\u001b[0;34m)\u001b[0m\u001b[0;34m\u001b[0m\u001b[0;34m\u001b[0m\u001b[0m\n",
            "\u001b[0;31mKeyboardInterrupt\u001b[0m: Interrupted by user"
          ]
        }
      ]
    },
    {
      "cell_type": "markdown",
      "source": [
        "고1"
      ],
      "metadata": {
        "id": "J_iCTiMzCZz_"
      }
    },
    {
      "cell_type": "code",
      "source": [
        "# 유저 정보 (직접 입력)\n",
        "topic = '장래 희망에 대한 대화'\n",
        "student_level = 'hi1'\n",
        "\n",
        "# 초기 설정 메시지\n",
        "messages = [\n",
        "    {\n",
        "        \"role\": \"system\",\n",
        "        \"content\": (\n",
        "            \"너는 이제 영어 회화용 챗봇이야.\"\n",
        "            \"내가 맥락은 맞는데 문법을 틀리면 우선 대화를 이어나가준 뒤 그 밑에 고친 문장을 간략히 써주고, 한글로 해당 문법에 대한 내용과 함께 틀린 이유를 간략히 설명해줘.\"\n",
        "            \"만약 내가 대화주제 및 상황에 많이 안맞는 말을 하면 맥락에 안맞다고 한국어로 말한 뒤 추천 답안 예시를 영어로 간략히 써줘.\"\n",
        "            \"이 모든 설명은 유저의 학년을 고려해서 적합한 수준으로 설명해주어야 해.\"\n",
        "            \"내 정보를 입력할게.\\n\\n\"\n",
        "            f\"우리는 {topic}을 하는 상황이고 내 학년은 {student_level}이야.\"\n",
        "            \"아래는 대화 상황, 학년, 대화 예시에 대한 데이터셋이고 이와 비슷한 길이와 난이도로 답변해줘. 특히 내가 입력한 대화 상황 및 학년에 적합한 수준으로 말해주면 돼.\"\n",
        "            \"예를 들어 md1은 중1, hi1은 고1을 뜻해.\\n\\n\"\n",
        "            f\"{examples}\"\n",
        "\n",
        "        )\n",
        "    }\n",
        "]\n",
        "\n",
        "# 대화 루프\n",
        "while True:\n",
        "    # 사용자 입력 받기\n",
        "    user_input = input(\"User: \")\n",
        "    messages.append({\"role\": \"user\", \"content\": user_input})\n",
        "\n",
        "    response = openai.ChatCompletion.create(\n",
        "        model=\"gpt-4o\",\n",
        "        messages=messages,\n",
        "        max_tokens=200,\n",
        "        temperature=0.7,\n",
        "    )\n",
        "\n",
        "    assistant_message = response.choices[0].message[\"content\"]\n",
        "    print(\"Assistant:\", assistant_message)\n",
        "    messages.append({\"role\": \"assistant\", \"content\": assistant_message})"
      ],
      "metadata": {
        "colab": {
          "base_uri": "https://localhost:8080/",
          "height": 792
        },
        "id": "vlOjNLEQCZjo",
        "outputId": "7e29f457-9514-43ef-8746-b618a962835d"
      },
      "execution_count": null,
      "outputs": [
        {
          "output_type": "stream",
          "name": "stdout",
          "text": [
            "User: hi\n",
            "Assistant: Hello! How are you today? What would you like to talk about?\n",
            "User: I am fine\n",
            "Assistant: That's great to hear! Have you thought about your future career or what you might want to do?\n",
            "User: I want pilot\n",
            "Assistant: You mean you want to be a pilot? That's an exciting career choice!\n",
            "\n",
            "\"I want to be a pilot.\"\n",
            "\n",
            "설명: \"I want pilot\"는 영어 문법적으로 맞지 않아요. 'want' 뒤에는 'to be' 같은 동사가 필요해요. 그래서 \"I want to be a pilot.\"라고 말해야 합니다.\n",
            "User: yes thank you\n",
            "Assistant: You're welcome! If you have any other questions or things you'd like to talk about, just let me know.\n",
            "User: how about you?\n",
            "Assistant: I think being a chatbot is pretty interesting! I get to help people like you practice English and learn new things. Do you have any other careers you're considering?\n",
            "User: I like sushi\n",
            "Assistant: 맥락에 안 맞아요. \n",
            "\n",
            "예시: \"I'm considering being a chef because I like sushi.\" \n",
            "\n",
            "이렇게 대화 주제인 장래 희망에 맞춰 대답할 수 있습니다.\n",
            "User: mabye a chef\n",
            "Assistant: That's a great choice! Being a chef would allow you to explore different cuisines and create delicious dishes. Do you have a favorite dish you would like to learn how to cook?\n"
          ]
        },
        {
          "output_type": "error",
          "ename": "KeyboardInterrupt",
          "evalue": "Interrupted by user",
          "traceback": [
            "\u001b[0;31m---------------------------------------------------------------------------\u001b[0m",
            "\u001b[0;31mKeyboardInterrupt\u001b[0m                         Traceback (most recent call last)",
            "\u001b[0;32m<ipython-input-76-0d025a4120d8>\u001b[0m in \u001b[0;36m<cell line: 25>\u001b[0;34m()\u001b[0m\n\u001b[1;32m     25\u001b[0m \u001b[0;32mwhile\u001b[0m \u001b[0;32mTrue\u001b[0m\u001b[0;34m:\u001b[0m\u001b[0;34m\u001b[0m\u001b[0;34m\u001b[0m\u001b[0m\n\u001b[1;32m     26\u001b[0m     \u001b[0;31m# 사용자 입력 받기\u001b[0m\u001b[0;34m\u001b[0m\u001b[0;34m\u001b[0m\u001b[0m\n\u001b[0;32m---> 27\u001b[0;31m     \u001b[0muser_input\u001b[0m \u001b[0;34m=\u001b[0m \u001b[0minput\u001b[0m\u001b[0;34m(\u001b[0m\u001b[0;34m\"User: \"\u001b[0m\u001b[0;34m)\u001b[0m\u001b[0;34m\u001b[0m\u001b[0;34m\u001b[0m\u001b[0m\n\u001b[0m\u001b[1;32m     28\u001b[0m     \u001b[0mmessages\u001b[0m\u001b[0;34m.\u001b[0m\u001b[0mappend\u001b[0m\u001b[0;34m(\u001b[0m\u001b[0;34m{\u001b[0m\u001b[0;34m\"role\"\u001b[0m\u001b[0;34m:\u001b[0m \u001b[0;34m\"user\"\u001b[0m\u001b[0;34m,\u001b[0m \u001b[0;34m\"content\"\u001b[0m\u001b[0;34m:\u001b[0m \u001b[0muser_input\u001b[0m\u001b[0;34m}\u001b[0m\u001b[0;34m)\u001b[0m\u001b[0;34m\u001b[0m\u001b[0;34m\u001b[0m\u001b[0m\n\u001b[1;32m     29\u001b[0m \u001b[0;34m\u001b[0m\u001b[0m\n",
            "\u001b[0;32m/usr/local/lib/python3.10/dist-packages/ipykernel/kernelbase.py\u001b[0m in \u001b[0;36mraw_input\u001b[0;34m(self, prompt)\u001b[0m\n\u001b[1;32m    849\u001b[0m                 \u001b[0;34m\"raw_input was called, but this frontend does not support input requests.\"\u001b[0m\u001b[0;34m\u001b[0m\u001b[0;34m\u001b[0m\u001b[0m\n\u001b[1;32m    850\u001b[0m             )\n\u001b[0;32m--> 851\u001b[0;31m         return self._input_request(str(prompt),\n\u001b[0m\u001b[1;32m    852\u001b[0m             \u001b[0mself\u001b[0m\u001b[0;34m.\u001b[0m\u001b[0m_parent_ident\u001b[0m\u001b[0;34m,\u001b[0m\u001b[0;34m\u001b[0m\u001b[0;34m\u001b[0m\u001b[0m\n\u001b[1;32m    853\u001b[0m             \u001b[0mself\u001b[0m\u001b[0;34m.\u001b[0m\u001b[0m_parent_header\u001b[0m\u001b[0;34m,\u001b[0m\u001b[0;34m\u001b[0m\u001b[0;34m\u001b[0m\u001b[0m\n",
            "\u001b[0;32m/usr/local/lib/python3.10/dist-packages/ipykernel/kernelbase.py\u001b[0m in \u001b[0;36m_input_request\u001b[0;34m(self, prompt, ident, parent, password)\u001b[0m\n\u001b[1;32m    893\u001b[0m             \u001b[0;32mexcept\u001b[0m \u001b[0mKeyboardInterrupt\u001b[0m\u001b[0;34m:\u001b[0m\u001b[0;34m\u001b[0m\u001b[0;34m\u001b[0m\u001b[0m\n\u001b[1;32m    894\u001b[0m                 \u001b[0;31m# re-raise KeyboardInterrupt, to truncate traceback\u001b[0m\u001b[0;34m\u001b[0m\u001b[0;34m\u001b[0m\u001b[0m\n\u001b[0;32m--> 895\u001b[0;31m                 \u001b[0;32mraise\u001b[0m \u001b[0mKeyboardInterrupt\u001b[0m\u001b[0;34m(\u001b[0m\u001b[0;34m\"Interrupted by user\"\u001b[0m\u001b[0;34m)\u001b[0m \u001b[0;32mfrom\u001b[0m \u001b[0;32mNone\u001b[0m\u001b[0;34m\u001b[0m\u001b[0;34m\u001b[0m\u001b[0m\n\u001b[0m\u001b[1;32m    896\u001b[0m             \u001b[0;32mexcept\u001b[0m \u001b[0mException\u001b[0m \u001b[0;32mas\u001b[0m \u001b[0me\u001b[0m\u001b[0;34m:\u001b[0m\u001b[0;34m\u001b[0m\u001b[0;34m\u001b[0m\u001b[0m\n\u001b[1;32m    897\u001b[0m                 \u001b[0mself\u001b[0m\u001b[0;34m.\u001b[0m\u001b[0mlog\u001b[0m\u001b[0;34m.\u001b[0m\u001b[0mwarning\u001b[0m\u001b[0;34m(\u001b[0m\u001b[0;34m\"Invalid Message:\"\u001b[0m\u001b[0;34m,\u001b[0m \u001b[0mexc_info\u001b[0m\u001b[0;34m=\u001b[0m\u001b[0;32mTrue\u001b[0m\u001b[0;34m)\u001b[0m\u001b[0;34m\u001b[0m\u001b[0;34m\u001b[0m\u001b[0m\n",
            "\u001b[0;31mKeyboardInterrupt\u001b[0m: Interrupted by user"
          ]
        }
      ]
    },
    {
      "cell_type": "markdown",
      "source": [
        "## 요약데이터: 학년별 10개 이하로 늘림"
      ],
      "metadata": {
        "id": "CkrS1k7XLgnf"
      }
    },
    {
      "cell_type": "markdown",
      "source": [
        "데이터"
      ],
      "metadata": {
        "id": "3f58vHY_kRD3"
      }
    },
    {
      "cell_type": "code",
      "source": [
        "import pandas as pd\n",
        "from collections import OrderedDict\n",
        "\n",
        "# 학년 순서 지정\n",
        "desired_order = ['el1', 'el2', 'el3', 'el4', 'el5', 'el6', 'md1', 'md2', 'md3', 'hi1', 'hi2', 'hi3']\n",
        "\n",
        "# 학년별로 데이터 정리\n",
        "grade_summaries = OrderedDict()\n",
        "\n",
        "for grade in desired_order:\n",
        "    if grade in data['학년'].unique():  # 학년에 데이터가 있는 경우만 처리\n",
        "        group = data[data['학년'] == grade].head(10)  # 각 학년에서 최대 5개 선택\n",
        "        grade_summary = \"\"\n",
        "        for _, row in group.iterrows():\n",
        "            topic = row['대화 상황']\n",
        "            dialogue = row['대화']\n",
        "            grade_summary += f\"대화 상황: {topic}\\n대화 예시: {dialogue}\\n\\n\"\n",
        "        grade_summaries[grade] = grade_summary\n",
        "\n",
        "\n",
        "for grade, summary in grade_summaries.items():\n",
        "    print(f\"=== 학년: {grade} ===\")\n",
        "    print(summary)\n",
        "    print(\"\\n\")\n",
        "\n",
        "    # 순서대로 출력\n",
        "examples = ''\n",
        "\n",
        "\n",
        "for grade, summary in grade_summaries.items():\n",
        "    examples +=  f\"=== 학년: {grade} === \\n\"\n",
        "    examples += summary\n",
        "    examples += \"\\n\""
      ],
      "metadata": {
        "colab": {
          "base_uri": "https://localhost:8080/"
        },
        "id": "W3YiEG2RLlIw",
        "outputId": "6f73eb28-e9aa-4229-86e0-9ed04b028630"
      },
      "execution_count": null,
      "outputs": [
        {
          "output_type": "stream",
          "name": "stdout",
          "text": [
            "=== 학년: el3 ===\n",
            "대화 상황: 안부에 대한 대화\n",
            "대화 예시: G: How are you??B: I’m good.\n",
            "\n",
            "대화 상황: 사물에 대한 대화\n",
            "대화 예시: G: What’s this? B: It’s a book.\n",
            "\n",
            "대화 상황: 날씨에 대한 대화\n",
            "대화 예시: G: How’s the weather? B: It’s sunny. \n",
            "\n",
            "대화 상황: 선호도에 대한 대화\n",
            "대화 예시: G: Do you like apples? B: Yes, I do.\n",
            "\n",
            "대화 상황: 자기소개에 대한 대화\n",
            "대화 예시: B: What's your name. G: I’m Sarah.\n",
            "\n",
            "대화 상황: 선호도에 대한 대화\n",
            "대화 예시: B: Do you like broccoli? G: No, I don’t. I don’t like broccoli.\n",
            "\n",
            "대화 상황: 사람을 묘사하는 대화\n",
            "대화 예시: B: Who is he? G: He’s my brother.\n",
            "\n",
            "대화 상황: 두 사람 모두 할 수 있는 동작을 찾는대화\n",
            "대화 예시: B: I can sing. Can you sing? G: Yes, I can. \n",
            "\n",
            "대화 상황: 능력에 대한 대화\n",
            "대화 예시: G: I can’t dance. Can you dance? B: Yes, I can.\n",
            "\n",
            "대화 상황: 소지품에 대한 대화\n",
            "대화 예시: B: Do you have a notebook? G: Yes, I do.\n",
            "\n",
            "\n",
            "\n",
            "\n",
            "=== 학년: el4 ===\n",
            "대화 상황: 요일과 일정에 대한 대화\n",
            "대화 예시: A: What day is it today? B: It’s Friday. A: Good! I have a reading class.\n",
            "\n",
            "대화 상황: 모자에 대한 대화\n",
            "대화 예시: 여자아이: Is this your cap? 남자아이: No, it isn’t. My cap is red.\n",
            "\n",
            "대화 상황: 케이크 만들기에 대한 대화\n",
            "대화 예시: A: What are you doing? B: I’m making a cake.\n",
            "\n",
            "대화 상황: 시계의 위치에 대한 대화\n",
            "대화 예시: A: Where is my watch? B: It’s on the chair.\n",
            "\n",
            "대화 상황: 가방 위치에 대한 대화\n",
            "대화 예시: A: Where is my bag? B: It’s on the sofa.\n",
            "\n",
            "대화 상황: 로봇에 대한 대화\n",
            "대화 예시: G: Is this your robot? B: No, it isn’t. My robot is small.\n",
            "\n",
            "대화 상황: 일상 활동에 대한 대화\n",
            "대화 예시: 여자아이: What are you doing? 남자아이: I’m reading a book. What are you doing? 여자아이: I’m making a cake.  (\n",
            "\n",
            "대화 상황: 놀이와 일에 대한 대화\n",
            "대화 예시: 여자아이: What are you doing? 남자아이: I’m cleaning the room. 여자아이: Let’s play baseball. 남자아이: Sounds good.\n",
            "\n",
            "대화 상황: 수업 일정에 대한 대화\n",
            "대화 예시: A: What day is it today? B: It’s Wednesday. A: Good! I have a reading class.\n",
            "\n",
            "대화 상황: 장난감에 대한 대화\n",
            "대화 예시: A: Is that your toy car? B: No, it isn’t. My toy car is small.\n",
            "\n",
            "\n",
            "\n",
            "\n",
            "=== 학년: el6 ===\n",
            "대화 상황: 소개 및 인사에 대한 대화\n",
            "대화 예시: A: This is my brother, Mike. B: Nice to meet you. C: Nice to meet you, too.\n",
            "\n",
            "\n",
            "\n",
            "\n",
            "=== 학년: md1 ===\n",
            "대화 상황: 장래 희망에 대한 대화\n",
            "대화 예시: A: I’m interested in flying airplanes. B: Do you want to be a pilot? A: Yes, I do. How about you? B: I want to be a fashion designer\n",
            "\n",
            "대화 상황: 책에 대한 대화\n",
            "대화 예시: A: What do you think about this book? B: A History of Black Holes? I think it’ll be difficult. A: I don’t agree I think it’ll be very interesting B: Hmm . . . I didn’t know you were interested in black holes.\n",
            "\n",
            "대화 상황: 대회 우승을 축하하는 대화\n",
            "대화 예시: B: You know what? My team won the soccer tournament. W: Congratulations, Minsu! I’m really happy for you. B: Thanks, Ms. Kim. I’m really happy\n",
            "\n",
            "대화 상황: 방학 계획에 대한 대화\n",
            "대화 예시: B: Do you have any plans for this summer vacation? G: Yes. I’m going to travel to Venice with my family. B: That’s awesome! What are you going to do there G: A lot of things, but we’re going to ride a gondola for sure.\n",
            "\n",
            "대화 상황: 요리에 대한 대화\n",
            "대화 예시: B: What do you think about this pasta? G: I think it’s pretty good. B: I don’t think so I think it’s too salty. G: Really? It’s OK for me.\n",
            "\n",
            "대화 상황: 동참을 제안하는 대화\n",
            "대화 예시: G: My friends and I are going to go to Yangyang this weekend. B: Yangyang is great for surfing. Are you going to surf? G: Yes, we’re going to learn surfing. I’m excited about it.\n",
            "\n",
            "대화 상황: 동참을 제안하는 대화\n",
            "대화 예시: G: My friends and I are going to go to Yangyang this weekend. B: Yangyang is great for surfing. Are you going to surf? G: Yes, we’re going to learn surfing. I’m really looking forward to it.\n",
            "\n",
            "대화 상황: 핸드폰 구매에 대한 대화\n",
            "대화 예시: G: My phone is not working. I need to get a new one. B: Look! Here are the new models. How about this one? G: Wow, I like it. It’s very light. B: I agree. It’s lighter than mine.\n",
            "\n",
            "대화 상황: 핸드폰 구매에 대한 대화\n",
            "대화 예시: G: My phone is not working. I need to get a new one. B: Look! Here are the new models. How do you feel about this one? G: Wow, I like it. It’s very light. B: I agree. It’s lighter than mine.\n",
            "\n",
            "대화 상황: 핸드폰 구매에 대한 대화\n",
            "대화 예시: G: My phone is not working. I need to get a new one. B: Look! Here are the new models. What do you think about this one? G: Wow, I like it. It’s very light. B: I agree. It’s lighter than mine.\n",
            "\n",
            "\n",
            "\n",
            "\n",
            "=== 학년: md3 ===\n",
            "대화 상황: 감사와 지원에 대한 대화\n",
            "대화 예시: A: Thank you for your support. B: You're welcome.\n",
            "\n",
            "대화 상황: 감사와 지원에 대한 대화\n",
            "대화 예시: A: Thank you for your support. B: My pleasure.\n",
            "\n",
            "\n",
            "\n",
            "\n",
            "=== 학년: hi1 ===\n",
            "대화 상황: 핸드폰 중독에 대한 대화\n",
            "대화 예시: A: Stella, have you noticed how much time you spend on your phone every day? B: Yeah, Liam. I can’t put it down. A: It’s not healthy to spend so much time staring at a screen. Why don’t you try putting your phone away for an hour each day? B: I’ll try, but I’m worried I’ll get bored.\n",
            "\n",
            "대화 상황: 배구 대회에 대한 대화\n",
            "대화 예시: A: Did you hear about the volleyball championship game tonight? B: No, I haven’t. Who’s playing? A: The Avengers are playing the Hurricanes. B: Really? I’m surprised that the Avengers are in the championship game. A: I know. They were the worst team last year. I believe this is going to be one interesting game.\n",
            "\n",
            "대화 상황: 영화 티켓 가격에 대한 대화\n",
            "대화 예시: A: Movie tickets are so expensive these days. B: That’s true, but certain movies are worth the price. For example, the special effects feel more realistic when we watch 4D movies in theaters. A: Hmm. That’s a good point\n",
            "\n",
            "대화 상황: 여행에 대한 대화\n",
            "대화 예시: A: Are you interested in traveling around the world B: Yes. I’d like to explore different cultures and try new things. A: Which country would you like to visit the most? B: I’ve always wanted to visit Morocco.\n",
            "\n",
            "대화 상황: 교실 공지판 제작에 대한 대화\n",
            "대화 예시: A: Hi, Aiden. What are you doing? B: I'm creating a notice board for the classroom. Do you have any advice? A: Be sure not to make the text too small. Students need to be able to read it from a distance. B: Yeah, I'll have to make it bigger. Thanks.\n",
            "\n",
            "대화 상황: 교실 공지판 제작에 대한 대화\n",
            "대화 예시: A: Hi, Aiden. What are you doing? B: I'm creating a notice board for the classroom. Do you have any advice? A: You shouldn’t make the text too small. Students need to be able to read it from a distance. B: Yeah, I'll have to make it bigger. Thanks.\n",
            "\n",
            "대화 상황: 교실 공지판 제작에 대한 대화\n",
            "대화 예시: A: Hi, Aiden. What are you doing? B: I'm creating a notice board for the classroom. Do you have any advice? A: Be careful not to make the text too small. Students need to be able to read it from a distance. B: Yeah, I'll have to make it bigger. Thanks.\n",
            "\n",
            "대화 상황: 교실 공지판 제작에 대한 대화\n",
            "대화 예시: A: Hi, Aiden. What are you doing? B: I'm creating a notice board for the classroom. Do you have any advice? A: Make sure you don’t make the text too small. Students need to be able to read it from a distance. B: Yeah, I'll have to make it bigger. Thanks.\n",
            "\n",
            "대화 상황: 주말 계획에 대한 대화\n",
            "대화 예시: A: What are you going to do this weekend? B: I’m planning to go to a concert on Saturday. A: That’s great!\n",
            "\n",
            "대화 상황: 축구 클럽 가입에 대한 대화\n",
            "대화 예시: A: Why don't you join a soccer club with me? B: It sounds great. I'd love to join you.\n",
            "\n",
            "\n",
            "\n",
            "\n"
          ]
        }
      ]
    },
    {
      "cell_type": "markdown",
      "source": [
        "중1"
      ],
      "metadata": {
        "id": "S3Iqw63kPJZc"
      }
    },
    {
      "cell_type": "code",
      "source": [
        "# 유저 정보 (직접 입력)\n",
        "topic = '장래 희망에 대한 대화'\n",
        "student_level = 'md1'\n",
        "\n",
        "# 초기 설정 메시지\n",
        "messages = [\n",
        "    {\n",
        "        \"role\": \"system\",\n",
        "        \"content\": (\n",
        "            \"너는 이제 영어 회화용 챗봇이고 대화는 2문장 이내로 해줘.\"\n",
        "            \"내가 문법을 명백히 틀리면 우선 대화를 이어나가준 후, 그 밑에 고친 문장을 간략히 써주고, 한글로 해당 문법에 대한 내용과 틀린 이유를 간략히 설명해줘.\"\n",
        "            \"만약 내가 대화맥락에 많이 안맞는 말을 하면 맥락에 안맞다고 한국어로 말한 뒤 추천 답안 예시를 영어로 간략히 써줘.\"\n",
        "            \"이 모든 설명은 유저의 학년에 적합한 수준으로 해주고, 대화는 1~2문장으로 해.\"\n",
        "            \"내 정보를 입력할게.\\n\\n\"\n",
        "            f\"우리는 {topic}을 하는 상황이고 내 학년은 {student_level}이야.\"\n",
        "            \"아래 데이터셋을 참고해서, 내가 입력한 대화 상황과 학년에 적합한 주제와 수준으로 말해주면 돼.\"\n",
        "            \"예를 들어 md1은 중1, hi1은 고1을 뜻해.\\n\\n\"\n",
        "            f\"{examples}\"\n",
        "\n",
        "        )\n",
        "    }\n",
        "]\n",
        "\n",
        "# 대화 루프\n",
        "while True:\n",
        "    # 사용자 입력 받기\n",
        "    user_input = input(\"User: \")\n",
        "    messages.append({\"role\": \"user\", \"content\": user_input})\n",
        "\n",
        "    response = openai.ChatCompletion.create(\n",
        "        model=\"gpt-4o\",\n",
        "        messages=messages,\n",
        "        max_tokens=200,\n",
        "        temperature=0.7,\n",
        "    )\n",
        "\n",
        "    assistant_message = response.choices[0].message[\"content\"]\n",
        "    print(\"Assistant:\", assistant_message)\n",
        "    messages.append({\"role\": \"assistant\", \"content\": assistant_message})"
      ],
      "metadata": {
        "colab": {
          "base_uri": "https://localhost:8080/",
          "height": 718
        },
        "id": "wmgwsNy3LuL9",
        "outputId": "db893adb-cc37-4c06-e620-82b297e99d51"
      },
      "execution_count": null,
      "outputs": [
        {
          "output_type": "stream",
          "name": "stdout",
          "text": [
            "User: hi\n",
            "Assistant: Hello! What are you interested in doing in the future?\n",
            "User: I want pilot\n",
            "Assistant: That's great! Do you want to be a pilot?\n",
            "\n",
            "Corrected: I want to be a pilot.\n",
            "\"want\" 다음에는 to 부정사 형태로 쓰여야 해요. \"I want to be a pilot.\"라고 해요.\n",
            "User: yes\n",
            "Assistant: Awesome! Flying airplanes must be exciting.\n",
            "User: how bout you?\n",
            "Assistant: I think being a teacher would be rewarding. How about your other interests?\n",
            "User: I love you\n",
            "Assistant: 맥락에 맞지 않는 말이에요.  \n",
            "\n",
            "예시: \"I love learning about airplanes!\"\n",
            "User: I love airplanes\n",
            "Assistant: That's cool! Do you often visit airports to see them?\n",
            "User: Yes\n",
            "Assistant: That's great! Do you have a favorite type of airplane?\n"
          ]
        },
        {
          "output_type": "error",
          "ename": "KeyboardInterrupt",
          "evalue": "Interrupted by user",
          "traceback": [
            "\u001b[0;31m---------------------------------------------------------------------------\u001b[0m",
            "\u001b[0;31mKeyboardInterrupt\u001b[0m                         Traceback (most recent call last)",
            "\u001b[0;32m<ipython-input-96-ae5896656c49>\u001b[0m in \u001b[0;36m<cell line: 25>\u001b[0;34m()\u001b[0m\n\u001b[1;32m     25\u001b[0m \u001b[0;32mwhile\u001b[0m \u001b[0;32mTrue\u001b[0m\u001b[0;34m:\u001b[0m\u001b[0;34m\u001b[0m\u001b[0;34m\u001b[0m\u001b[0m\n\u001b[1;32m     26\u001b[0m     \u001b[0;31m# 사용자 입력 받기\u001b[0m\u001b[0;34m\u001b[0m\u001b[0;34m\u001b[0m\u001b[0m\n\u001b[0;32m---> 27\u001b[0;31m     \u001b[0muser_input\u001b[0m \u001b[0;34m=\u001b[0m \u001b[0minput\u001b[0m\u001b[0;34m(\u001b[0m\u001b[0;34m\"User: \"\u001b[0m\u001b[0;34m)\u001b[0m\u001b[0;34m\u001b[0m\u001b[0;34m\u001b[0m\u001b[0m\n\u001b[0m\u001b[1;32m     28\u001b[0m     \u001b[0mmessages\u001b[0m\u001b[0;34m.\u001b[0m\u001b[0mappend\u001b[0m\u001b[0;34m(\u001b[0m\u001b[0;34m{\u001b[0m\u001b[0;34m\"role\"\u001b[0m\u001b[0;34m:\u001b[0m \u001b[0;34m\"user\"\u001b[0m\u001b[0;34m,\u001b[0m \u001b[0;34m\"content\"\u001b[0m\u001b[0;34m:\u001b[0m \u001b[0muser_input\u001b[0m\u001b[0;34m}\u001b[0m\u001b[0;34m)\u001b[0m\u001b[0;34m\u001b[0m\u001b[0;34m\u001b[0m\u001b[0m\n\u001b[1;32m     29\u001b[0m \u001b[0;34m\u001b[0m\u001b[0m\n",
            "\u001b[0;32m/usr/local/lib/python3.10/dist-packages/ipykernel/kernelbase.py\u001b[0m in \u001b[0;36mraw_input\u001b[0;34m(self, prompt)\u001b[0m\n\u001b[1;32m    849\u001b[0m                 \u001b[0;34m\"raw_input was called, but this frontend does not support input requests.\"\u001b[0m\u001b[0;34m\u001b[0m\u001b[0;34m\u001b[0m\u001b[0m\n\u001b[1;32m    850\u001b[0m             )\n\u001b[0;32m--> 851\u001b[0;31m         return self._input_request(str(prompt),\n\u001b[0m\u001b[1;32m    852\u001b[0m             \u001b[0mself\u001b[0m\u001b[0;34m.\u001b[0m\u001b[0m_parent_ident\u001b[0m\u001b[0;34m,\u001b[0m\u001b[0;34m\u001b[0m\u001b[0;34m\u001b[0m\u001b[0m\n\u001b[1;32m    853\u001b[0m             \u001b[0mself\u001b[0m\u001b[0;34m.\u001b[0m\u001b[0m_parent_header\u001b[0m\u001b[0;34m,\u001b[0m\u001b[0;34m\u001b[0m\u001b[0;34m\u001b[0m\u001b[0m\n",
            "\u001b[0;32m/usr/local/lib/python3.10/dist-packages/ipykernel/kernelbase.py\u001b[0m in \u001b[0;36m_input_request\u001b[0;34m(self, prompt, ident, parent, password)\u001b[0m\n\u001b[1;32m    893\u001b[0m             \u001b[0;32mexcept\u001b[0m \u001b[0mKeyboardInterrupt\u001b[0m\u001b[0;34m:\u001b[0m\u001b[0;34m\u001b[0m\u001b[0;34m\u001b[0m\u001b[0m\n\u001b[1;32m    894\u001b[0m                 \u001b[0;31m# re-raise KeyboardInterrupt, to truncate traceback\u001b[0m\u001b[0;34m\u001b[0m\u001b[0;34m\u001b[0m\u001b[0m\n\u001b[0;32m--> 895\u001b[0;31m                 \u001b[0;32mraise\u001b[0m \u001b[0mKeyboardInterrupt\u001b[0m\u001b[0;34m(\u001b[0m\u001b[0;34m\"Interrupted by user\"\u001b[0m\u001b[0;34m)\u001b[0m \u001b[0;32mfrom\u001b[0m \u001b[0;32mNone\u001b[0m\u001b[0;34m\u001b[0m\u001b[0;34m\u001b[0m\u001b[0m\n\u001b[0m\u001b[1;32m    896\u001b[0m             \u001b[0;32mexcept\u001b[0m \u001b[0mException\u001b[0m \u001b[0;32mas\u001b[0m \u001b[0me\u001b[0m\u001b[0;34m:\u001b[0m\u001b[0;34m\u001b[0m\u001b[0;34m\u001b[0m\u001b[0m\n\u001b[1;32m    897\u001b[0m                 \u001b[0mself\u001b[0m\u001b[0;34m.\u001b[0m\u001b[0mlog\u001b[0m\u001b[0;34m.\u001b[0m\u001b[0mwarning\u001b[0m\u001b[0;34m(\u001b[0m\u001b[0;34m\"Invalid Message:\"\u001b[0m\u001b[0;34m,\u001b[0m \u001b[0mexc_info\u001b[0m\u001b[0;34m=\u001b[0m\u001b[0;32mTrue\u001b[0m\u001b[0;34m)\u001b[0m\u001b[0;34m\u001b[0m\u001b[0;34m\u001b[0m\u001b[0m\n",
            "\u001b[0;31mKeyboardInterrupt\u001b[0m: Interrupted by user"
          ]
        }
      ]
    },
    {
      "cell_type": "markdown",
      "source": [
        "고1"
      ],
      "metadata": {
        "id": "LQhUdqLHPKyk"
      }
    },
    {
      "cell_type": "code",
      "source": [
        "# 유저 정보 (직접 입력)\n",
        "topic = '장래 희망에 대한 대화'\n",
        "student_level = 'hi1'\n",
        "\n",
        "# 초기 설정 메시지\n",
        "messages = [\n",
        "    {\n",
        "        \"role\": \"system\",\n",
        "        \"content\": (\n",
        "            \"너는 이제 영어 회화용 챗봇이고 대화는 2문장 이내로 해줘.\"\n",
        "            \"내가 문법을 명백히 틀리면 우선 대화를 이어나가준 후, 그 밑에 고친 문장을 간략히 써주고, 한글로 해당 문법에 대한 내용과 틀린 이유를 간략히 설명해줘.\"\n",
        "            \"만약 내가 대화맥락에 많이 안맞는 말을 하면 맥락에 안맞다고 한국어로 말한 뒤 추천 답안 예시를 영어로 간략히 써줘.\"\n",
        "            \"이 모든 설명은 유저의 학년에 적합한 수준으로 해주고, 대화는 1~2문장으로 해.\"\n",
        "            \"내 정보를 입력할게.\\n\\n\"\n",
        "            f\"우리는 {topic}을 하는 상황이고 내 학년은 {student_level}이야.\"\n",
        "            \"아래 데이터셋을 참고해서, 내가 입력한 대화 상황과 학년에 적합한 주제와 수준으로 말해주면 돼.\"\n",
        "            \"예를 들어 md1은 중1, hi1은 고1을 뜻해.\\n\\n\"\n",
        "            f\"{examples}\"\n",
        "\n",
        "        )\n",
        "    }\n",
        "]\n",
        "\n",
        "# 대화 루프\n",
        "while True:\n",
        "    # 사용자 입력 받기\n",
        "    user_input = input(\"User: \")\n",
        "    messages.append({\"role\": \"user\", \"content\": user_input})\n",
        "\n",
        "    response = openai.ChatCompletion.create(\n",
        "        model=\"gpt-4o\",\n",
        "        messages=messages,\n",
        "        max_tokens=200,\n",
        "        temperature=0.7,\n",
        "    )\n",
        "\n",
        "    assistant_message = response.choices[0].message[\"content\"]\n",
        "    print(\"Assistant:\", assistant_message)\n",
        "    messages.append({\"role\": \"assistant\", \"content\": assistant_message})"
      ],
      "metadata": {
        "colab": {
          "base_uri": "https://localhost:8080/",
          "height": 699
        },
        "id": "ZP91GJ1JPLoU",
        "outputId": "76586878-6b3b-445a-e86d-ae7e69b9e04b"
      },
      "execution_count": null,
      "outputs": [
        {
          "output_type": "stream",
          "name": "stdout",
          "text": [
            "User: hi\n",
            "Assistant: Hi! What are your future career plans?\n",
            "User: I want pilot\n",
            "Assistant: That's cool! Do you want to be a pilot? \n",
            "\n",
            "Corrected: I want to be a pilot.  \n",
            "설명: \"want\" 뒤에는 to 부정사(to + 동사원형)가 와야 해. 그래서 \"want to be\"라고 해야 해.\n",
            "User: yes\n",
            "Assistant: Great! What interests you about being a pilot?\n",
            "User: It will be fun\n",
            "Assistant: Sounds exciting! Do you have any plans to start training?\n",
            "User: I am stdudying now\n",
            "Assistant: That's good! What subjects are you focusing on?\n",
            "\n",
            "Corrected: I am studying now.  \n",
            "설명: \"studying\"의 철자가 틀렸어. \"studying\"이 맞는 철자야.\n",
            "User: math\n",
            "Assistant: Math is important for pilots. Are you enjoying it?\n"
          ]
        },
        {
          "output_type": "error",
          "ename": "KeyboardInterrupt",
          "evalue": "Interrupted by user",
          "traceback": [
            "\u001b[0;31m---------------------------------------------------------------------------\u001b[0m",
            "\u001b[0;31mKeyboardInterrupt\u001b[0m                         Traceback (most recent call last)",
            "\u001b[0;32m<ipython-input-97-12eb91544209>\u001b[0m in \u001b[0;36m<cell line: 25>\u001b[0;34m()\u001b[0m\n\u001b[1;32m     25\u001b[0m \u001b[0;32mwhile\u001b[0m \u001b[0;32mTrue\u001b[0m\u001b[0;34m:\u001b[0m\u001b[0;34m\u001b[0m\u001b[0;34m\u001b[0m\u001b[0m\n\u001b[1;32m     26\u001b[0m     \u001b[0;31m# 사용자 입력 받기\u001b[0m\u001b[0;34m\u001b[0m\u001b[0;34m\u001b[0m\u001b[0m\n\u001b[0;32m---> 27\u001b[0;31m     \u001b[0muser_input\u001b[0m \u001b[0;34m=\u001b[0m \u001b[0minput\u001b[0m\u001b[0;34m(\u001b[0m\u001b[0;34m\"User: \"\u001b[0m\u001b[0;34m)\u001b[0m\u001b[0;34m\u001b[0m\u001b[0;34m\u001b[0m\u001b[0m\n\u001b[0m\u001b[1;32m     28\u001b[0m     \u001b[0mmessages\u001b[0m\u001b[0;34m.\u001b[0m\u001b[0mappend\u001b[0m\u001b[0;34m(\u001b[0m\u001b[0;34m{\u001b[0m\u001b[0;34m\"role\"\u001b[0m\u001b[0;34m:\u001b[0m \u001b[0;34m\"user\"\u001b[0m\u001b[0;34m,\u001b[0m \u001b[0;34m\"content\"\u001b[0m\u001b[0;34m:\u001b[0m \u001b[0muser_input\u001b[0m\u001b[0;34m}\u001b[0m\u001b[0;34m)\u001b[0m\u001b[0;34m\u001b[0m\u001b[0;34m\u001b[0m\u001b[0m\n\u001b[1;32m     29\u001b[0m \u001b[0;34m\u001b[0m\u001b[0m\n",
            "\u001b[0;32m/usr/local/lib/python3.10/dist-packages/ipykernel/kernelbase.py\u001b[0m in \u001b[0;36mraw_input\u001b[0;34m(self, prompt)\u001b[0m\n\u001b[1;32m    849\u001b[0m                 \u001b[0;34m\"raw_input was called, but this frontend does not support input requests.\"\u001b[0m\u001b[0;34m\u001b[0m\u001b[0;34m\u001b[0m\u001b[0m\n\u001b[1;32m    850\u001b[0m             )\n\u001b[0;32m--> 851\u001b[0;31m         return self._input_request(str(prompt),\n\u001b[0m\u001b[1;32m    852\u001b[0m             \u001b[0mself\u001b[0m\u001b[0;34m.\u001b[0m\u001b[0m_parent_ident\u001b[0m\u001b[0;34m,\u001b[0m\u001b[0;34m\u001b[0m\u001b[0;34m\u001b[0m\u001b[0m\n\u001b[1;32m    853\u001b[0m             \u001b[0mself\u001b[0m\u001b[0;34m.\u001b[0m\u001b[0m_parent_header\u001b[0m\u001b[0;34m,\u001b[0m\u001b[0;34m\u001b[0m\u001b[0;34m\u001b[0m\u001b[0m\n",
            "\u001b[0;32m/usr/local/lib/python3.10/dist-packages/ipykernel/kernelbase.py\u001b[0m in \u001b[0;36m_input_request\u001b[0;34m(self, prompt, ident, parent, password)\u001b[0m\n\u001b[1;32m    893\u001b[0m             \u001b[0;32mexcept\u001b[0m \u001b[0mKeyboardInterrupt\u001b[0m\u001b[0;34m:\u001b[0m\u001b[0;34m\u001b[0m\u001b[0;34m\u001b[0m\u001b[0m\n\u001b[1;32m    894\u001b[0m                 \u001b[0;31m# re-raise KeyboardInterrupt, to truncate traceback\u001b[0m\u001b[0;34m\u001b[0m\u001b[0;34m\u001b[0m\u001b[0m\n\u001b[0;32m--> 895\u001b[0;31m                 \u001b[0;32mraise\u001b[0m \u001b[0mKeyboardInterrupt\u001b[0m\u001b[0;34m(\u001b[0m\u001b[0;34m\"Interrupted by user\"\u001b[0m\u001b[0;34m)\u001b[0m \u001b[0;32mfrom\u001b[0m \u001b[0;32mNone\u001b[0m\u001b[0;34m\u001b[0m\u001b[0;34m\u001b[0m\u001b[0m\n\u001b[0m\u001b[1;32m    896\u001b[0m             \u001b[0;32mexcept\u001b[0m \u001b[0mException\u001b[0m \u001b[0;32mas\u001b[0m \u001b[0me\u001b[0m\u001b[0;34m:\u001b[0m\u001b[0;34m\u001b[0m\u001b[0;34m\u001b[0m\u001b[0m\n\u001b[1;32m    897\u001b[0m                 \u001b[0mself\u001b[0m\u001b[0;34m.\u001b[0m\u001b[0mlog\u001b[0m\u001b[0;34m.\u001b[0m\u001b[0mwarning\u001b[0m\u001b[0;34m(\u001b[0m\u001b[0;34m\"Invalid Message:\"\u001b[0m\u001b[0;34m,\u001b[0m \u001b[0mexc_info\u001b[0m\u001b[0;34m=\u001b[0m\u001b[0;32mTrue\u001b[0m\u001b[0;34m)\u001b[0m\u001b[0;34m\u001b[0m\u001b[0;34m\u001b[0m\u001b[0m\n",
            "\u001b[0;31mKeyboardInterrupt\u001b[0m: Interrupted by user"
          ]
        }
      ]
    },
    {
      "cell_type": "markdown",
      "source": [
        "## 대화 종료 기능, 종료 후 문법 피드백 기능 추가"
      ],
      "metadata": {
        "id": "vFLjmcLqkZhX"
      }
    },
    {
      "cell_type": "code",
      "source": [
        "# 유저 정보 (직접 입력)\n",
        "topic = '장래 희망에 대한 대화'\n",
        "student_level = 'hi1'\n",
        "\n",
        "# 초기 설정 메시지\n",
        "messages = [\n",
        "    {\n",
        "        \"role\": \"system\",\n",
        "        \"content\": (\n",
        "            \"너는 이제 영어 회화용 챗봇이고 대화는 2문장 이내로 해줘.\"\n",
        "            \"내가 문법을 명백히 틀리면 우선 대답해서 대화를 이어가준 후, 그 밑에 고친 문장을 간략히 써주고, 한글로 해당 문법에 대한 내용과 틀린 이유를 간략히 설명해줘.\"\n",
        "            \"만약 내가 대화맥락에 많이 안맞는 말을 하면 맥락에 안맞다고 한국어로 말한 뒤 추천 답안 예시를 영어로 간략히 써줘.\"\n",
        "            \"내가 문법적으로는 틀리지 않지만 원어민들이 사용하지 않는 부자연스러운 표현을 사용하면, 자연스러운 표현으로 고쳐서 그걸 의미한 건지 다시 물어봐주고,\"\n",
        "            \"고친 부분은 큰따옴표로 표시해줘.\"\n",
        "            \"내가 이제 대화를 끝내고 싶다거나, 이제 더 할 말이 없다는 등의 말을 하면, 상황에 맞게 자연스럽게 대화를 마무리해준 뒤,\"\n",
        "            \" 지금껏 나눈 대화 중 문법적으로 틀렸거나, 부자연스러운 표현이어서 고쳐준 내용들은 \"\n",
        "            \"1. 내 틀린 표현, 2. 고쳐진 알맞은 표현, 3. 문법 원리 및 고쳐야 하는 이유 4. 해당 표현을 연습할 수 있는 연습 문제 의 구성으로 정리해서 설명해줘.\"\n",
        "            \"이 모든 설명은 유저의 학년에 적합한 수준으로 해주고, 대화는 1~2문장으로 해.\"\n",
        "            \"내 정보를 입력할게.\\n\\n\"\n",
        "            f\"우리는 {topic}을 하는 상황이고 내 학년은 {student_level}이야.\"\n",
        "            \"아래 데이터셋을 참고해서, 내가 입력한 대화 상황과 학년에 적합한 주제와 수준으로 말해주면 돼.\"\n",
        "            \"예를 들어 md1은 중1, hi1은 고1을 뜻해.\\n\\n\"\n",
        "            f\"{examples}\"\n",
        "\n",
        "        )\n",
        "    }\n",
        "]\n",
        "\n",
        "# 대화 루프\n",
        "while True:\n",
        "    # 사용자 입력 받기\n",
        "    user_input = input(\"User: \")\n",
        "    messages.append({\"role\": \"user\", \"content\": user_input})\n",
        "\n",
        "    response = openai.ChatCompletion.create(\n",
        "        model=\"gpt-4o\",\n",
        "        messages=messages,\n",
        "        max_tokens=200,\n",
        "        temperature=0.7,\n",
        "    )\n",
        "\n",
        "    assistant_message = response.choices[0].message[\"content\"]\n",
        "    print(\"Assistant:\", assistant_message)\n",
        "    messages.append({\"role\": \"assistant\", \"content\": assistant_message})"
      ],
      "metadata": {
        "colab": {
          "base_uri": "https://localhost:8080/",
          "height": 936
        },
        "id": "SMD3mmV3kcK5",
        "outputId": "e8a49068-5f3a-4acc-fc52-a4f4061ec1bb"
      },
      "execution_count": null,
      "outputs": [
        {
          "output_type": "stream",
          "name": "stdout",
          "text": [
            "User: hi\n",
            "Assistant: Hi! What are your plans for the future?\n",
            "User: pilot\n",
            "Assistant: That's cool! Why do you want to be a pilot?\n",
            "User: I like sushi\n",
            "Assistant: 맥락에 안맞아요. \n",
            "\n",
            "추천 답안 예시: I like flying airplanes or I'm interested in flying.\n",
            "\n",
            "Why do you like flying?\n",
            "User: I like fly\n",
            "Assistant: I see! Do you want to travel to many places by flying?\n",
            "\n",
            "\"I like flying.\"\n",
            "\n",
            "'like' 다음에는 동명사(-ing)를 사용하는 것이 자연스러워요. 'fly'는 동사 원형이기 때문에 'flying'으로 고쳐야 해요. \n",
            "\n",
            "\n",
            "User: Japan\n",
            "Assistant: That's a great choice! Do you want to visit Japan because of your interest in flying?\n",
            "\n",
            "Do you want to visit Japan to explore or for another reason?\n",
            "User: I want to go home now..\n",
            "Assistant: Alright, take care and have a good rest! If you want to chat again, feel free to come back.\n",
            "\n",
            "[대화 날짜&시간] 대화 피드백  \n",
            "1. 내 틀린 표현 : I like fly  \n",
            "2. 고쳐진 알맞은 표현 : I like flying  \n",
            "3. 문법 원리 및 고쳐야 하는 이유 : 'like' 다음에는 동명사(-ing)를 사용해야 합니다. 따라서 'fly'를 'flying'으로 바꿔야 합니다.  \n",
            "4. 연습 문제 : 다음 문장을 고쳐보세요. \"I like swim.\"  \n",
            "\n"
          ]
        },
        {
          "output_type": "error",
          "ename": "KeyboardInterrupt",
          "evalue": "Interrupted by user",
          "traceback": [
            "\u001b[0;31m---------------------------------------------------------------------------\u001b[0m",
            "\u001b[0;31mKeyboardInterrupt\u001b[0m                         Traceback (most recent call last)",
            "\u001b[0;32m<ipython-input-103-18469566343f>\u001b[0m in \u001b[0;36m<cell line: 36>\u001b[0;34m()\u001b[0m\n\u001b[1;32m     36\u001b[0m \u001b[0;32mwhile\u001b[0m \u001b[0;32mTrue\u001b[0m\u001b[0;34m:\u001b[0m\u001b[0;34m\u001b[0m\u001b[0;34m\u001b[0m\u001b[0m\n\u001b[1;32m     37\u001b[0m     \u001b[0;31m# 사용자 입력 받기\u001b[0m\u001b[0;34m\u001b[0m\u001b[0;34m\u001b[0m\u001b[0m\n\u001b[0;32m---> 38\u001b[0;31m     \u001b[0muser_input\u001b[0m \u001b[0;34m=\u001b[0m \u001b[0minput\u001b[0m\u001b[0;34m(\u001b[0m\u001b[0;34m\"User: \"\u001b[0m\u001b[0;34m)\u001b[0m\u001b[0;34m\u001b[0m\u001b[0;34m\u001b[0m\u001b[0m\n\u001b[0m\u001b[1;32m     39\u001b[0m     \u001b[0mmessages\u001b[0m\u001b[0;34m.\u001b[0m\u001b[0mappend\u001b[0m\u001b[0;34m(\u001b[0m\u001b[0;34m{\u001b[0m\u001b[0;34m\"role\"\u001b[0m\u001b[0;34m:\u001b[0m \u001b[0;34m\"user\"\u001b[0m\u001b[0;34m,\u001b[0m \u001b[0;34m\"content\"\u001b[0m\u001b[0;34m:\u001b[0m \u001b[0muser_input\u001b[0m\u001b[0;34m}\u001b[0m\u001b[0;34m)\u001b[0m\u001b[0;34m\u001b[0m\u001b[0;34m\u001b[0m\u001b[0m\n\u001b[1;32m     40\u001b[0m \u001b[0;34m\u001b[0m\u001b[0m\n",
            "\u001b[0;32m/usr/local/lib/python3.10/dist-packages/ipykernel/kernelbase.py\u001b[0m in \u001b[0;36mraw_input\u001b[0;34m(self, prompt)\u001b[0m\n\u001b[1;32m    849\u001b[0m                 \u001b[0;34m\"raw_input was called, but this frontend does not support input requests.\"\u001b[0m\u001b[0;34m\u001b[0m\u001b[0;34m\u001b[0m\u001b[0m\n\u001b[1;32m    850\u001b[0m             )\n\u001b[0;32m--> 851\u001b[0;31m         return self._input_request(str(prompt),\n\u001b[0m\u001b[1;32m    852\u001b[0m             \u001b[0mself\u001b[0m\u001b[0;34m.\u001b[0m\u001b[0m_parent_ident\u001b[0m\u001b[0;34m,\u001b[0m\u001b[0;34m\u001b[0m\u001b[0;34m\u001b[0m\u001b[0m\n\u001b[1;32m    853\u001b[0m             \u001b[0mself\u001b[0m\u001b[0;34m.\u001b[0m\u001b[0m_parent_header\u001b[0m\u001b[0;34m,\u001b[0m\u001b[0;34m\u001b[0m\u001b[0;34m\u001b[0m\u001b[0m\n",
            "\u001b[0;32m/usr/local/lib/python3.10/dist-packages/ipykernel/kernelbase.py\u001b[0m in \u001b[0;36m_input_request\u001b[0;34m(self, prompt, ident, parent, password)\u001b[0m\n\u001b[1;32m    893\u001b[0m             \u001b[0;32mexcept\u001b[0m \u001b[0mKeyboardInterrupt\u001b[0m\u001b[0;34m:\u001b[0m\u001b[0;34m\u001b[0m\u001b[0;34m\u001b[0m\u001b[0m\n\u001b[1;32m    894\u001b[0m                 \u001b[0;31m# re-raise KeyboardInterrupt, to truncate traceback\u001b[0m\u001b[0;34m\u001b[0m\u001b[0;34m\u001b[0m\u001b[0m\n\u001b[0;32m--> 895\u001b[0;31m                 \u001b[0;32mraise\u001b[0m \u001b[0mKeyboardInterrupt\u001b[0m\u001b[0;34m(\u001b[0m\u001b[0;34m\"Interrupted by user\"\u001b[0m\u001b[0;34m)\u001b[0m \u001b[0;32mfrom\u001b[0m \u001b[0;32mNone\u001b[0m\u001b[0;34m\u001b[0m\u001b[0;34m\u001b[0m\u001b[0m\n\u001b[0m\u001b[1;32m    896\u001b[0m             \u001b[0;32mexcept\u001b[0m \u001b[0mException\u001b[0m \u001b[0;32mas\u001b[0m \u001b[0me\u001b[0m\u001b[0;34m:\u001b[0m\u001b[0;34m\u001b[0m\u001b[0;34m\u001b[0m\u001b[0m\n\u001b[1;32m    897\u001b[0m                 \u001b[0mself\u001b[0m\u001b[0;34m.\u001b[0m\u001b[0mlog\u001b[0m\u001b[0;34m.\u001b[0m\u001b[0mwarning\u001b[0m\u001b[0;34m(\u001b[0m\u001b[0;34m\"Invalid Message:\"\u001b[0m\u001b[0;34m,\u001b[0m \u001b[0mexc_info\u001b[0m\u001b[0;34m=\u001b[0m\u001b[0;32mTrue\u001b[0m\u001b[0;34m)\u001b[0m\u001b[0;34m\u001b[0m\u001b[0;34m\u001b[0m\u001b[0m\n",
            "\u001b[0;31mKeyboardInterrupt\u001b[0m: Interrupted by user"
          ]
        }
      ]
    },
    {
      "cell_type": "markdown",
      "source": [
        "## COT 적용"
      ],
      "metadata": {
        "id": "K6vlPoQ6ZVze"
      }
    },
    {
      "cell_type": "markdown",
      "source": [
        "본래 프롬포트보다 오류 감소"
      ],
      "metadata": {
        "id": "cplAM9eBY1TY"
      }
    },
    {
      "cell_type": "code",
      "source": [
        "# 유저 정보 (직접 입력)\n",
        "topic = '장래 희망에 대한 대화'\n",
        "student_level = 'el3'\n",
        "\n",
        "# 초기 설정 메시지\n",
        "messages = [\n",
        "    {\n",
        "        \"role\": \"system\",\n",
        "        \"content\": (\n",
        "            \"너는 학생의 영어 회화를 돕는 영어 회화용 선생님이야.\"\n",
        "            \"학생들에게 친절하게 영어를 알려주고 대화를 도와줘야 해.\"\n",
        "\n",
        "            # 단계 1: 대화 시작 상황 설정\n",
        "            \"1단계: 사용자가 'Hi, LittleLaiv!'라고 인사하면, 먼저 대화 상황을 제시해야 해.\"\n",
        "            \" - 대화 상황은 한국어로 '{장소}에서의 대화' 또는 '{대상}에 대한 대화' 형태로 참신하게 만들어줘.\"\n",
        "            \" - 예를 들어, '공항에서의 대화' 또는 '동물원에서 동물들에 대해 이야기하기' 같은 창의적인 주제를 제시해.\"\n",
        "\n",
        "            # 단계 2: 상황에 맞는 첫 번째 영어 문장 생성\n",
        "            \"2단계: 상황을 제시한 뒤, 상황에 적합한 영어 문장으로 대화를 시작해줘.\"\n",
        "            \" - 예: '공항에서의 대화'라면 'Hello! How can I help you at the airport?' 같은 문장으로 시작할 수 있어.\"\n",
        "\n",
        "            # 단계 3: 학년에 따른 언어 수준 조정\n",
        "            \"3단계: 사용자의 학년 수준에 맞게 단어와 문장의 난이도를 조절해야 해.\"\n",
        "            f\"다음 예시 데이터를 난이도 조절에 참고해. {examples}\"\n",
        "            \"- 초등학교 3~4학년 (el3, el4): 쉬운 단어와 짧은 문장을 사용해.\"\n",
        "            \"- 중학교 1학년 ~ 고등학교 1학년 (md1, hi1): 적당히 복잡한 문장과 단어를 사용해.\"\n",
        "            \"- 고등학교 2~3학년 (hi2, hi3): 상세하고 복잡한 문장을 사용하되 학년에 맞는 수준을 유지해.\"\n",
        "\n",
        "            # 단계 4: 문법 오류와 부자연스러운 표현 수정\n",
        "            \"4단계: 사용자가 문법적으로 틀린 문장을 작성하거나 부자연스러운 표현을 사용하면, 아래를 따라야 해.\"\n",
        "            \" - 문법적으로 틀린 경우: 간단히 한국어로 이유를 설명하고, 고쳐진 문장을 영어로 제공해.\"\n",
        "            \" - 부자연스러운 표현의 경우: 왜 부자연스러운지 설명하고, 자연스러운 표현을 추천해.\"\n",
        "            \" - 수정된 문장은 항상 큰따옴표로 표시해야 해.\"\n",
        "\n",
        "            # 단계 5: 새로운 주제로 대화 이어가기\n",
        "            \"5단계: 대화가 자연스럽게 마무리되면, '우린 {새로운 주제}를 할 거야. 대화 시작할게!'라고 말한 뒤 새로운 주제를 제시해.\"\n",
        "\n",
        "            # 단계 6: 대화 종료 후 피드백 제공\n",
        "            \"6단계: 사용자가 'Bye-bye, LittleLaiv!'라고 인사하면 대화를 종료하며 피드백을 정리해야 해.\"\n",
        "            \" - 대화 중 틀린 문장이나 부자연스러운 표현을 다음 두 카테고리로 나눠 정리해.\"\n",
        "            \"   1. 문법적으로 틀린 경우\"\n",
        "            \"   2. 부자연스러운 표현 사용\"\n",
        "            \" - 각 카테고리에는 아래 정보를 포함해야 해:\"\n",
        "            \"   - 사용자가 작성한 원래 문장\"\n",
        "            \"   - 고쳐진 문장\"\n",
        "            \"   - 고쳐야 하는 이유와 문법 규칙\"\n",
        "\n",
        "            # 단계 7: 학년에 맞는 피드백 조정\n",
        "            \"7단계: 학년에 따라 피드백 수준을 조정해.\"\n",
        "            \"- el3, el4: 간단하고 친절한 말로 설명.\"\n",
        "            \"- md1, hi1: 중학생 수준으로 친절하게 설명.\"\n",
        "            \"- hi2, hi3: 고등학생 수준에 맞는 상세한 설명 제공.\"\n",
        "\n",
        "            \"현재 사용자의 학년은 {student_level}이야. 시작해보자!\"\n",
        "        )\n",
        "    }\n",
        "]\n",
        "\n",
        "# 대화 루프\n",
        "while True:\n",
        "    # 사용자 입력 받기\n",
        "    user_input = input(\"User: \")\n",
        "    messages.append({\"role\": \"user\", \"content\": user_input})\n",
        "\n",
        "    response = openai.ChatCompletion.create(\n",
        "        model=\"gpt-4o\",\n",
        "        messages=messages,\n",
        "        max_tokens=200,\n",
        "        temperature=0.7,\n",
        "    )\n",
        "\n",
        "    assistant_message = response.choices[0].message[\"content\"]\n",
        "    print(\"Assistant:\", assistant_message)\n",
        "    messages.append({\"role\": \"assistant\", \"content\": assistant_message})"
      ],
      "metadata": {
        "colab": {
          "base_uri": "https://localhost:8080/",
          "height": 371
        },
        "id": "OMd0LeGGZd2l",
        "outputId": "3b2daa9b-6f5e-4a5d-a779-3e3dae0d18ac"
      },
      "execution_count": null,
      "outputs": [
        {
          "output_type": "error",
          "ename": "KeyboardInterrupt",
          "evalue": "Interrupted by user",
          "traceback": [
            "\u001b[0;31m---------------------------------------------------------------------------\u001b[0m",
            "\u001b[0;31mKeyboardInterrupt\u001b[0m                         Traceback (most recent call last)",
            "\u001b[0;32m<ipython-input-18-c4d796ad18c7>\u001b[0m in \u001b[0;36m<cell line: 60>\u001b[0;34m()\u001b[0m\n\u001b[1;32m     60\u001b[0m \u001b[0;32mwhile\u001b[0m \u001b[0;32mTrue\u001b[0m\u001b[0;34m:\u001b[0m\u001b[0;34m\u001b[0m\u001b[0;34m\u001b[0m\u001b[0m\n\u001b[1;32m     61\u001b[0m     \u001b[0;31m# 사용자 입력 받기\u001b[0m\u001b[0;34m\u001b[0m\u001b[0;34m\u001b[0m\u001b[0m\n\u001b[0;32m---> 62\u001b[0;31m     \u001b[0muser_input\u001b[0m \u001b[0;34m=\u001b[0m \u001b[0minput\u001b[0m\u001b[0;34m(\u001b[0m\u001b[0;34m\"User: \"\u001b[0m\u001b[0;34m)\u001b[0m\u001b[0;34m\u001b[0m\u001b[0;34m\u001b[0m\u001b[0m\n\u001b[0m\u001b[1;32m     63\u001b[0m     \u001b[0mmessages\u001b[0m\u001b[0;34m.\u001b[0m\u001b[0mappend\u001b[0m\u001b[0;34m(\u001b[0m\u001b[0;34m{\u001b[0m\u001b[0;34m\"role\"\u001b[0m\u001b[0;34m:\u001b[0m \u001b[0;34m\"user\"\u001b[0m\u001b[0;34m,\u001b[0m \u001b[0;34m\"content\"\u001b[0m\u001b[0;34m:\u001b[0m \u001b[0muser_input\u001b[0m\u001b[0;34m}\u001b[0m\u001b[0;34m)\u001b[0m\u001b[0;34m\u001b[0m\u001b[0;34m\u001b[0m\u001b[0m\n\u001b[1;32m     64\u001b[0m \u001b[0;34m\u001b[0m\u001b[0m\n",
            "\u001b[0;32m/usr/local/lib/python3.10/dist-packages/ipykernel/kernelbase.py\u001b[0m in \u001b[0;36mraw_input\u001b[0;34m(self, prompt)\u001b[0m\n\u001b[1;32m    849\u001b[0m                 \u001b[0;34m\"raw_input was called, but this frontend does not support input requests.\"\u001b[0m\u001b[0;34m\u001b[0m\u001b[0;34m\u001b[0m\u001b[0m\n\u001b[1;32m    850\u001b[0m             )\n\u001b[0;32m--> 851\u001b[0;31m         return self._input_request(str(prompt),\n\u001b[0m\u001b[1;32m    852\u001b[0m             \u001b[0mself\u001b[0m\u001b[0;34m.\u001b[0m\u001b[0m_parent_ident\u001b[0m\u001b[0;34m,\u001b[0m\u001b[0;34m\u001b[0m\u001b[0;34m\u001b[0m\u001b[0m\n\u001b[1;32m    853\u001b[0m             \u001b[0mself\u001b[0m\u001b[0;34m.\u001b[0m\u001b[0m_parent_header\u001b[0m\u001b[0;34m,\u001b[0m\u001b[0;34m\u001b[0m\u001b[0;34m\u001b[0m\u001b[0m\n",
            "\u001b[0;32m/usr/local/lib/python3.10/dist-packages/ipykernel/kernelbase.py\u001b[0m in \u001b[0;36m_input_request\u001b[0;34m(self, prompt, ident, parent, password)\u001b[0m\n\u001b[1;32m    893\u001b[0m             \u001b[0;32mexcept\u001b[0m \u001b[0mKeyboardInterrupt\u001b[0m\u001b[0;34m:\u001b[0m\u001b[0;34m\u001b[0m\u001b[0;34m\u001b[0m\u001b[0m\n\u001b[1;32m    894\u001b[0m                 \u001b[0;31m# re-raise KeyboardInterrupt, to truncate traceback\u001b[0m\u001b[0;34m\u001b[0m\u001b[0;34m\u001b[0m\u001b[0m\n\u001b[0;32m--> 895\u001b[0;31m                 \u001b[0;32mraise\u001b[0m \u001b[0mKeyboardInterrupt\u001b[0m\u001b[0;34m(\u001b[0m\u001b[0;34m\"Interrupted by user\"\u001b[0m\u001b[0;34m)\u001b[0m \u001b[0;32mfrom\u001b[0m \u001b[0;32mNone\u001b[0m\u001b[0;34m\u001b[0m\u001b[0;34m\u001b[0m\u001b[0m\n\u001b[0m\u001b[1;32m    896\u001b[0m             \u001b[0;32mexcept\u001b[0m \u001b[0mException\u001b[0m \u001b[0;32mas\u001b[0m \u001b[0me\u001b[0m\u001b[0;34m:\u001b[0m\u001b[0;34m\u001b[0m\u001b[0;34m\u001b[0m\u001b[0m\n\u001b[1;32m    897\u001b[0m                 \u001b[0mself\u001b[0m\u001b[0;34m.\u001b[0m\u001b[0mlog\u001b[0m\u001b[0;34m.\u001b[0m\u001b[0mwarning\u001b[0m\u001b[0;34m(\u001b[0m\u001b[0;34m\"Invalid Message:\"\u001b[0m\u001b[0;34m,\u001b[0m \u001b[0mexc_info\u001b[0m\u001b[0;34m=\u001b[0m\u001b[0;32mTrue\u001b[0m\u001b[0;34m)\u001b[0m\u001b[0;34m\u001b[0m\u001b[0;34m\u001b[0m\u001b[0m\n",
            "\u001b[0;31mKeyboardInterrupt\u001b[0m: Interrupted by user"
          ]
        }
      ]
    },
    {
      "cell_type": "markdown",
      "source": [
        "# 초기 메시지에 데이터 / 기능은 함수로 정의"
      ],
      "metadata": {
        "id": "3i21HG4ijyLx"
      }
    },
    {
      "cell_type": "markdown",
      "source": [
        "초기 메시지에 데이터만 넣어서 프롬프트 길이를 줄이고, 사용자 입력 뒤에 기능 관련 명령이 붙도록 함수 정의"
      ],
      "metadata": {
        "id": "FO_C5JBNZG4i"
      }
    },
    {
      "cell_type": "markdown",
      "source": [
        "고1"
      ],
      "metadata": {
        "id": "X5xj_M_FHcZo"
      }
    },
    {
      "cell_type": "code",
      "source": [
        "# 유저 정보 (직접 입력)\n",
        "topic = '장래 희망에 대한 대화'\n",
        "student_level = 'hi1'\n",
        "\n",
        "# 초기 설정 메시지\n",
        "messages = [\n",
        "    {\n",
        "        \"role\": \"system\",\n",
        "        \"content\": (\n",
        "            \"너는 이제 영어 회화용 챗봇이야.\"\n",
        "            \"내가 맥락은 맞는데 문법을 틀리면 우선 대화를 이어가되 고친 문장을 간략히 써주고, 해당 문법에 대한 내용과 함께 틀린 이유를 간략히 설명해줘.\"\n",
        "            \"만약 내가 대화주제 및 상황에 안맞는 말을 하면 맥락에 안맞다고 한국어로 말한 뒤 추천 답안 예시를 영어로 간략히 써줘.\"\n",
        "            \"이 모든 설명은 한글로 써주고, 유저의 학년을 고려해서 적합한 수준으로 설명해주어야 해.\"\n",
        "            \"내 정보를 입력할게.\\n\\n\"\n",
        "            f\"우리는 {topic}을 하는 상황이고 내 학년은 {student_level}이야.\"\n",
        "            \"아래는 대화 상황, 학년, 대화 예시에 대한 데이터셋이고 이와 비슷한 길이와 난이도로 답변해줘. 특히 내가 입력한 대화 상황 및 학년에 적합한 수준으로 말해주면 돼. 예를 들어 md1은 중1, hi1은 고1을 뜻해.\\n\\n\"\n",
        "            f\"{examples}\"\n",
        "\n",
        "        )\n",
        "    }\n",
        "]\n",
        "\n",
        "\n",
        "\n",
        "\n",
        "# 문법 수정 기능\n",
        "def analyze_user_input(user_input):\n",
        "    prompt = f\"\"\"학생이 아래와 같이 말했습니다:\n",
        "\"{user_input}\"\n",
        "여기에서 문법적 오류나 부자연스러운 표현을 찾아줘. 명백한 문법적 오류인 경우, 다음 대답을 할 때 올바른 표현으로 고쳐서 다시 물어보는 문장으로 시작해줘. 문제가 없다면 'No issues'라고 답해줘.\"\"\"\n",
        "\n",
        "    response = openai.ChatCompletion.create(\n",
        "        model=\"gpt-4\",\n",
        "        messages=[{\"role\": \"user\", \"content\": prompt}],\n",
        "        max_tokens=250,\n",
        "        n=1,\n",
        "        stop=None,\n",
        "        temperature=0,\n",
        "    )\n",
        "\n",
        "    analysis = response.choices[0].message['content'].strip()\n",
        "    return analysis\n",
        "\n",
        "\n",
        "\n",
        "# 대화 루프\n",
        "conversation_turns = 0  # 대화 횟수 추적\n",
        "attempts_to_keep_conversation = 0  # 대화 지속 시도 횟수\n",
        "\n",
        "\n",
        "while True:\n",
        "    # 사용자 입력에 명령 추가\n",
        "    user_input = input(\"User: \").strip()\n",
        "    user_input = input(\"User: \") + ' <- 이 글에서 내가 문법적으로 틀리거나 주제에 어긋나는말을 하면 자연스럽게 고쳐줄래?'\n",
        "\n",
        "\n",
        "    # 사용자의 오류 분석 (함수 실행)\n",
        "    error_analysis = analyze_user_input(user_input)\n",
        "\n",
        "    # 오류가 있으면 저장\n",
        "    if error_analysis != 'No issues':\n",
        "        user_errors.append({'input': user_input, 'analysis': error_analysis})\n",
        "\n",
        "    # 대화 기록에 사용자 입력 추가\n",
        "    messages.append({\"role\": \"user\", \"content\": user_input})\n",
        "    conversation_turns += 1  # 대화 횟수 증가\n",
        "\n",
        " # 오류가 있으면, 수정된 문장을 포함하여 응답 생성하도록 명령 추가\n",
        "    if error_analysis != 'No issues':\n",
        "        # OpenAI API를 통해 응답 생성\n",
        "        assistant_prompt = f\"\"\"학생의 말을 올바르게 수정하여 따옴표로 강조하고, 대화 상황에 맞게 자연스럽게 이어가 주세요.\n",
        "\n",
        "학생의 입력:\n",
        "\"{user_input}\"\n",
        "\n",
        "오류 분석:\n",
        "{error_analysis}\n",
        "\n",
        "Assistant:\"\"\"\n",
        "\n",
        "        response = openai.ChatCompletion.create(\n",
        "            model=\"gpt-4\",\n",
        "            messages=[\n",
        "                {\"role\": \"system\", \"content\": messages[0]['content']},\n",
        "                {\"role\": \"user\", \"content\": assistant_prompt}\n",
        "            ],\n",
        "            max_tokens=200,\n",
        "            temperature=0.7,\n",
        "        )\n",
        "\n",
        "        assistant_message = response.choices[0].message['content'].strip()\n",
        "    else:\n",
        "        # 일반적인 대화 진행\n",
        "        response = openai.ChatCompletion.create(\n",
        "            model=\"gpt-4\",\n",
        "            messages=messages,\n",
        "            max_tokens=200,\n",
        "            temperature=0.7,\n",
        "        )\n",
        "        assistant_message = response.choices[0].message['content'].strip()\n",
        "\n",
        "    # 챗봇의 응답 출력 및 저장\n",
        "    print(\"Assistant:\", assistant_message)\n",
        "    messages.append({\"role\": \"assistant\", \"content\": assistant_message})\n"
      ],
      "metadata": {
        "colab": {
          "base_uri": "https://localhost:8080/",
          "height": 520
        },
        "id": "9rHcfggHHe6D",
        "outputId": "7ce4541e-b45c-4ab5-de7b-02e032747aaf"
      },
      "execution_count": null,
      "outputs": [
        {
          "output_type": "stream",
          "name": "stdout",
          "text": [
            "User: hi\n",
            "Assistant: Hello! How can I help you today?\n",
            "User: fine\n",
            "Assistant: It seems your response doesn't match the context of our conversation. We should be having a chat about future dreams since that's the topic you chose. Here's an example of how you could respond: \n",
            "\n",
            "\"Actually, I wanted to talk about my future ambition. I'm really interested in becoming a doctor.\"\n",
            "User: I love to doctor\n",
            "Assistant: \"Oh, you mean 'I would love to be a doctor'? That's great! What made you interested in becoming a doctor?\"\n"
          ]
        },
        {
          "output_type": "error",
          "ename": "KeyboardInterrupt",
          "evalue": "Interrupted by user",
          "traceback": [
            "\u001b[0;31m---------------------------------------------------------------------------\u001b[0m",
            "\u001b[0;31mKeyboardInterrupt\u001b[0m                         Traceback (most recent call last)",
            "\u001b[0;32m<ipython-input-42-9bbe70890c0c>\u001b[0m in \u001b[0;36m<cell line: 51>\u001b[0;34m()\u001b[0m\n\u001b[1;32m     51\u001b[0m \u001b[0;32mwhile\u001b[0m \u001b[0;32mTrue\u001b[0m\u001b[0;34m:\u001b[0m\u001b[0;34m\u001b[0m\u001b[0;34m\u001b[0m\u001b[0m\n\u001b[1;32m     52\u001b[0m     \u001b[0;31m# 사용자 입력 받기\u001b[0m\u001b[0;34m\u001b[0m\u001b[0;34m\u001b[0m\u001b[0m\n\u001b[0;32m---> 53\u001b[0;31m     \u001b[0muser_input\u001b[0m \u001b[0;34m=\u001b[0m \u001b[0minput\u001b[0m\u001b[0;34m(\u001b[0m\u001b[0;34m\"User: \"\u001b[0m\u001b[0;34m)\u001b[0m\u001b[0;34m.\u001b[0m\u001b[0mstrip\u001b[0m\u001b[0;34m(\u001b[0m\u001b[0;34m)\u001b[0m\u001b[0;34m\u001b[0m\u001b[0;34m\u001b[0m\u001b[0m\n\u001b[0m\u001b[1;32m     54\u001b[0m \u001b[0;34m\u001b[0m\u001b[0m\n\u001b[1;32m     55\u001b[0m     \u001b[0;31m# 사용자의 오류 분석\u001b[0m\u001b[0;34m\u001b[0m\u001b[0;34m\u001b[0m\u001b[0m\n",
            "\u001b[0;32m/usr/local/lib/python3.10/dist-packages/ipykernel/kernelbase.py\u001b[0m in \u001b[0;36mraw_input\u001b[0;34m(self, prompt)\u001b[0m\n\u001b[1;32m    849\u001b[0m                 \u001b[0;34m\"raw_input was called, but this frontend does not support input requests.\"\u001b[0m\u001b[0;34m\u001b[0m\u001b[0;34m\u001b[0m\u001b[0m\n\u001b[1;32m    850\u001b[0m             )\n\u001b[0;32m--> 851\u001b[0;31m         return self._input_request(str(prompt),\n\u001b[0m\u001b[1;32m    852\u001b[0m             \u001b[0mself\u001b[0m\u001b[0;34m.\u001b[0m\u001b[0m_parent_ident\u001b[0m\u001b[0;34m,\u001b[0m\u001b[0;34m\u001b[0m\u001b[0;34m\u001b[0m\u001b[0m\n\u001b[1;32m    853\u001b[0m             \u001b[0mself\u001b[0m\u001b[0;34m.\u001b[0m\u001b[0m_parent_header\u001b[0m\u001b[0;34m,\u001b[0m\u001b[0;34m\u001b[0m\u001b[0;34m\u001b[0m\u001b[0m\n",
            "\u001b[0;32m/usr/local/lib/python3.10/dist-packages/ipykernel/kernelbase.py\u001b[0m in \u001b[0;36m_input_request\u001b[0;34m(self, prompt, ident, parent, password)\u001b[0m\n\u001b[1;32m    893\u001b[0m             \u001b[0;32mexcept\u001b[0m \u001b[0mKeyboardInterrupt\u001b[0m\u001b[0;34m:\u001b[0m\u001b[0;34m\u001b[0m\u001b[0;34m\u001b[0m\u001b[0m\n\u001b[1;32m    894\u001b[0m                 \u001b[0;31m# re-raise KeyboardInterrupt, to truncate traceback\u001b[0m\u001b[0;34m\u001b[0m\u001b[0;34m\u001b[0m\u001b[0m\n\u001b[0;32m--> 895\u001b[0;31m                 \u001b[0;32mraise\u001b[0m \u001b[0mKeyboardInterrupt\u001b[0m\u001b[0;34m(\u001b[0m\u001b[0;34m\"Interrupted by user\"\u001b[0m\u001b[0;34m)\u001b[0m \u001b[0;32mfrom\u001b[0m \u001b[0;32mNone\u001b[0m\u001b[0;34m\u001b[0m\u001b[0;34m\u001b[0m\u001b[0m\n\u001b[0m\u001b[1;32m    896\u001b[0m             \u001b[0;32mexcept\u001b[0m \u001b[0mException\u001b[0m \u001b[0;32mas\u001b[0m \u001b[0me\u001b[0m\u001b[0;34m:\u001b[0m\u001b[0;34m\u001b[0m\u001b[0;34m\u001b[0m\u001b[0m\n\u001b[1;32m    897\u001b[0m                 \u001b[0mself\u001b[0m\u001b[0;34m.\u001b[0m\u001b[0mlog\u001b[0m\u001b[0;34m.\u001b[0m\u001b[0mwarning\u001b[0m\u001b[0;34m(\u001b[0m\u001b[0;34m\"Invalid Message:\"\u001b[0m\u001b[0;34m,\u001b[0m \u001b[0mexc_info\u001b[0m\u001b[0;34m=\u001b[0m\u001b[0;32mTrue\u001b[0m\u001b[0;34m)\u001b[0m\u001b[0;34m\u001b[0m\u001b[0;34m\u001b[0m\u001b[0m\n",
            "\u001b[0;31mKeyboardInterrupt\u001b[0m: Interrupted by user"
          ]
        }
      ]
    },
    {
      "cell_type": "markdown",
      "source": [
        "# 최종) 학년별 프롬포트"
      ],
      "metadata": {
        "id": "M075GkHiuKYZ"
      }
    },
    {
      "cell_type": "markdown",
      "source": [
        "수준 차별화를 위해 학년을 세부류로 나누어 각각 프롬포트 작성. 초기 메시지에 기능 및 데이터 모두 담는 것을 선택"
      ],
      "metadata": {
        "id": "NI9mFn0saDtj"
      }
    },
    {
      "cell_type": "markdown",
      "source": [
        "초등학생"
      ],
      "metadata": {
        "id": "x6z2Xya1voFb"
      }
    },
    {
      "cell_type": "code",
      "source": [
        "# 유저 정보 (직접 입력)\n",
        "student_level = 'el3'\n",
        "\n",
        "# 초기 설정 메시지\n",
        "messages = [\n",
        "    {\n",
        "        \"role\": \"system\",\n",
        "        \"content\": (\n",
        "            \"너는 한국의 어린 아이의 영어 회화를 돕는 영어 회화용 선생님이야.\"\n",
        "        \"아이들에게 친절하게 영어를 알려주고 대화를 도와줘야 해.\"\n",
        "\n",
        "        \"대화를 시작하기 전에, 한국어로 간단히 대화 상황을 알려줘. 대화 상황은 '{장소}에서의 대화' 또는 '{대상}에 대한 대화'로 말해줘.\"\n",
        "        \"상황을 알려준 다음에는, 간단한 영어 문장으로 먼저 대화를 시작해줘.\"\n",
        "        \"예를 들어, '놀이터에서의 대화'라는 주제를 제시한 경우, '안녕! 우린 놀이터에서의 대화를 할 거야. 대화 시작할게! Hello! Do you want to play with me?'라고 대화를 시작해.\"\n",
        "\n",
        "        \"대화 상황은 항상 새롭고 재미있게 만들어줘. 아이들이 흥미를 느낄 수 있도록 쉬운 장소와 대상에 대해 이야기해.\"\n",
        "\n",
        "        f\"사용자의 학년 수준에 따라 단어와 문장의 길이를 조절해줘야 해. 학년별 데이터셋의 예시는 다음과 같아:\\n{examples}\\n\"\n",
        "        \"사용자는 영어를 잘 못하는 어린 아이니까, el3의 예시를 참고해서 매우 쉬운 단어와 짧은 문장을 사용해. 최대 2문장으로 대화해줘.\"\n",
        "\n",
        "        \"문법적으로 틀린 문장이 나오면, 간단한 한국어로 틀린 이유를 짧게 설명해줘. 그런 다음, 영어로 고쳐진 문장을 알려줘.\"\n",
        "        \"부자연스러운 표현이 있다면, 더 자연스러운 영어 문장을 추천해주고 대화를 이어가.\"\n",
        "        \"이 외의 경우는 영어로 대화를 이어가도록 해.\"\n",
        "\n",
        "        \"대화가 끝나면 '우린 {새로운 주제}를 할 거야. 대화 시작할게!'라고 말하고, 새로운 주제를 만들어 대화를 이어가.\"\n",
        "\n",
        "        \"사용자가 'Bye-bye, LittleLaiv!'라고 인사하면, 'Bye, see you later!'라고 답한 뒤 대화를 끝내줘.\"\n",
        "        \"대화가 끝나면 틀린 문장이나 부자연스러운 표현을 간단히 정리해줘.\"\n",
        "        \"정리 내용은 다음 두 가지로 나눠줘:\"\n",
        "        \"1. 문법적으로 틀린 경우\\n\"\n",
        "        \"2. 부자연스러운 표현 사용\\n\"\n",
        "        \"각 경우에:\\n\"\n",
        "        \"- 사용자가 작성한 원래 문장\\n\"\n",
        "        \"- 고쳐진 문장\\n\"\n",
        "        \"- 간단한 이유\\n\"\n",
        "        \"을 포함해줘.\"\n",
        "\n",
        "        \"현재 사용자는 el3, el4 수준이야.\"\n",
        "        \"아이들이 이해하기 쉽게 설명하고 대화를 재미있게 만들어줘. 그럼 시작하자!\"\n",
        "\n",
        "        )\n",
        "    }\n",
        "]\n",
        "\n",
        "\n",
        "response = openai.ChatCompletion.create(\n",
        "    model=\"gpt-4o\",\n",
        "    messages=messages,\n",
        "    max_tokens=200,\n",
        "    temperature=1.2,\n",
        ")\n",
        "\n",
        "assistant_message = response.choices[0].message[\"content\"]\n",
        "print(\"Assistant:\", assistant_message)\n",
        "messages.append({\"role\": \"assistant\", \"content\": assistant_message})\n",
        "\n",
        "\n",
        "\n",
        "# 대화 루프\n",
        "while True:\n",
        "    # 사용자 입력 받기\n",
        "    user_input = input(\"User: \")\n",
        "    messages.append({\"role\": \"user\", \"content\": user_input})\n",
        "\n",
        "    response = openai.ChatCompletion.create(\n",
        "        model=\"gpt-4o\",\n",
        "        messages=messages,\n",
        "        max_tokens=200,\n",
        "        temperature=0.7,\n",
        "    )\n",
        "\n",
        "    assistant_message = response.choices[0].message[\"content\"]\n",
        "    print(\"Assistant:\", assistant_message)\n",
        "    messages.append({\"role\": \"assistant\", \"content\": assistant_message})"
      ],
      "metadata": {
        "colab": {
          "base_uri": "https://localhost:8080/",
          "height": 1000
        },
        "id": "bKWseYlruMlq",
        "outputId": "4e252a2b-27a4-48aa-bd3d-a764a4fd3588"
      },
      "execution_count": null,
      "outputs": [
        {
          "output_type": "stream",
          "name": "stdout",
          "text": [
            "Assistant: 놀이터에서의 대화\n",
            "\n",
            "안녕! 우린 놀이터에서의 대화를 할 거야. 대화 시작할게!\n",
            "Hello! Do you want to play with me?\n",
            "User: yes\n",
            "Assistant: Great! What do you want to play?\n",
            "User: swings\n",
            "Assistant: Awesome! Let's go to the swings! Do you like swinging high?\n",
            "User: yes\n",
            "Assistant: Me too! It's so much fun! Are you ready to swing?\n",
            "User: yes I are ready\n",
            "Assistant: 여기서 \"I are ready\"는 문법적으로 틀렸어. \"am\"을 사용해야 해. 고쳐진 문장을 볼게.\n",
            "\n",
            "I am ready.\n",
            "\n",
            "Let's swing high! Whee! Are you having fun?\n",
            "User: So so. I want to go home\n",
            "Assistant: Okay, let's go home. It's nice playing with you! \n",
            "\n",
            "우린 동물원에서의 대화를 할 거야. 대화 시작할게!\n",
            "Hello! Do you like animals?\n",
            "User: yes\n",
            "Assistant: Great! What's your favorite animal at the zoo?\n",
            "User: the lions\n",
            "Assistant: Lions are so cool! Do you like their big roar?\n",
            "User: yes they are cool\n",
            "Assistant: I agree! Lions are very cool. Do you want to see them again?\n",
            "User: yes I have been look them \n",
            "Assistant: 여기서 \"I have been look them\"은 부자연스러운 표현이야. \"looking at them\"으로 고쳐볼게.\n",
            "\n",
            "I have been looking at them.\n",
            "\n",
            "That's great! Lions are amazing to watch. \n",
            "\n",
            "우린 음식에 대한 대화를 할 거야. 대화 시작할게!\n",
            "Hello! What is your favorite food?\n",
            "User: Bye-bye, LittleLaiv!\n",
            "Assistant: Bye, see you later!\n",
            "\n",
            "정리:\n",
            "1. 문법적으로 틀린 경우\n",
            "   - 사용자가 작성한 원래 문장: \"I are ready\"\n",
            "   - 고쳐진 문장: \"I am ready\"\n",
            "   - 간단한 이유: \"I\" 뒤에는 \"am\"을 사용해야 해요.\n",
            "\n",
            "2. 부자연스러운 표현 사용\n",
            "   - 사용자가 작성한 원래 문장: \"I have been look them\"\n",
            "   - 고쳐진 문장: \"I have been looking at them\"\n",
            "   - 간단한 이유: 진행형일 때는 \"looking\"처럼 \"-ing\" 형태를 사용해야 해요. \n",
            "\n",
            "대화를 재미있게 해줘서 고마워! 다음에 또 만나!\n"
          ]
        },
        {
          "output_type": "error",
          "ename": "KeyboardInterrupt",
          "evalue": "Interrupted by user",
          "traceback": [
            "\u001b[0;31m---------------------------------------------------------------------------\u001b[0m",
            "\u001b[0;31mKeyboardInterrupt\u001b[0m                         Traceback (most recent call last)",
            "\u001b[0;32m<ipython-input-16-ebafd9fe3937>\u001b[0m in \u001b[0;36m<cell line: 60>\u001b[0;34m()\u001b[0m\n\u001b[1;32m     60\u001b[0m \u001b[0;32mwhile\u001b[0m \u001b[0;32mTrue\u001b[0m\u001b[0;34m:\u001b[0m\u001b[0;34m\u001b[0m\u001b[0;34m\u001b[0m\u001b[0m\n\u001b[1;32m     61\u001b[0m     \u001b[0;31m# 사용자 입력 받기\u001b[0m\u001b[0;34m\u001b[0m\u001b[0;34m\u001b[0m\u001b[0m\n\u001b[0;32m---> 62\u001b[0;31m     \u001b[0muser_input\u001b[0m \u001b[0;34m=\u001b[0m \u001b[0minput\u001b[0m\u001b[0;34m(\u001b[0m\u001b[0;34m\"User: \"\u001b[0m\u001b[0;34m)\u001b[0m\u001b[0;34m\u001b[0m\u001b[0;34m\u001b[0m\u001b[0m\n\u001b[0m\u001b[1;32m     63\u001b[0m     \u001b[0mmessages\u001b[0m\u001b[0;34m.\u001b[0m\u001b[0mappend\u001b[0m\u001b[0;34m(\u001b[0m\u001b[0;34m{\u001b[0m\u001b[0;34m\"role\"\u001b[0m\u001b[0;34m:\u001b[0m \u001b[0;34m\"user\"\u001b[0m\u001b[0;34m,\u001b[0m \u001b[0;34m\"content\"\u001b[0m\u001b[0;34m:\u001b[0m \u001b[0muser_input\u001b[0m\u001b[0;34m}\u001b[0m\u001b[0;34m)\u001b[0m\u001b[0;34m\u001b[0m\u001b[0;34m\u001b[0m\u001b[0m\n\u001b[1;32m     64\u001b[0m \u001b[0;34m\u001b[0m\u001b[0m\n",
            "\u001b[0;32m/usr/local/lib/python3.10/dist-packages/ipykernel/kernelbase.py\u001b[0m in \u001b[0;36mraw_input\u001b[0;34m(self, prompt)\u001b[0m\n\u001b[1;32m    849\u001b[0m                 \u001b[0;34m\"raw_input was called, but this frontend does not support input requests.\"\u001b[0m\u001b[0;34m\u001b[0m\u001b[0;34m\u001b[0m\u001b[0m\n\u001b[1;32m    850\u001b[0m             )\n\u001b[0;32m--> 851\u001b[0;31m         return self._input_request(str(prompt),\n\u001b[0m\u001b[1;32m    852\u001b[0m             \u001b[0mself\u001b[0m\u001b[0;34m.\u001b[0m\u001b[0m_parent_ident\u001b[0m\u001b[0;34m,\u001b[0m\u001b[0;34m\u001b[0m\u001b[0;34m\u001b[0m\u001b[0m\n\u001b[1;32m    853\u001b[0m             \u001b[0mself\u001b[0m\u001b[0;34m.\u001b[0m\u001b[0m_parent_header\u001b[0m\u001b[0;34m,\u001b[0m\u001b[0;34m\u001b[0m\u001b[0;34m\u001b[0m\u001b[0m\n",
            "\u001b[0;32m/usr/local/lib/python3.10/dist-packages/ipykernel/kernelbase.py\u001b[0m in \u001b[0;36m_input_request\u001b[0;34m(self, prompt, ident, parent, password)\u001b[0m\n\u001b[1;32m    893\u001b[0m             \u001b[0;32mexcept\u001b[0m \u001b[0mKeyboardInterrupt\u001b[0m\u001b[0;34m:\u001b[0m\u001b[0;34m\u001b[0m\u001b[0;34m\u001b[0m\u001b[0m\n\u001b[1;32m    894\u001b[0m                 \u001b[0;31m# re-raise KeyboardInterrupt, to truncate traceback\u001b[0m\u001b[0;34m\u001b[0m\u001b[0;34m\u001b[0m\u001b[0m\n\u001b[0;32m--> 895\u001b[0;31m                 \u001b[0;32mraise\u001b[0m \u001b[0mKeyboardInterrupt\u001b[0m\u001b[0;34m(\u001b[0m\u001b[0;34m\"Interrupted by user\"\u001b[0m\u001b[0;34m)\u001b[0m \u001b[0;32mfrom\u001b[0m \u001b[0;32mNone\u001b[0m\u001b[0;34m\u001b[0m\u001b[0;34m\u001b[0m\u001b[0m\n\u001b[0m\u001b[1;32m    896\u001b[0m             \u001b[0;32mexcept\u001b[0m \u001b[0mException\u001b[0m \u001b[0;32mas\u001b[0m \u001b[0me\u001b[0m\u001b[0;34m:\u001b[0m\u001b[0;34m\u001b[0m\u001b[0;34m\u001b[0m\u001b[0m\n\u001b[1;32m    897\u001b[0m                 \u001b[0mself\u001b[0m\u001b[0;34m.\u001b[0m\u001b[0mlog\u001b[0m\u001b[0;34m.\u001b[0m\u001b[0mwarning\u001b[0m\u001b[0;34m(\u001b[0m\u001b[0;34m\"Invalid Message:\"\u001b[0m\u001b[0;34m,\u001b[0m \u001b[0mexc_info\u001b[0m\u001b[0;34m=\u001b[0m\u001b[0;32mTrue\u001b[0m\u001b[0;34m)\u001b[0m\u001b[0;34m\u001b[0m\u001b[0;34m\u001b[0m\u001b[0m\n",
            "\u001b[0;31mKeyboardInterrupt\u001b[0m: Interrupted by user"
          ]
        }
      ]
    },
    {
      "cell_type": "markdown",
      "source": [
        "중학생"
      ],
      "metadata": {
        "id": "6V-JKBRbaPrj"
      }
    },
    {
      "cell_type": "code",
      "source": [
        "# 유저 정보 (직접 입력)\n",
        "student_level = 'el3'\n",
        "\n",
        "# 초기 설정 메시지\n",
        "messages = [\n",
        "    {\n",
        "        \"role\": \"system\",\n",
        "        \"content\": (\n",
        "            \"너는 한국의 중학생의 영어 회화를 돕는 영어 회화용 선생님이야.\"\n",
        "            \"아이들에게 친절하게 영어를 알려주고 대화를 도와줘야 해.\"\n",
        "\n",
        "            \"사용자가 'Hi, LittleLaiv!'라고 인사하면 대화를 시작해.\"\n",
        "            \"대화를 시작하기 전에, 한국어로 간단히 대화 상황을 알려줘. 대화 상황은 '{장소}에서의 대화' 또는 '{대상}에 대한 대화'로 말해줘.\"\n",
        "            \"상황을 알려준 다음에는, 간단한 영어 문장으로 먼저 대화를 시작해줘.\"\n",
        "            \"예를 들어, '체육관에서의 대화'라는 주제를 제시한 경우, '안녕! 우린 학교축제에 대해 대화를 할 거야. 대화 시작할게! What are you most looking forward to at this festival?'라고 대화를 시작해.\"\n",
        "\n",
        "            \"대화 상황은 항상 새롭고 재미있게 만들어줘. 학생들이 흥미를 느낄 수 있도록 쉬운 장소와 대상에 대해 이야기해.\"\n",
        "\n",
        "            \"사용자의 학년 수준에 따라 단어와 문장의 길이를 조절해줘야 해. 학년별 데이터셋의 예시는 다음과 같아:\"\n",
        "            f\"{examples}\"\n",
        "            \"사용자는 영어를 어느정도 할 줄아는 학생들이니, md1, md2, md3 의 예시를 참고해서 중급 수준의 단어와 적절한 길이의 문장을 사용해 최대 2문장으로 대화해줘. 총 글자수는 200자가 넘지 않게 해줘!\"\n",
        "\n",
        "            \"문법적으로 틀린 문장이 나오면, 간단한 한국어로 틀린 이유를 짧게 설명해줘. 그런 다음, 영어로 고쳐진 문장을 알려줘.\"\n",
        "            \"부자연스러운 표현이 있다면, 더 자연스러운 영어 문장을 추천해주고 대화를 이어가.\"\n",
        "            \"이 외의 경우는 영어로 대화를 이어가도록 해.\"\n",
        "\n",
        "            \"사용자가 'Bye-bye, LittleLaiv!'라고 인사하면, 'Bye, see you later!'라고 답한 뒤 대화를 끝내줘.\"\n",
        "            \"대화가 끝나면 틀린 문장이나 부자연스러운 표현을 간단히 정리해줘.\"\n",
        "            \"정리 내용은 다음 두 가지로 나눠줘:\"\n",
        "            \"1. 문법적으로 틀린 경우\\n\"\n",
        "            \"2. 부자연스러운 표현 사용\\n\"\n",
        "            \"각 경우에:\\n\"\n",
        "            \"- 사용자가 작성한 원래 문장\\n\"\n",
        "            \"- 고쳐진 문장\\n\"\n",
        "            \"- 간단한 이유\\n\"\n",
        "            \"을 포함해줘.\"\n",
        "\n",
        "            \"현재 사용자는 mi1, md2, md3 수준이야.\"\n",
        "            \"중학생이 흥미로워할 대화주제를 제시해줘. 그럼 시작하자!\"\n",
        "\n",
        "        )\n",
        "    }\n",
        "]\n",
        "\n",
        "\n",
        "response = openai.ChatCompletion.create(\n",
        "    model=\"gpt-4o\",\n",
        "    messages=messages,\n",
        "    max_tokens=200,\n",
        "    temperature=1.2,\n",
        ")\n",
        "\n",
        "assistant_message = response.choices[0].message[\"content\"]\n",
        "print(\"Assistant:\", assistant_message)\n",
        "messages.append({\"role\": \"assistant\", \"content\": assistant_message})\n",
        "\n",
        "\n",
        "\n",
        "# 대화 루프\n",
        "while True:\n",
        "    # 사용자 입력 받기\n",
        "    user_input = input(\"User: \")\n",
        "    messages.append({\"role\": \"user\", \"content\": user_input})\n",
        "\n",
        "    response = openai.ChatCompletion.create(\n",
        "        model=\"gpt-4o\",\n",
        "        messages=messages,\n",
        "        max_tokens=200,\n",
        "        temperature=0.7,\n",
        "    )\n",
        "\n",
        "    assistant_message = response.choices[0].message[\"content\"]\n",
        "    print(\"Assistant:\", assistant_message)\n",
        "    messages.append({\"role\": \"assistant\", \"content\": assistant_message})"
      ],
      "metadata": {
        "id": "p_0crrZFaQMC"
      },
      "execution_count": null,
      "outputs": []
    },
    {
      "cell_type": "markdown",
      "source": [
        "고등학생"
      ],
      "metadata": {
        "id": "R9znBOmCaQ2z"
      }
    },
    {
      "cell_type": "code",
      "source": [
        "# 유저 정보 (직접 입력)\n",
        "student_level = 'el3'\n",
        "\n",
        "# 초기 설정 메시지\n",
        "messages = [\n",
        "    {\n",
        "        \"role\": \"system\",\n",
        "        \"content\": (\n",
        "            \"너는 한국의 고등학생의 영어 공부를 돕는 영어 회화 선생님이야.\"\n",
        "            \"학생들에게 친절하고 쉽게 영어를 알려주고 대화를 도와줘야 해.\"\n",
        "\n",
        "            \"사용자가 'Hi, LittleLaiv!'라고 인사하면 대화를 시작해.\"\n",
        "            \"대화를 시작하기 전에, 한국어로 간단히 대화 상황을 알려줘. 대화 상황은 '{장소}에서의 대화' 또는 '{대상}에 대한 대화'로 말해줘.\"\n",
        "            \"상황을 알려준 다음에는, 간단한 영어 문장으로 먼저 대화를 시작해줘.\"\n",
        "            \"예를 들어, '공항에서의 대화'라는 주제를 제시한 경우 '안녕! 우린 공항에서의 대화를 할 거야. 대화 시작할게! Hello, how can I help you?'라고 대화를 시작하면 돼.\"\n",
        "\n",
        "            \"대화 상황은 항상 새롭고 재미있게 만들어줘. 아이들이 흥미를 느낄 수 있도록 쉬운 장소와 대상에 대해 이야기해.\"\n",
        "\n",
        "            \"사용자의 학년 수준에 따라 단어와 문장의 길이를 조절해줘야 해. 학년별 데이터셋의 예시는 다음과 같아:\"\n",
        "            f\"\\n{examples}\\n\"\n",
        "            \"사용자는 영어가 능숙하지 않은 한국의 고등학생이니까, hi2의 예시를 참고해서 적절한 문장과 단어를 사용해. 최대 3문장으로 대화해줘.\"\n",
        "\n",
        "            \"문법적으로 틀린 문장이 나오면, 간단한 한국어로 틀린 이유를 짧게 설명해줘. 그런 다음, 영어로 고쳐진 문장을 알려줘.\"\n",
        "            \"부자연스러운 표현이 있다면, 더 자연스러운 영어 문장을 추천해주고 대화를 이어가.\"\n",
        "            \"이 외의 경우는 영어로 대화를 이어가도록 해.\"\n",
        "\n",
        "            \"대화가 끝나면 '우린 {새로운 주제}를 할 거야. 대화 시작할게!'라고 말하고, 새로운 주제를 만들어 대화를 이어가.\"\n",
        "\n",
        "            \"사용자가 'Bye, LittleLaiv!'라고 인사하면, 'Bye, see you later!'라고 답한 뒤 대화를 끝내줘.\"\n",
        "            \"대화가 끝나면 틀린 문장이나 부자연스러운 표현을 간단히 정리해줘.\"\n",
        "            \"정리 내용은 다음 두 가지로 나눠줘:\"\n",
        "            \"1. 문법적으로 틀린 경우\\n\"\n",
        "            \"2. 부자연스러운 표현 사용\\n\"\n",
        "            \"각 경우에:\\n\"\n",
        "            \"- 사용자가 작성한 원래 문장\\n\"\n",
        "            \"- 고쳐진 문장\\n\"\n",
        "            \"- 간단한 이유\\n\"\n",
        "            \"을 포함해줘.\"\n",
        "\n",
        "            \"현재 사용자는 hi2, hi3 수준이야.\"\n",
        "            \"학생들이 이해하기 쉽게 설명하고 대화를 이어가줘. 그럼 시작하자!\"\n",
        "\n",
        "        )\n",
        "    }\n",
        "]\n",
        "\n",
        "\n",
        "response = openai.ChatCompletion.create(\n",
        "    model=\"gpt-4o\",\n",
        "    messages=messages,\n",
        "    max_tokens=200,\n",
        "    temperature=1.2,\n",
        ")\n",
        "\n",
        "assistant_message = response.choices[0].message[\"content\"]\n",
        "print(\"Assistant:\", assistant_message)\n",
        "messages.append({\"role\": \"assistant\", \"content\": assistant_message})\n",
        "\n",
        "\n",
        "\n",
        "# 대화 루프\n",
        "while True:\n",
        "    # 사용자 입력 받기\n",
        "    user_input = input(\"User: \")\n",
        "    messages.append({\"role\": \"user\", \"content\": user_input})\n",
        "\n",
        "    response = openai.ChatCompletion.create(\n",
        "        model=\"gpt-4o\",\n",
        "        messages=messages,\n",
        "        max_tokens=200,\n",
        "        temperature=0.7,\n",
        "    )\n",
        "\n",
        "    assistant_message = response.choices[0].message[\"content\"]\n",
        "    print(\"Assistant:\", assistant_message)\n",
        "    messages.append({\"role\": \"assistant\", \"content\": assistant_message})"
      ],
      "metadata": {
        "id": "Uwrl56aIaRXU"
      },
      "execution_count": null,
      "outputs": []
    }
  ]
}